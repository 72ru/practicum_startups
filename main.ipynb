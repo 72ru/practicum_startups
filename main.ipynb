{
 "cells": [
  {
   "metadata": {},
   "cell_type": "code",
   "outputs": [],
   "execution_count": null,
   "source": "",
   "id": "68af3f7262ec6c04"
  },
  {
   "metadata": {},
   "cell_type": "code",
   "outputs": [],
   "execution_count": 1,
   "source": [
    "import pandas as pd\n",
    "import matplotlib.pyplot as plt\n",
    "import seaborn as sns\n",
    "from scipy import stats\n",
    "from phik.report import plot_correlation_matrix\n",
    "import numpy as np\n",
    "from scipy.stats import shapiro\n",
    "\n",
    "# загружаем класс pipeline\n",
    "from imblearn.pipeline import Pipeline, make_pipeline\n",
    "from sklearn.pipeline import FeatureUnion\n",
    "\n",
    "# загружаем классы для подготовки данных\n",
    "from sklearn.model_selection import train_test_split\n",
    "from sklearn.preprocessing import OneHotEncoder, StandardScaler, MinMaxScaler, OrdinalEncoder\n",
    "from sklearn.compose import make_column_selector, make_column_transformer, ColumnTransformer\n",
    "\n",
    "# загружаем класс для работы с пропусками\n",
    "from sklearn.impute import SimpleImputer\n",
    "\n",
    "# загружаем функцию для работы с метриками\n",
    "from sklearn.metrics import f1_score, mean_absolute_error, classification_report\n",
    "\n",
    "# импортируем класс RandomizedSearchCV\n",
    "from sklearn.model_selection import RandomizedSearchCV\n",
    "\n",
    "from imblearn.over_sampling import SMOTE\n",
    "\n",
    "# загружаем нужные модели\n",
    "from sklearn.linear_model import LogisticRegression\n",
    "from sklearn.tree import DecisionTreeClassifier\n",
    "from sklearn.ensemble import RandomForestClassifier, GradientBoostingClassifier\n",
    "from sklearn.neural_network import MLPClassifier\n",
    "\n",
    "import warnings"
   ],
   "id": "a9dd1bc7fd722469"
  },
  {
   "cell_type": "code",
   "source": [
    "pd.set_option('display.float_format', '{:,.2f}'.format)\n",
    "warnings.filterwarnings('ignore')"
   ],
   "metadata": {
    "collapsed": false,
    "ExecuteTime": {
     "end_time": "2024-04-12T12:51:29.921731Z",
     "start_time": "2024-04-12T12:51:29.919248Z"
    }
   },
   "id": "adcf185ad41c3f2",
   "outputs": [],
   "execution_count": 2
  },
  {
   "cell_type": "markdown",
   "source": [
    "## Загрузка и подготовка данных"
   ],
   "metadata": {
    "collapsed": false
   },
   "id": "3edd965a23ec98d7"
  },
  {
   "cell_type": "markdown",
   "source": [
    "### Тренировочная выборка"
   ],
   "metadata": {
    "collapsed": false
   },
   "id": "dd8ea47f67b5f193"
  },
  {
   "metadata": {
    "ExecuteTime": {
     "end_time": "2024-04-12T12:51:32.892522Z",
     "start_time": "2024-04-12T12:51:32.797136Z"
    }
   },
   "cell_type": "code",
   "source": [
    "df_train = pd.read_csv('datasets/kaggle_startups_train_01.csv')\n",
    "df_train.head(10)"
   ],
   "id": "c34402520b951c26",
   "outputs": [
    {
     "data": {
      "text/plain": [
       "                        name  \\\n",
       "0                  Lunchgate   \n",
       "1                    EarLens   \n",
       "2     Reviva Pharmaceuticals   \n",
       "3       Sancilio and Company   \n",
       "4        WireTough Cylinders   \n",
       "5  Connected Sports Ventures   \n",
       "6                  Attensity   \n",
       "7              Mesh Networks   \n",
       "8                 AngioScore   \n",
       "9                 Vidatronic   \n",
       "\n",
       "                                       category_list  funding_total_usd  \\\n",
       "0                    Online Reservations|Restaurants         828,626.00   \n",
       "1              Manufacturing|Medical|Medical Devices      42,935,019.00   \n",
       "2                                      Biotechnology      35,456,381.00   \n",
       "3                                        Health Care      22,250,000.00   \n",
       "4                                      Manufacturing                NaN   \n",
       "5                                             Mobile       4,300,000.00   \n",
       "6  Analytics|Business Analytics|Social CRM|Social...      90,000,000.00   \n",
       "7                                           Software       4,300,000.00   \n",
       "8                                      Biotechnology      42,000,000.00   \n",
       "9                                     Semiconductors       1,250,500.00   \n",
       "\n",
       "      status country_code state_code       region             city  \\\n",
       "0  operating          CHE         25       Zurich           Zürich   \n",
       "1  operating          USA         CA  SF Bay Area     Redwood City   \n",
       "2  operating          USA         CA  SF Bay Area         San Jose   \n",
       "3  operating          NaN        NaN          NaN              NaN   \n",
       "4  operating          USA         VA   VA - Other          Bristol   \n",
       "5  operating          USA         NJ       Newark        Princeton   \n",
       "6  operating          USA         CA  SF Bay Area     Redwood City   \n",
       "7  operating          USA         TX      Houston          Houston   \n",
       "8  operating          USA         CA  SF Bay Area          Fremont   \n",
       "9  operating          USA         TX       Austin  College Station   \n",
       "\n",
       "   funding_rounds  founded_at first_funding_at last_funding_at closed_at  \n",
       "0               2  2010-06-24       2011-05-01      2014-12-01       NaN  \n",
       "1               4  2005-01-01       2010-05-04      2014-02-25       NaN  \n",
       "2               3  2006-01-01       2012-08-20      2014-07-02       NaN  \n",
       "3               3  2004-01-01       2011-09-01      2014-07-18       NaN  \n",
       "4               1  2010-07-30       2012-02-01      2012-02-01       NaN  \n",
       "5               1  2011-04-21       2012-11-12      2012-11-12       NaN  \n",
       "6               1  2000-01-01       2014-05-14      2014-05-14       NaN  \n",
       "7               1  2005-01-01       2014-11-09      2014-11-09       NaN  \n",
       "8               2  2003-01-01       2007-10-09      2011-04-20       NaN  \n",
       "9               2  2010-01-01       2011-08-23      2013-03-21       NaN  "
      ],
      "text/html": [
       "<div>\n",
       "<style scoped>\n",
       "    .dataframe tbody tr th:only-of-type {\n",
       "        vertical-align: middle;\n",
       "    }\n",
       "\n",
       "    .dataframe tbody tr th {\n",
       "        vertical-align: top;\n",
       "    }\n",
       "\n",
       "    .dataframe thead th {\n",
       "        text-align: right;\n",
       "    }\n",
       "</style>\n",
       "<table border=\"1\" class=\"dataframe\">\n",
       "  <thead>\n",
       "    <tr style=\"text-align: right;\">\n",
       "      <th></th>\n",
       "      <th>name</th>\n",
       "      <th>category_list</th>\n",
       "      <th>funding_total_usd</th>\n",
       "      <th>status</th>\n",
       "      <th>country_code</th>\n",
       "      <th>state_code</th>\n",
       "      <th>region</th>\n",
       "      <th>city</th>\n",
       "      <th>funding_rounds</th>\n",
       "      <th>founded_at</th>\n",
       "      <th>first_funding_at</th>\n",
       "      <th>last_funding_at</th>\n",
       "      <th>closed_at</th>\n",
       "    </tr>\n",
       "  </thead>\n",
       "  <tbody>\n",
       "    <tr>\n",
       "      <th>0</th>\n",
       "      <td>Lunchgate</td>\n",
       "      <td>Online Reservations|Restaurants</td>\n",
       "      <td>828,626.00</td>\n",
       "      <td>operating</td>\n",
       "      <td>CHE</td>\n",
       "      <td>25</td>\n",
       "      <td>Zurich</td>\n",
       "      <td>Zürich</td>\n",
       "      <td>2</td>\n",
       "      <td>2010-06-24</td>\n",
       "      <td>2011-05-01</td>\n",
       "      <td>2014-12-01</td>\n",
       "      <td>NaN</td>\n",
       "    </tr>\n",
       "    <tr>\n",
       "      <th>1</th>\n",
       "      <td>EarLens</td>\n",
       "      <td>Manufacturing|Medical|Medical Devices</td>\n",
       "      <td>42,935,019.00</td>\n",
       "      <td>operating</td>\n",
       "      <td>USA</td>\n",
       "      <td>CA</td>\n",
       "      <td>SF Bay Area</td>\n",
       "      <td>Redwood City</td>\n",
       "      <td>4</td>\n",
       "      <td>2005-01-01</td>\n",
       "      <td>2010-05-04</td>\n",
       "      <td>2014-02-25</td>\n",
       "      <td>NaN</td>\n",
       "    </tr>\n",
       "    <tr>\n",
       "      <th>2</th>\n",
       "      <td>Reviva Pharmaceuticals</td>\n",
       "      <td>Biotechnology</td>\n",
       "      <td>35,456,381.00</td>\n",
       "      <td>operating</td>\n",
       "      <td>USA</td>\n",
       "      <td>CA</td>\n",
       "      <td>SF Bay Area</td>\n",
       "      <td>San Jose</td>\n",
       "      <td>3</td>\n",
       "      <td>2006-01-01</td>\n",
       "      <td>2012-08-20</td>\n",
       "      <td>2014-07-02</td>\n",
       "      <td>NaN</td>\n",
       "    </tr>\n",
       "    <tr>\n",
       "      <th>3</th>\n",
       "      <td>Sancilio and Company</td>\n",
       "      <td>Health Care</td>\n",
       "      <td>22,250,000.00</td>\n",
       "      <td>operating</td>\n",
       "      <td>NaN</td>\n",
       "      <td>NaN</td>\n",
       "      <td>NaN</td>\n",
       "      <td>NaN</td>\n",
       "      <td>3</td>\n",
       "      <td>2004-01-01</td>\n",
       "      <td>2011-09-01</td>\n",
       "      <td>2014-07-18</td>\n",
       "      <td>NaN</td>\n",
       "    </tr>\n",
       "    <tr>\n",
       "      <th>4</th>\n",
       "      <td>WireTough Cylinders</td>\n",
       "      <td>Manufacturing</td>\n",
       "      <td>NaN</td>\n",
       "      <td>operating</td>\n",
       "      <td>USA</td>\n",
       "      <td>VA</td>\n",
       "      <td>VA - Other</td>\n",
       "      <td>Bristol</td>\n",
       "      <td>1</td>\n",
       "      <td>2010-07-30</td>\n",
       "      <td>2012-02-01</td>\n",
       "      <td>2012-02-01</td>\n",
       "      <td>NaN</td>\n",
       "    </tr>\n",
       "    <tr>\n",
       "      <th>5</th>\n",
       "      <td>Connected Sports Ventures</td>\n",
       "      <td>Mobile</td>\n",
       "      <td>4,300,000.00</td>\n",
       "      <td>operating</td>\n",
       "      <td>USA</td>\n",
       "      <td>NJ</td>\n",
       "      <td>Newark</td>\n",
       "      <td>Princeton</td>\n",
       "      <td>1</td>\n",
       "      <td>2011-04-21</td>\n",
       "      <td>2012-11-12</td>\n",
       "      <td>2012-11-12</td>\n",
       "      <td>NaN</td>\n",
       "    </tr>\n",
       "    <tr>\n",
       "      <th>6</th>\n",
       "      <td>Attensity</td>\n",
       "      <td>Analytics|Business Analytics|Social CRM|Social...</td>\n",
       "      <td>90,000,000.00</td>\n",
       "      <td>operating</td>\n",
       "      <td>USA</td>\n",
       "      <td>CA</td>\n",
       "      <td>SF Bay Area</td>\n",
       "      <td>Redwood City</td>\n",
       "      <td>1</td>\n",
       "      <td>2000-01-01</td>\n",
       "      <td>2014-05-14</td>\n",
       "      <td>2014-05-14</td>\n",
       "      <td>NaN</td>\n",
       "    </tr>\n",
       "    <tr>\n",
       "      <th>7</th>\n",
       "      <td>Mesh Networks</td>\n",
       "      <td>Software</td>\n",
       "      <td>4,300,000.00</td>\n",
       "      <td>operating</td>\n",
       "      <td>USA</td>\n",
       "      <td>TX</td>\n",
       "      <td>Houston</td>\n",
       "      <td>Houston</td>\n",
       "      <td>1</td>\n",
       "      <td>2005-01-01</td>\n",
       "      <td>2014-11-09</td>\n",
       "      <td>2014-11-09</td>\n",
       "      <td>NaN</td>\n",
       "    </tr>\n",
       "    <tr>\n",
       "      <th>8</th>\n",
       "      <td>AngioScore</td>\n",
       "      <td>Biotechnology</td>\n",
       "      <td>42,000,000.00</td>\n",
       "      <td>operating</td>\n",
       "      <td>USA</td>\n",
       "      <td>CA</td>\n",
       "      <td>SF Bay Area</td>\n",
       "      <td>Fremont</td>\n",
       "      <td>2</td>\n",
       "      <td>2003-01-01</td>\n",
       "      <td>2007-10-09</td>\n",
       "      <td>2011-04-20</td>\n",
       "      <td>NaN</td>\n",
       "    </tr>\n",
       "    <tr>\n",
       "      <th>9</th>\n",
       "      <td>Vidatronic</td>\n",
       "      <td>Semiconductors</td>\n",
       "      <td>1,250,500.00</td>\n",
       "      <td>operating</td>\n",
       "      <td>USA</td>\n",
       "      <td>TX</td>\n",
       "      <td>Austin</td>\n",
       "      <td>College Station</td>\n",
       "      <td>2</td>\n",
       "      <td>2010-01-01</td>\n",
       "      <td>2011-08-23</td>\n",
       "      <td>2013-03-21</td>\n",
       "      <td>NaN</td>\n",
       "    </tr>\n",
       "  </tbody>\n",
       "</table>\n",
       "</div>"
      ]
     },
     "execution_count": 3,
     "metadata": {},
     "output_type": "execute_result"
    }
   ],
   "execution_count": 3
  },
  {
   "metadata": {
    "ExecuteTime": {
     "end_time": "2024-04-12T12:51:34.143889Z",
     "start_time": "2024-04-12T12:51:34.122595Z"
    }
   },
   "cell_type": "code",
   "source": "df_train.info()",
   "id": "c4da362263f751d",
   "outputs": [
    {
     "name": "stdout",
     "output_type": "stream",
     "text": [
      "<class 'pandas.core.frame.DataFrame'>\n",
      "RangeIndex: 52879 entries, 0 to 52878\n",
      "Data columns (total 13 columns):\n",
      " #   Column             Non-Null Count  Dtype  \n",
      "---  ------             --------------  -----  \n",
      " 0   name               52878 non-null  object \n",
      " 1   category_list      50374 non-null  object \n",
      " 2   funding_total_usd  42753 non-null  float64\n",
      " 3   status             52879 non-null  object \n",
      " 4   country_code       47351 non-null  object \n",
      " 5   state_code         46082 non-null  object \n",
      " 6   region             46489 non-null  object \n",
      " 7   city               46489 non-null  object \n",
      " 8   funding_rounds     52879 non-null  int64  \n",
      " 9   founded_at         52879 non-null  object \n",
      " 10  first_funding_at   52858 non-null  object \n",
      " 11  last_funding_at    52879 non-null  object \n",
      " 12  closed_at          4962 non-null   object \n",
      "dtypes: float64(1), int64(1), object(11)\n",
      "memory usage: 5.2+ MB\n"
     ]
    }
   ],
   "execution_count": 4
  },
  {
   "cell_type": "markdown",
   "source": [
    "Описание колонок:\n",
    " \n",
    "- `name` — наименование компании;\n",
    "- `category_list` — категории деятельности компании;\n",
    "- `funding_total_usd` — сумма привлечённых инвестиций в долларах;\n",
    "- `status` — статус компании;\n",
    "- `country_code` — код страны;\n",
    "- `state_code` — код штата;\n",
    "- `region` — регион;\n",
    "- `city` — город;\n",
    "- `funding_rounds` — число раундов, в которых компания привлекала инвестиции;\n",
    "- `founded_at` — дата основания фонда;\n",
    "- `first_funding_at` — дата первого финансирования;\n",
    "- `last_funding_at` — дата последнего финансирования;\n",
    "- `closed_at` — дата закрытия;\n",
    "\n",
    "Наименование колонок корректное, у некоторых колонок не соответствуют типы.\n"
   ],
   "metadata": {
    "collapsed": false
   },
   "id": "52e3de2427759946"
  },
  {
   "cell_type": "markdown",
   "source": [
    "### Тестовая выборка"
   ],
   "metadata": {
    "collapsed": false
   },
   "id": "edc105a4bd240595"
  },
  {
   "cell_type": "markdown",
   "source": [
    "#### Входные признаки тестовой выборки"
   ],
   "metadata": {
    "collapsed": false
   },
   "id": "4656e69e2e276660"
  },
  {
   "cell_type": "code",
   "source": [
    "df_test_features = pd.read_csv('datasets/kaggle_startups_test_01.csv')\n",
    "df_test_features.head(10)"
   ],
   "metadata": {
    "collapsed": false,
    "ExecuteTime": {
     "end_time": "2024-04-12T12:51:37.242180Z",
     "start_time": "2024-04-12T12:51:37.202362Z"
    }
   },
   "id": "6f60881b130b8755",
   "outputs": [
    {
     "data": {
      "text/plain": [
       "                     name                     category_list  \\\n",
       "0              Crystalsol                  Clean Technology   \n",
       "1        JBI Fish & Wings                       Hospitality   \n",
       "2                COINPLUS                           Finance   \n",
       "3  Imagine Communications    Software|Video|Video Streaming   \n",
       "4                   DNA13                          Software   \n",
       "5         Quickfire Games        Design|Entertainment|Games   \n",
       "6              Sente Inc.                     Biotechnology   \n",
       "7                 Triosyn  Health Care|Medical|Therapeutics   \n",
       "8               Urgent.ly                          Software   \n",
       "9           Map Decisions                          Software   \n",
       "\n",
       "   funding_total_usd country_code state_code            region  \\\n",
       "0       2,819,200.00          NIC         17               NaN   \n",
       "1                NaN          USA         TN        TN - Other   \n",
       "2         428,257.00          LUX          3  Esch-sur-alzette   \n",
       "3      34,700,000.00          USA         CA         San Diego   \n",
       "4       4,530,000.00          CAN         ON            Ottawa   \n",
       "5         160,000.00          NaN        NaN               NaN   \n",
       "6      26,842,000.00          USA         CA         San Diego   \n",
       "7       4,000,000.00          NaN        NaN               NaN   \n",
       "8       8,710,000.00          USA         VA  Washington, D.C.   \n",
       "9          13,200.00          USA         PA         Allentown   \n",
       "\n",
       "               city  funding_rounds  founded_at first_funding_at  \\\n",
       "0               NaN               1  2008-06-01       2009-07-01   \n",
       "1          Humboldt               1  2010-07-25       2010-07-28   \n",
       "2  Esch-sur-alzette               2  2014-06-16       2014-05-15   \n",
       "3         San Diego               4  2005-01-01       2005-01-01   \n",
       "4            Ottawa               1  2001-01-01       2007-05-08   \n",
       "5               NaN               2  2013-09-01       2013-09-18   \n",
       "6         Encinitas               5  2007-01-01       2009-01-31   \n",
       "7               NaN               1  2001-12-26       2003-06-02   \n",
       "8          Sterling               3  2013-01-01       2014-04-17   \n",
       "9         Bethlehem               1  2012-05-15       2013-08-09   \n",
       "\n",
       "  last_funding_at closed_at  \n",
       "0      2009-07-01       NaN  \n",
       "1      2010-07-28       NaN  \n",
       "2      2014-09-18       NaN  \n",
       "3      2010-04-20       NaN  \n",
       "4      2007-05-08       NaN  \n",
       "5      2014-09-18       NaN  \n",
       "6      2014-06-02       NaN  \n",
       "7      2003-06-02       NaN  \n",
       "8      2015-09-29       NaN  \n",
       "9      2013-08-09       NaN  "
      ],
      "text/html": [
       "<div>\n",
       "<style scoped>\n",
       "    .dataframe tbody tr th:only-of-type {\n",
       "        vertical-align: middle;\n",
       "    }\n",
       "\n",
       "    .dataframe tbody tr th {\n",
       "        vertical-align: top;\n",
       "    }\n",
       "\n",
       "    .dataframe thead th {\n",
       "        text-align: right;\n",
       "    }\n",
       "</style>\n",
       "<table border=\"1\" class=\"dataframe\">\n",
       "  <thead>\n",
       "    <tr style=\"text-align: right;\">\n",
       "      <th></th>\n",
       "      <th>name</th>\n",
       "      <th>category_list</th>\n",
       "      <th>funding_total_usd</th>\n",
       "      <th>country_code</th>\n",
       "      <th>state_code</th>\n",
       "      <th>region</th>\n",
       "      <th>city</th>\n",
       "      <th>funding_rounds</th>\n",
       "      <th>founded_at</th>\n",
       "      <th>first_funding_at</th>\n",
       "      <th>last_funding_at</th>\n",
       "      <th>closed_at</th>\n",
       "    </tr>\n",
       "  </thead>\n",
       "  <tbody>\n",
       "    <tr>\n",
       "      <th>0</th>\n",
       "      <td>Crystalsol</td>\n",
       "      <td>Clean Technology</td>\n",
       "      <td>2,819,200.00</td>\n",
       "      <td>NIC</td>\n",
       "      <td>17</td>\n",
       "      <td>NaN</td>\n",
       "      <td>NaN</td>\n",
       "      <td>1</td>\n",
       "      <td>2008-06-01</td>\n",
       "      <td>2009-07-01</td>\n",
       "      <td>2009-07-01</td>\n",
       "      <td>NaN</td>\n",
       "    </tr>\n",
       "    <tr>\n",
       "      <th>1</th>\n",
       "      <td>JBI Fish &amp; Wings</td>\n",
       "      <td>Hospitality</td>\n",
       "      <td>NaN</td>\n",
       "      <td>USA</td>\n",
       "      <td>TN</td>\n",
       "      <td>TN - Other</td>\n",
       "      <td>Humboldt</td>\n",
       "      <td>1</td>\n",
       "      <td>2010-07-25</td>\n",
       "      <td>2010-07-28</td>\n",
       "      <td>2010-07-28</td>\n",
       "      <td>NaN</td>\n",
       "    </tr>\n",
       "    <tr>\n",
       "      <th>2</th>\n",
       "      <td>COINPLUS</td>\n",
       "      <td>Finance</td>\n",
       "      <td>428,257.00</td>\n",
       "      <td>LUX</td>\n",
       "      <td>3</td>\n",
       "      <td>Esch-sur-alzette</td>\n",
       "      <td>Esch-sur-alzette</td>\n",
       "      <td>2</td>\n",
       "      <td>2014-06-16</td>\n",
       "      <td>2014-05-15</td>\n",
       "      <td>2014-09-18</td>\n",
       "      <td>NaN</td>\n",
       "    </tr>\n",
       "    <tr>\n",
       "      <th>3</th>\n",
       "      <td>Imagine Communications</td>\n",
       "      <td>Software|Video|Video Streaming</td>\n",
       "      <td>34,700,000.00</td>\n",
       "      <td>USA</td>\n",
       "      <td>CA</td>\n",
       "      <td>San Diego</td>\n",
       "      <td>San Diego</td>\n",
       "      <td>4</td>\n",
       "      <td>2005-01-01</td>\n",
       "      <td>2005-01-01</td>\n",
       "      <td>2010-04-20</td>\n",
       "      <td>NaN</td>\n",
       "    </tr>\n",
       "    <tr>\n",
       "      <th>4</th>\n",
       "      <td>DNA13</td>\n",
       "      <td>Software</td>\n",
       "      <td>4,530,000.00</td>\n",
       "      <td>CAN</td>\n",
       "      <td>ON</td>\n",
       "      <td>Ottawa</td>\n",
       "      <td>Ottawa</td>\n",
       "      <td>1</td>\n",
       "      <td>2001-01-01</td>\n",
       "      <td>2007-05-08</td>\n",
       "      <td>2007-05-08</td>\n",
       "      <td>NaN</td>\n",
       "    </tr>\n",
       "    <tr>\n",
       "      <th>5</th>\n",
       "      <td>Quickfire Games</td>\n",
       "      <td>Design|Entertainment|Games</td>\n",
       "      <td>160,000.00</td>\n",
       "      <td>NaN</td>\n",
       "      <td>NaN</td>\n",
       "      <td>NaN</td>\n",
       "      <td>NaN</td>\n",
       "      <td>2</td>\n",
       "      <td>2013-09-01</td>\n",
       "      <td>2013-09-18</td>\n",
       "      <td>2014-09-18</td>\n",
       "      <td>NaN</td>\n",
       "    </tr>\n",
       "    <tr>\n",
       "      <th>6</th>\n",
       "      <td>Sente Inc.</td>\n",
       "      <td>Biotechnology</td>\n",
       "      <td>26,842,000.00</td>\n",
       "      <td>USA</td>\n",
       "      <td>CA</td>\n",
       "      <td>San Diego</td>\n",
       "      <td>Encinitas</td>\n",
       "      <td>5</td>\n",
       "      <td>2007-01-01</td>\n",
       "      <td>2009-01-31</td>\n",
       "      <td>2014-06-02</td>\n",
       "      <td>NaN</td>\n",
       "    </tr>\n",
       "    <tr>\n",
       "      <th>7</th>\n",
       "      <td>Triosyn</td>\n",
       "      <td>Health Care|Medical|Therapeutics</td>\n",
       "      <td>4,000,000.00</td>\n",
       "      <td>NaN</td>\n",
       "      <td>NaN</td>\n",
       "      <td>NaN</td>\n",
       "      <td>NaN</td>\n",
       "      <td>1</td>\n",
       "      <td>2001-12-26</td>\n",
       "      <td>2003-06-02</td>\n",
       "      <td>2003-06-02</td>\n",
       "      <td>NaN</td>\n",
       "    </tr>\n",
       "    <tr>\n",
       "      <th>8</th>\n",
       "      <td>Urgent.ly</td>\n",
       "      <td>Software</td>\n",
       "      <td>8,710,000.00</td>\n",
       "      <td>USA</td>\n",
       "      <td>VA</td>\n",
       "      <td>Washington, D.C.</td>\n",
       "      <td>Sterling</td>\n",
       "      <td>3</td>\n",
       "      <td>2013-01-01</td>\n",
       "      <td>2014-04-17</td>\n",
       "      <td>2015-09-29</td>\n",
       "      <td>NaN</td>\n",
       "    </tr>\n",
       "    <tr>\n",
       "      <th>9</th>\n",
       "      <td>Map Decisions</td>\n",
       "      <td>Software</td>\n",
       "      <td>13,200.00</td>\n",
       "      <td>USA</td>\n",
       "      <td>PA</td>\n",
       "      <td>Allentown</td>\n",
       "      <td>Bethlehem</td>\n",
       "      <td>1</td>\n",
       "      <td>2012-05-15</td>\n",
       "      <td>2013-08-09</td>\n",
       "      <td>2013-08-09</td>\n",
       "      <td>NaN</td>\n",
       "    </tr>\n",
       "  </tbody>\n",
       "</table>\n",
       "</div>"
      ]
     },
     "execution_count": 5,
     "metadata": {},
     "output_type": "execute_result"
    }
   ],
   "execution_count": 5
  },
  {
   "cell_type": "code",
   "source": [
    "df_test_features.info()"
   ],
   "metadata": {
    "collapsed": false,
    "ExecuteTime": {
     "end_time": "2024-04-12T12:51:38.993983Z",
     "start_time": "2024-04-12T12:51:38.983959Z"
    }
   },
   "id": "5bd98f5720e32f43",
   "outputs": [
    {
     "name": "stdout",
     "output_type": "stream",
     "text": [
      "<class 'pandas.core.frame.DataFrame'>\n",
      "RangeIndex: 13211 entries, 0 to 13210\n",
      "Data columns (total 12 columns):\n",
      " #   Column             Non-Null Count  Dtype  \n",
      "---  ------             --------------  -----  \n",
      " 0   name               13211 non-null  object \n",
      " 1   category_list      12610 non-null  object \n",
      " 2   funding_total_usd  10616 non-null  float64\n",
      " 3   country_code       11827 non-null  object \n",
      " 4   state_code         11512 non-null  object \n",
      " 5   region             11618 non-null  object \n",
      " 6   city               11620 non-null  object \n",
      " 7   funding_rounds     13211 non-null  int64  \n",
      " 8   founded_at         13211 non-null  object \n",
      " 9   first_funding_at   13211 non-null  object \n",
      " 10  last_funding_at    13211 non-null  object \n",
      " 11  closed_at          1234 non-null   object \n",
      "dtypes: float64(1), int64(1), object(10)\n",
      "memory usage: 1.2+ MB\n"
     ]
    }
   ],
   "execution_count": 6
  },
  {
   "cell_type": "markdown",
   "source": [
    "Описание колонок:\n",
    " \n",
    "- `name` — наименование компании;\n",
    "- `category_list` — категории деятельности компании;\n",
    "- `funding_total_usd` — сумма привлечённых инвестиций в долларах;\n",
    "- `country_code` — код страны;\n",
    "- `state_code` — код штата;\n",
    "- `region` — регион;\n",
    "- `city` — город;\n",
    "- `funding_rounds` — число раундов, в которых компания привлекала инвестиции;\n",
    "- `founded_at` — дата основания фонда;\n",
    "- `first_funding_at` — дата первого финансирования;\n",
    "- `last_funding_at` — дата последнего финансирования;\n",
    "- `closed_at` — дата закрытия;"
   ],
   "metadata": {
    "collapsed": false
   },
   "id": "a83e0b851e0c927"
  },
  {
   "cell_type": "markdown",
   "source": [
    "Наименование колонок корректное, у колонок с датами не соответствуют типы."
   ],
   "metadata": {
    "collapsed": false
   },
   "id": "625d3cee0556aca8"
  },
  {
   "cell_type": "markdown",
   "source": [
    "#### Целевой признак тестовой выборки"
   ],
   "metadata": {
    "collapsed": false
   },
   "id": "4564db35e29034ad"
  },
  {
   "cell_type": "code",
   "source": [
    "df_test_target = pd.read_csv('datasets/kaggle_startups_sample_submit_02.csv')\n",
    "df_test_target.head(10)"
   ],
   "metadata": {
    "collapsed": false,
    "ExecuteTime": {
     "end_time": "2024-04-12T12:51:41.848935Z",
     "start_time": "2024-04-12T12:51:41.832434Z"
    }
   },
   "id": "91209eed23bcd7d",
   "outputs": [
    {
     "data": {
      "text/plain": [
       "                     name     status\n",
       "0              Crystalsol  operating\n",
       "1        JBI Fish & Wings  operating\n",
       "2                COINPLUS  operating\n",
       "3  Imagine Communications  operating\n",
       "4                   DNA13  operating\n",
       "5         Quickfire Games  operating\n",
       "6              Sente Inc.  operating\n",
       "7                 Triosyn  operating\n",
       "8               Urgent.ly  operating\n",
       "9           Map Decisions  operating"
      ],
      "text/html": [
       "<div>\n",
       "<style scoped>\n",
       "    .dataframe tbody tr th:only-of-type {\n",
       "        vertical-align: middle;\n",
       "    }\n",
       "\n",
       "    .dataframe tbody tr th {\n",
       "        vertical-align: top;\n",
       "    }\n",
       "\n",
       "    .dataframe thead th {\n",
       "        text-align: right;\n",
       "    }\n",
       "</style>\n",
       "<table border=\"1\" class=\"dataframe\">\n",
       "  <thead>\n",
       "    <tr style=\"text-align: right;\">\n",
       "      <th></th>\n",
       "      <th>name</th>\n",
       "      <th>status</th>\n",
       "    </tr>\n",
       "  </thead>\n",
       "  <tbody>\n",
       "    <tr>\n",
       "      <th>0</th>\n",
       "      <td>Crystalsol</td>\n",
       "      <td>operating</td>\n",
       "    </tr>\n",
       "    <tr>\n",
       "      <th>1</th>\n",
       "      <td>JBI Fish &amp; Wings</td>\n",
       "      <td>operating</td>\n",
       "    </tr>\n",
       "    <tr>\n",
       "      <th>2</th>\n",
       "      <td>COINPLUS</td>\n",
       "      <td>operating</td>\n",
       "    </tr>\n",
       "    <tr>\n",
       "      <th>3</th>\n",
       "      <td>Imagine Communications</td>\n",
       "      <td>operating</td>\n",
       "    </tr>\n",
       "    <tr>\n",
       "      <th>4</th>\n",
       "      <td>DNA13</td>\n",
       "      <td>operating</td>\n",
       "    </tr>\n",
       "    <tr>\n",
       "      <th>5</th>\n",
       "      <td>Quickfire Games</td>\n",
       "      <td>operating</td>\n",
       "    </tr>\n",
       "    <tr>\n",
       "      <th>6</th>\n",
       "      <td>Sente Inc.</td>\n",
       "      <td>operating</td>\n",
       "    </tr>\n",
       "    <tr>\n",
       "      <th>7</th>\n",
       "      <td>Triosyn</td>\n",
       "      <td>operating</td>\n",
       "    </tr>\n",
       "    <tr>\n",
       "      <th>8</th>\n",
       "      <td>Urgent.ly</td>\n",
       "      <td>operating</td>\n",
       "    </tr>\n",
       "    <tr>\n",
       "      <th>9</th>\n",
       "      <td>Map Decisions</td>\n",
       "      <td>operating</td>\n",
       "    </tr>\n",
       "  </tbody>\n",
       "</table>\n",
       "</div>"
      ]
     },
     "execution_count": 7,
     "metadata": {},
     "output_type": "execute_result"
    }
   ],
   "execution_count": 7
  },
  {
   "cell_type": "code",
   "source": [
    "df_test_target.info()"
   ],
   "metadata": {
    "collapsed": false,
    "ExecuteTime": {
     "end_time": "2024-04-12T12:51:43.775382Z",
     "start_time": "2024-04-12T12:51:43.768449Z"
    }
   },
   "id": "d37acba74dff95b0",
   "outputs": [
    {
     "name": "stdout",
     "output_type": "stream",
     "text": [
      "<class 'pandas.core.frame.DataFrame'>\n",
      "RangeIndex: 13211 entries, 0 to 13210\n",
      "Data columns (total 2 columns):\n",
      " #   Column  Non-Null Count  Dtype \n",
      "---  ------  --------------  ----- \n",
      " 0   name    13211 non-null  object\n",
      " 1   status  13211 non-null  object\n",
      "dtypes: object(2)\n",
      "memory usage: 206.5+ KB\n"
     ]
    }
   ],
   "execution_count": 8
  },
  {
   "cell_type": "markdown",
   "source": [
    "Описание колонок:\n",
    " \n",
    "- `name` — наименование компании;\n",
    "- `status` — статус компании;"
   ],
   "metadata": {
    "collapsed": false
   },
   "id": "a6ce68c88fcba188"
  },
  {
   "cell_type": "markdown",
   "source": [
    "Наименование колонок корректное, все типы верные."
   ],
   "metadata": {
    "collapsed": false
   },
   "id": "9ae5fb2246071a91"
  },
  {
   "cell_type": "markdown",
   "source": [
    "#### Итоговая тестовая выборка"
   ],
   "metadata": {
    "collapsed": false
   },
   "id": "eb75144154876b55"
  },
  {
   "cell_type": "code",
   "source": [
    "df_test = pd.merge(df_test_features, df_test_target, on='name')\n",
    "df_test.info()"
   ],
   "metadata": {
    "collapsed": false,
    "ExecuteTime": {
     "end_time": "2024-04-12T12:51:46.375763Z",
     "start_time": "2024-04-12T12:51:46.353494Z"
    }
   },
   "id": "d6084822ebb1fa40",
   "outputs": [
    {
     "name": "stdout",
     "output_type": "stream",
     "text": [
      "<class 'pandas.core.frame.DataFrame'>\n",
      "Int64Index: 13211 entries, 0 to 13210\n",
      "Data columns (total 13 columns):\n",
      " #   Column             Non-Null Count  Dtype  \n",
      "---  ------             --------------  -----  \n",
      " 0   name               13211 non-null  object \n",
      " 1   category_list      12610 non-null  object \n",
      " 2   funding_total_usd  10616 non-null  float64\n",
      " 3   country_code       11827 non-null  object \n",
      " 4   state_code         11512 non-null  object \n",
      " 5   region             11618 non-null  object \n",
      " 6   city               11620 non-null  object \n",
      " 7   funding_rounds     13211 non-null  int64  \n",
      " 8   founded_at         13211 non-null  object \n",
      " 9   first_funding_at   13211 non-null  object \n",
      " 10  last_funding_at    13211 non-null  object \n",
      " 11  closed_at          1234 non-null   object \n",
      " 12  status             13211 non-null  object \n",
      "dtypes: float64(1), int64(1), object(11)\n",
      "memory usage: 1.4+ MB\n"
     ]
    }
   ],
   "execution_count": 9
  },
  {
   "cell_type": "markdown",
   "source": [
    "Описание колонок:\n",
    " \n",
    "- `name` — наименование компании;\n",
    "- `category_list` — категории деятельности компании;\n",
    "- `funding_total_usd` — сумма привлечённых инвестиций в долларах;\n",
    "- `country_code` — код страны;\n",
    "- `state_code` — код штата;\n",
    "- `region` — регион;\n",
    "- `city` — город;\n",
    "- `funding_rounds` — число раундов, в которых компания привлекала инвестиции;\n",
    "- `founded_at` — дата основания фонда;\n",
    "- `first_funding_at` — дата первого финансирования;\n",
    "- `last_funding_at` — дата последнего финансирования;\n",
    "- `closed_at` — дата закрытия;\n",
    "- `status` — статус компании;"
   ],
   "metadata": {
    "collapsed": false
   },
   "id": "8cd665ee5625aaf"
  },
  {
   "cell_type": "markdown",
   "source": [
    "Наименование колонок корректное, у колонок с датами не соответствуют типы. После обледенения таблиц все данные на месте."
   ],
   "metadata": {
    "collapsed": false
   },
   "id": "60ee7466e5126daa"
  },
  {
   "cell_type": "markdown",
   "source": [
    "## Предобработка данных"
   ],
   "metadata": {
    "collapsed": false
   },
   "id": "c8703b526080b254"
  },
  {
   "cell_type": "markdown",
   "source": [
    "Вспомогательные функции"
   ],
   "metadata": {
    "collapsed": false
   },
   "id": "d8b1608c3b3d7257"
  },
  {
   "cell_type": "code",
   "source": [
    "# Определим имена колонок для отображения\n",
    "column_names = {\n",
    "    \"name\": \"наименование компании\",\n",
    "    \"category_list\": \"категории деятельности компании\",\n",
    "    \"funding_total_usd\": \"сумма привлечённых инвестиций в долларах\",\n",
    "    \"country_code\": \"код страны\",\n",
    "    \"state_code\": \"код штата\",\n",
    "    \"region\": \"регион\",\n",
    "    \"city\": \"город\",\n",
    "    \"funding_rounds\": \"число раундов, в которых компания привлекала инвестиции\",\n",
    "    \"founded_at\": \"дата основания фонда\",\n",
    "    \"first_funding_at\": \"дата первого финансирования\",\n",
    "    \"last_funding_at\": \"дата последнего финансирования\",\n",
    "    \"closed_at\": \"дата закрытия\",\n",
    "    \"status\": \"статус компании\"\n",
    "}"
   ],
   "metadata": {
    "collapsed": false,
    "ExecuteTime": {
     "end_time": "2024-04-12T12:51:49.734902Z",
     "start_time": "2024-04-12T12:51:49.731942Z"
    }
   },
   "id": "79d5bacd2f4bd62b",
   "outputs": [],
   "execution_count": 10
  },
  {
   "cell_type": "code",
   "source": [
    "# Функция для обработки пропусков\n",
    "def isna_rate(df):\n",
    "    df_isna = (pd.DataFrame(round(df.isna().mean() * 100, 2)).sort_values(by=0, ascending=False))\n",
    "    df_isna.columns = ['Доля_пропусков']\n",
    "    df_isna['Кол-во_пропусков'] = df.isna().sum()\n",
    "    df_isna['Всего_записей'] = df.shape[0]\n",
    "    display(df_isna.query('Доля_пропусков > 0'))"
   ],
   "metadata": {
    "collapsed": false,
    "ExecuteTime": {
     "end_time": "2024-04-12T12:51:50.748201Z",
     "start_time": "2024-04-12T12:51:50.745035Z"
    }
   },
   "id": "9a3e7321e5c652ea",
   "outputs": [],
   "execution_count": 11
  },
  {
   "cell_type": "code",
   "source": [
    "# Функция для обработки строковых колонок\n",
    "def check_unique(df):\n",
    "    for column in df.select_dtypes(include='object').columns.tolist():\n",
    "        print(f\"Колонка \\\"{column}\\\":\")\n",
    "        print(df[column].value_counts(), \"\\n\")"
   ],
   "metadata": {
    "collapsed": false,
    "ExecuteTime": {
     "end_time": "2024-04-12T12:51:52.615719Z",
     "start_time": "2024-04-12T12:51:52.612820Z"
    }
   },
   "id": "9f993e297886ba3a",
   "outputs": [],
   "execution_count": 12
  },
  {
   "cell_type": "code",
   "source": [
    "# Проверяет на дубликаты\n",
    "def check_duplicated(df):\n",
    "    dupl = df.duplicated().sum()\n",
    "    print(\"Количество дубликатов:\", dupl)\n",
    "    if dupl > 0:\n",
    "        display(df[df.duplicated()])\n",
    "    else:\n",
    "        print(\"Дубликаты отсутствуют\")"
   ],
   "metadata": {
    "collapsed": false,
    "ExecuteTime": {
     "end_time": "2024-04-12T12:51:53.718271Z",
     "start_time": "2024-04-12T12:51:53.714921Z"
    }
   },
   "id": "719c3fe043ebee3d",
   "outputs": [],
   "execution_count": 13
  },
  {
   "cell_type": "markdown",
   "source": [
    "### Тренировочная выборка"
   ],
   "metadata": {
    "collapsed": false
   },
   "id": "8c5af39dd8c6009f"
  },
  {
   "cell_type": "markdown",
   "source": [
    "#### Типы"
   ],
   "metadata": {
    "collapsed": false
   },
   "id": "e70cc6746765032f"
  },
  {
   "cell_type": "markdown",
   "source": [
    "Приведем типы с датами в верный формат"
   ],
   "metadata": {
    "collapsed": false
   },
   "id": "27b63184331e4ff2"
  },
  {
   "cell_type": "code",
   "source": [
    "df_train['founded_at'] = pd.to_datetime(df_train['founded_at'])\n",
    "df_train['first_funding_at'] = pd.to_datetime(df_train['first_funding_at'])\n",
    "df_train['last_funding_at'] = pd.to_datetime(df_train['last_funding_at'])\n",
    "df_train['closed_at'] = pd.to_datetime(df_train['closed_at'])"
   ],
   "metadata": {
    "collapsed": false,
    "ExecuteTime": {
     "end_time": "2024-04-12T12:51:55.372414Z",
     "start_time": "2024-04-12T12:51:55.331563Z"
    }
   },
   "id": "499acd12f622fdc2",
   "outputs": [],
   "execution_count": 14
  },
  {
   "metadata": {},
   "cell_type": "markdown",
   "source": "Приведем типы со статусом к 0 / 1",
   "id": "d868cf56c57dbf1c"
  },
  {
   "metadata": {
    "ExecuteTime": {
     "end_time": "2024-04-12T12:51:56.809325Z",
     "start_time": "2024-04-12T12:51:56.791991Z"
    }
   },
   "cell_type": "code",
   "source": [
    "# Функция для подсчета количества категорий\n",
    "def status_int(row):\n",
    "    if row == 'closed':\n",
    "        return 1\n",
    "    else:\n",
    "        return 0\n",
    "\n",
    "\n",
    "# Создадим новую колонку кол-во категорий\n",
    "df_train['status'] = df_train['status'].apply(status_int)"
   ],
   "id": "b3dd12abf1d0b1fc",
   "outputs": [],
   "execution_count": 15
  },
  {
   "metadata": {
    "ExecuteTime": {
     "end_time": "2024-04-12T12:50:39.469764Z",
     "start_time": "2024-04-12T12:50:39.453876Z"
    }
   },
   "cell_type": "code",
   "source": "df_train.info()",
   "id": "a1837ecaef721ac",
   "outputs": [
    {
     "name": "stdout",
     "output_type": "stream",
     "text": [
      "<class 'pandas.core.frame.DataFrame'>\n",
      "RangeIndex: 52879 entries, 0 to 52878\n",
      "Data columns (total 13 columns):\n",
      " #   Column             Non-Null Count  Dtype         \n",
      "---  ------             --------------  -----         \n",
      " 0   name               52878 non-null  object        \n",
      " 1   category_list      50374 non-null  object        \n",
      " 2   funding_total_usd  42753 non-null  float64       \n",
      " 3   status             52879 non-null  int64         \n",
      " 4   country_code       47351 non-null  object        \n",
      " 5   state_code         46082 non-null  object        \n",
      " 6   region             46489 non-null  object        \n",
      " 7   city               46489 non-null  object        \n",
      " 8   funding_rounds     52879 non-null  int64         \n",
      " 9   founded_at         52879 non-null  datetime64[ns]\n",
      " 10  first_funding_at   52858 non-null  datetime64[ns]\n",
      " 11  last_funding_at    52879 non-null  datetime64[ns]\n",
      " 12  closed_at          4962 non-null   datetime64[ns]\n",
      "dtypes: datetime64[ns](4), float64(1), int64(2), object(6)\n",
      "memory usage: 5.2+ MB\n"
     ]
    }
   ],
   "execution_count": 16
  },
  {
   "metadata": {},
   "cell_type": "markdown",
   "source": "Приведем типы список категорий",
   "id": "763d395b7b45eb82"
  },
  {
   "metadata": {
    "ExecuteTime": {
     "end_time": "2024-04-12T13:40:15.312527Z",
     "start_time": "2024-04-12T13:40:15.301836Z"
    }
   },
   "cell_type": "code",
   "source": [
    "# Разделяем категории в колонке category_list по символу '|' и создаем новую колонку\n",
    "# df_train['categories'] = df_train['category_list'].str.split('|')\n",
    "\n",
    "# Создаем новый DataFrame, в котором каждая категория будет отдельной строкой\n",
    "categories_df = df_train.str.split('|').explode('categories')\n",
    "\n",
    "# Считаем количество вхождений каждой категории\n",
    "category_counts = categories_df['categories'].value_counts()\n",
    "\n",
    "# Получаем топ 200 категорий\n",
    "top_200_categories = category_counts.head(200).index.tolist()\n",
    "\n",
    "# Функция для проверки наличия категорий из топа в списке категорий\n",
    "def check_top_categories(category_list):\n",
    "    if any(category in top_200_categories for category in category_list):\n",
    "        return '|'.join(sorted(category_list))\n",
    "    else:\n",
    "        return 'Other'\n",
    "\n",
    "top_200_categories\n",
    "# # Применяем функцию к колонке categories и создаем новую колонку с обновленными категориями\n",
    "# df['updated_categories'] = df['categories'].apply(check_top_categories)\n",
    "# \n",
    "# # Сохраняем обновленный DataFrame в файл или используем далее по необходимости\n",
    "# df.to_csv('updated_file.csv', index=False)"
   ],
   "id": "7a9f104ad6dc6d7f",
   "outputs": [
    {
     "ename": "AttributeError",
     "evalue": "'DataFrame' object has no attribute 'str'",
     "output_type": "error",
     "traceback": [
      "\u001B[0;31m---------------------------------------------------------------------------\u001B[0m",
      "\u001B[0;31mAttributeError\u001B[0m                            Traceback (most recent call last)",
      "\u001B[0;32m/tmp/ipykernel_22165/2207232293.py\u001B[0m in \u001B[0;36m<module>\u001B[0;34m\u001B[0m\n\u001B[1;32m      3\u001B[0m \u001B[0;34m\u001B[0m\u001B[0m\n\u001B[1;32m      4\u001B[0m \u001B[0;31m# Создаем новый DataFrame, в котором каждая категория будет отдельной строкой\u001B[0m\u001B[0;34m\u001B[0m\u001B[0;34m\u001B[0m\u001B[0m\n\u001B[0;32m----> 5\u001B[0;31m \u001B[0mcategories_df\u001B[0m \u001B[0;34m=\u001B[0m \u001B[0mdf_train\u001B[0m\u001B[0;34m.\u001B[0m\u001B[0mstr\u001B[0m\u001B[0;34m.\u001B[0m\u001B[0msplit\u001B[0m\u001B[0;34m(\u001B[0m\u001B[0;34m'|'\u001B[0m\u001B[0;34m)\u001B[0m\u001B[0;34m.\u001B[0m\u001B[0mexplode\u001B[0m\u001B[0;34m(\u001B[0m\u001B[0;34m'categories'\u001B[0m\u001B[0;34m)\u001B[0m\u001B[0;34m\u001B[0m\u001B[0;34m\u001B[0m\u001B[0m\n\u001B[0m\u001B[1;32m      6\u001B[0m \u001B[0;34m\u001B[0m\u001B[0m\n\u001B[1;32m      7\u001B[0m \u001B[0;31m# Считаем количество вхождений каждой категории\u001B[0m\u001B[0;34m\u001B[0m\u001B[0;34m\u001B[0m\u001B[0m\n",
      "\u001B[0;32m~/PyProjects/practicum/venv/lib/python3.9/site-packages/pandas/core/generic.py\u001B[0m in \u001B[0;36m__getattr__\u001B[0;34m(self, name)\u001B[0m\n\u001B[1;32m   5463\u001B[0m             \u001B[0;32mif\u001B[0m \u001B[0mself\u001B[0m\u001B[0;34m.\u001B[0m\u001B[0m_info_axis\u001B[0m\u001B[0;34m.\u001B[0m\u001B[0m_can_hold_identifiers_and_holds_name\u001B[0m\u001B[0;34m(\u001B[0m\u001B[0mname\u001B[0m\u001B[0;34m)\u001B[0m\u001B[0;34m:\u001B[0m\u001B[0;34m\u001B[0m\u001B[0;34m\u001B[0m\u001B[0m\n\u001B[1;32m   5464\u001B[0m                 \u001B[0;32mreturn\u001B[0m \u001B[0mself\u001B[0m\u001B[0;34m[\u001B[0m\u001B[0mname\u001B[0m\u001B[0;34m]\u001B[0m\u001B[0;34m\u001B[0m\u001B[0;34m\u001B[0m\u001B[0m\n\u001B[0;32m-> 5465\u001B[0;31m             \u001B[0;32mreturn\u001B[0m \u001B[0mobject\u001B[0m\u001B[0;34m.\u001B[0m\u001B[0m__getattribute__\u001B[0m\u001B[0;34m(\u001B[0m\u001B[0mself\u001B[0m\u001B[0;34m,\u001B[0m \u001B[0mname\u001B[0m\u001B[0;34m)\u001B[0m\u001B[0;34m\u001B[0m\u001B[0;34m\u001B[0m\u001B[0m\n\u001B[0m\u001B[1;32m   5466\u001B[0m \u001B[0;34m\u001B[0m\u001B[0m\n\u001B[1;32m   5467\u001B[0m     \u001B[0;32mdef\u001B[0m \u001B[0m__setattr__\u001B[0m\u001B[0;34m(\u001B[0m\u001B[0mself\u001B[0m\u001B[0;34m,\u001B[0m \u001B[0mname\u001B[0m\u001B[0;34m:\u001B[0m \u001B[0mstr\u001B[0m\u001B[0;34m,\u001B[0m \u001B[0mvalue\u001B[0m\u001B[0;34m)\u001B[0m \u001B[0;34m->\u001B[0m \u001B[0;32mNone\u001B[0m\u001B[0;34m:\u001B[0m\u001B[0;34m\u001B[0m\u001B[0;34m\u001B[0m\u001B[0m\n",
      "\u001B[0;31mAttributeError\u001B[0m: 'DataFrame' object has no attribute 'str'"
     ]
    }
   ],
   "execution_count": 54
  },
  {
   "cell_type": "markdown",
   "source": [
    "#### Пропуски"
   ],
   "metadata": {
    "collapsed": false
   },
   "id": "127230d9c806bc55"
  },
  {
   "cell_type": "code",
   "source": "isna_rate(df_train)",
   "metadata": {
    "collapsed": false,
    "ExecuteTime": {
     "end_time": "2024-04-12T12:56:28.010815Z",
     "start_time": "2024-04-12T12:56:27.975443Z"
    }
   },
   "id": "205e3098cbe063cd",
   "outputs": [
    {
     "data": {
      "text/plain": [
       "                   Доля_пропусков  Кол-во_пропусков  Всего_записей\n",
       "closed_at                   90.61             47896          52858\n",
       "funding_total_usd           19.16             10125          52858\n",
       "state_code                  12.86              6795          52858\n",
       "region                      12.09              6388          52858\n",
       "city                        12.09              6388          52858\n",
       "country_code                10.45              5526          52858\n",
       "category_list                4.74              2504          52858"
      ],
      "text/html": [
       "<div>\n",
       "<style scoped>\n",
       "    .dataframe tbody tr th:only-of-type {\n",
       "        vertical-align: middle;\n",
       "    }\n",
       "\n",
       "    .dataframe tbody tr th {\n",
       "        vertical-align: top;\n",
       "    }\n",
       "\n",
       "    .dataframe thead th {\n",
       "        text-align: right;\n",
       "    }\n",
       "</style>\n",
       "<table border=\"1\" class=\"dataframe\">\n",
       "  <thead>\n",
       "    <tr style=\"text-align: right;\">\n",
       "      <th></th>\n",
       "      <th>Доля_пропусков</th>\n",
       "      <th>Кол-во_пропусков</th>\n",
       "      <th>Всего_записей</th>\n",
       "    </tr>\n",
       "  </thead>\n",
       "  <tbody>\n",
       "    <tr>\n",
       "      <th>closed_at</th>\n",
       "      <td>90.61</td>\n",
       "      <td>47896</td>\n",
       "      <td>52858</td>\n",
       "    </tr>\n",
       "    <tr>\n",
       "      <th>funding_total_usd</th>\n",
       "      <td>19.16</td>\n",
       "      <td>10125</td>\n",
       "      <td>52858</td>\n",
       "    </tr>\n",
       "    <tr>\n",
       "      <th>state_code</th>\n",
       "      <td>12.86</td>\n",
       "      <td>6795</td>\n",
       "      <td>52858</td>\n",
       "    </tr>\n",
       "    <tr>\n",
       "      <th>region</th>\n",
       "      <td>12.09</td>\n",
       "      <td>6388</td>\n",
       "      <td>52858</td>\n",
       "    </tr>\n",
       "    <tr>\n",
       "      <th>city</th>\n",
       "      <td>12.09</td>\n",
       "      <td>6388</td>\n",
       "      <td>52858</td>\n",
       "    </tr>\n",
       "    <tr>\n",
       "      <th>country_code</th>\n",
       "      <td>10.45</td>\n",
       "      <td>5526</td>\n",
       "      <td>52858</td>\n",
       "    </tr>\n",
       "    <tr>\n",
       "      <th>category_list</th>\n",
       "      <td>4.74</td>\n",
       "      <td>2504</td>\n",
       "      <td>52858</td>\n",
       "    </tr>\n",
       "  </tbody>\n",
       "</table>\n",
       "</div>"
      ]
     },
     "metadata": {},
     "output_type": "display_data"
    }
   ],
   "execution_count": 21
  },
  {
   "metadata": {
    "ExecuteTime": {
     "end_time": "2024-04-12T12:52:01.387064Z",
     "start_time": "2024-04-12T12:52:01.374619Z"
    }
   },
   "cell_type": "code",
   "source": [
    "# Удалим значения с пустыми датами первого финансирования так как их 0,04%\n",
    "df_train = df_train.query('~first_funding_at.isna()')"
   ],
   "id": "3a759aa32634a344",
   "outputs": [],
   "execution_count": 17
  },
  {
   "metadata": {
    "ExecuteTime": {
     "end_time": "2024-04-12T13:08:02.969492Z",
     "start_time": "2024-04-12T13:08:02.934377Z"
    }
   },
   "cell_type": "code",
   "source": [
    "# Проверим данные с не заполнеными данными страна, категория, финансирование\n",
    "df_train.query('country_code.isna() & category_list.isna() & funding_total_usd.isna()')"
   ],
   "id": "7bb0e6dce9b0aa99",
   "outputs": [
    {
     "data": {
      "text/plain": [
       "                     name category_list  funding_total_usd  status  \\\n",
       "16               Salesjob           NaN                NaN       1   \n",
       "24                Savasti           NaN                NaN       1   \n",
       "65     Seamless Logistics           NaN                NaN       0   \n",
       "79       Efficient Photon           NaN                NaN       1   \n",
       "156           Public Post           NaN                NaN       1   \n",
       "...                   ...           ...                ...     ...   \n",
       "52690          Connexions           NaN                NaN       0   \n",
       "52740           Maremonti           NaN                NaN       0   \n",
       "52757         Ogg Trading           NaN                NaN       0   \n",
       "52767           Beach Bum           NaN                NaN       1   \n",
       "52782          iSend, LLC           NaN                NaN       1   \n",
       "\n",
       "      country_code state_code region city  funding_rounds founded_at  \\\n",
       "16             NaN        NaN    NaN  NaN               1 2013-01-01   \n",
       "24             NaN        NaN    NaN  NaN               1 2015-01-01   \n",
       "65             NaN        NaN    NaN  NaN               1 2009-03-26   \n",
       "79             NaN        NaN    NaN  NaN               1 2009-11-11   \n",
       "156            NaN        NaN    NaN  NaN               1 2007-12-08   \n",
       "...            ...        ...    ...  ...             ...        ...   \n",
       "52690          NaN        NaN    NaN  NaN               1 2010-07-11   \n",
       "52740          NaN        NaN    NaN  NaN               1 2011-09-12   \n",
       "52757          NaN        NaN    NaN  NaN               1 2014-08-30   \n",
       "52767          NaN        NaN    NaN  NaN               1 2014-08-11   \n",
       "52782          NaN        NaN    NaN  NaN               1 2007-01-01   \n",
       "\n",
       "      first_funding_at last_funding_at  closed_at  \n",
       "16          2013-10-22      2013-10-22 2015-09-26  \n",
       "24          2015-01-01      2015-01-01 2016-03-19  \n",
       "65          2011-02-01      2011-02-01        NaT  \n",
       "79          2011-09-22      2011-09-22 2013-04-21  \n",
       "156         2008-08-14      2008-08-14 2009-12-23  \n",
       "...                ...             ...        ...  \n",
       "52690       2012-05-01      2012-05-01        NaT  \n",
       "52740       2013-08-01      2013-08-01        NaT  \n",
       "52757       2015-06-01      2015-06-01        NaT  \n",
       "52767       2015-05-18      2015-05-18 2017-03-22  \n",
       "52782       2008-05-28      2008-05-28 2010-01-20  \n",
       "\n",
       "[885 rows x 13 columns]"
      ],
      "text/html": [
       "<div>\n",
       "<style scoped>\n",
       "    .dataframe tbody tr th:only-of-type {\n",
       "        vertical-align: middle;\n",
       "    }\n",
       "\n",
       "    .dataframe tbody tr th {\n",
       "        vertical-align: top;\n",
       "    }\n",
       "\n",
       "    .dataframe thead th {\n",
       "        text-align: right;\n",
       "    }\n",
       "</style>\n",
       "<table border=\"1\" class=\"dataframe\">\n",
       "  <thead>\n",
       "    <tr style=\"text-align: right;\">\n",
       "      <th></th>\n",
       "      <th>name</th>\n",
       "      <th>category_list</th>\n",
       "      <th>funding_total_usd</th>\n",
       "      <th>status</th>\n",
       "      <th>country_code</th>\n",
       "      <th>state_code</th>\n",
       "      <th>region</th>\n",
       "      <th>city</th>\n",
       "      <th>funding_rounds</th>\n",
       "      <th>founded_at</th>\n",
       "      <th>first_funding_at</th>\n",
       "      <th>last_funding_at</th>\n",
       "      <th>closed_at</th>\n",
       "    </tr>\n",
       "  </thead>\n",
       "  <tbody>\n",
       "    <tr>\n",
       "      <th>16</th>\n",
       "      <td>Salesjob</td>\n",
       "      <td>NaN</td>\n",
       "      <td>NaN</td>\n",
       "      <td>1</td>\n",
       "      <td>NaN</td>\n",
       "      <td>NaN</td>\n",
       "      <td>NaN</td>\n",
       "      <td>NaN</td>\n",
       "      <td>1</td>\n",
       "      <td>2013-01-01</td>\n",
       "      <td>2013-10-22</td>\n",
       "      <td>2013-10-22</td>\n",
       "      <td>2015-09-26</td>\n",
       "    </tr>\n",
       "    <tr>\n",
       "      <th>24</th>\n",
       "      <td>Savasti</td>\n",
       "      <td>NaN</td>\n",
       "      <td>NaN</td>\n",
       "      <td>1</td>\n",
       "      <td>NaN</td>\n",
       "      <td>NaN</td>\n",
       "      <td>NaN</td>\n",
       "      <td>NaN</td>\n",
       "      <td>1</td>\n",
       "      <td>2015-01-01</td>\n",
       "      <td>2015-01-01</td>\n",
       "      <td>2015-01-01</td>\n",
       "      <td>2016-03-19</td>\n",
       "    </tr>\n",
       "    <tr>\n",
       "      <th>65</th>\n",
       "      <td>Seamless Logistics</td>\n",
       "      <td>NaN</td>\n",
       "      <td>NaN</td>\n",
       "      <td>0</td>\n",
       "      <td>NaN</td>\n",
       "      <td>NaN</td>\n",
       "      <td>NaN</td>\n",
       "      <td>NaN</td>\n",
       "      <td>1</td>\n",
       "      <td>2009-03-26</td>\n",
       "      <td>2011-02-01</td>\n",
       "      <td>2011-02-01</td>\n",
       "      <td>NaT</td>\n",
       "    </tr>\n",
       "    <tr>\n",
       "      <th>79</th>\n",
       "      <td>Efficient Photon</td>\n",
       "      <td>NaN</td>\n",
       "      <td>NaN</td>\n",
       "      <td>1</td>\n",
       "      <td>NaN</td>\n",
       "      <td>NaN</td>\n",
       "      <td>NaN</td>\n",
       "      <td>NaN</td>\n",
       "      <td>1</td>\n",
       "      <td>2009-11-11</td>\n",
       "      <td>2011-09-22</td>\n",
       "      <td>2011-09-22</td>\n",
       "      <td>2013-04-21</td>\n",
       "    </tr>\n",
       "    <tr>\n",
       "      <th>156</th>\n",
       "      <td>Public Post</td>\n",
       "      <td>NaN</td>\n",
       "      <td>NaN</td>\n",
       "      <td>1</td>\n",
       "      <td>NaN</td>\n",
       "      <td>NaN</td>\n",
       "      <td>NaN</td>\n",
       "      <td>NaN</td>\n",
       "      <td>1</td>\n",
       "      <td>2007-12-08</td>\n",
       "      <td>2008-08-14</td>\n",
       "      <td>2008-08-14</td>\n",
       "      <td>2009-12-23</td>\n",
       "    </tr>\n",
       "    <tr>\n",
       "      <th>...</th>\n",
       "      <td>...</td>\n",
       "      <td>...</td>\n",
       "      <td>...</td>\n",
       "      <td>...</td>\n",
       "      <td>...</td>\n",
       "      <td>...</td>\n",
       "      <td>...</td>\n",
       "      <td>...</td>\n",
       "      <td>...</td>\n",
       "      <td>...</td>\n",
       "      <td>...</td>\n",
       "      <td>...</td>\n",
       "      <td>...</td>\n",
       "    </tr>\n",
       "    <tr>\n",
       "      <th>52690</th>\n",
       "      <td>Connexions</td>\n",
       "      <td>NaN</td>\n",
       "      <td>NaN</td>\n",
       "      <td>0</td>\n",
       "      <td>NaN</td>\n",
       "      <td>NaN</td>\n",
       "      <td>NaN</td>\n",
       "      <td>NaN</td>\n",
       "      <td>1</td>\n",
       "      <td>2010-07-11</td>\n",
       "      <td>2012-05-01</td>\n",
       "      <td>2012-05-01</td>\n",
       "      <td>NaT</td>\n",
       "    </tr>\n",
       "    <tr>\n",
       "      <th>52740</th>\n",
       "      <td>Maremonti</td>\n",
       "      <td>NaN</td>\n",
       "      <td>NaN</td>\n",
       "      <td>0</td>\n",
       "      <td>NaN</td>\n",
       "      <td>NaN</td>\n",
       "      <td>NaN</td>\n",
       "      <td>NaN</td>\n",
       "      <td>1</td>\n",
       "      <td>2011-09-12</td>\n",
       "      <td>2013-08-01</td>\n",
       "      <td>2013-08-01</td>\n",
       "      <td>NaT</td>\n",
       "    </tr>\n",
       "    <tr>\n",
       "      <th>52757</th>\n",
       "      <td>Ogg Trading</td>\n",
       "      <td>NaN</td>\n",
       "      <td>NaN</td>\n",
       "      <td>0</td>\n",
       "      <td>NaN</td>\n",
       "      <td>NaN</td>\n",
       "      <td>NaN</td>\n",
       "      <td>NaN</td>\n",
       "      <td>1</td>\n",
       "      <td>2014-08-30</td>\n",
       "      <td>2015-06-01</td>\n",
       "      <td>2015-06-01</td>\n",
       "      <td>NaT</td>\n",
       "    </tr>\n",
       "    <tr>\n",
       "      <th>52767</th>\n",
       "      <td>Beach Bum</td>\n",
       "      <td>NaN</td>\n",
       "      <td>NaN</td>\n",
       "      <td>1</td>\n",
       "      <td>NaN</td>\n",
       "      <td>NaN</td>\n",
       "      <td>NaN</td>\n",
       "      <td>NaN</td>\n",
       "      <td>1</td>\n",
       "      <td>2014-08-11</td>\n",
       "      <td>2015-05-18</td>\n",
       "      <td>2015-05-18</td>\n",
       "      <td>2017-03-22</td>\n",
       "    </tr>\n",
       "    <tr>\n",
       "      <th>52782</th>\n",
       "      <td>iSend, LLC</td>\n",
       "      <td>NaN</td>\n",
       "      <td>NaN</td>\n",
       "      <td>1</td>\n",
       "      <td>NaN</td>\n",
       "      <td>NaN</td>\n",
       "      <td>NaN</td>\n",
       "      <td>NaN</td>\n",
       "      <td>1</td>\n",
       "      <td>2007-01-01</td>\n",
       "      <td>2008-05-28</td>\n",
       "      <td>2008-05-28</td>\n",
       "      <td>2010-01-20</td>\n",
       "    </tr>\n",
       "  </tbody>\n",
       "</table>\n",
       "<p>885 rows × 13 columns</p>\n",
       "</div>"
      ]
     },
     "execution_count": 40,
     "metadata": {},
     "output_type": "execute_result"
    }
   ],
   "execution_count": 40
  },
  {
   "metadata": {},
   "cell_type": "markdown",
   "source": "Так как такие данные содержат пустые поля во всех ключевых параметров уберем их",
   "id": "f2987bec1954669a"
  },
  {
   "metadata": {
    "ExecuteTime": {
     "end_time": "2024-04-12T13:09:24.094743Z",
     "start_time": "2024-04-12T13:09:24.058409Z"
    }
   },
   "cell_type": "code",
   "source": [
    "df_train = df_train.query('~(country_code.isna() & category_list.isna() & funding_total_usd.isna())')\n",
    "isna_rate(df_train)"
   ],
   "id": "e6f53d5b5b5a21f0",
   "outputs": [
    {
     "data": {
      "text/plain": [
       "                   Доля_пропусков  Кол-во_пропусков  Всего_записей\n",
       "closed_at                   91.05             47321          51973\n",
       "funding_total_usd           17.78              9240          51973\n",
       "state_code                  11.37              5910          51973\n",
       "region                      10.59              5503          51973\n",
       "city                        10.59              5503          51973\n",
       "country_code                 8.93              4641          51973\n",
       "category_list                3.12              1619          51973"
      ],
      "text/html": [
       "<div>\n",
       "<style scoped>\n",
       "    .dataframe tbody tr th:only-of-type {\n",
       "        vertical-align: middle;\n",
       "    }\n",
       "\n",
       "    .dataframe tbody tr th {\n",
       "        vertical-align: top;\n",
       "    }\n",
       "\n",
       "    .dataframe thead th {\n",
       "        text-align: right;\n",
       "    }\n",
       "</style>\n",
       "<table border=\"1\" class=\"dataframe\">\n",
       "  <thead>\n",
       "    <tr style=\"text-align: right;\">\n",
       "      <th></th>\n",
       "      <th>Доля_пропусков</th>\n",
       "      <th>Кол-во_пропусков</th>\n",
       "      <th>Всего_записей</th>\n",
       "    </tr>\n",
       "  </thead>\n",
       "  <tbody>\n",
       "    <tr>\n",
       "      <th>closed_at</th>\n",
       "      <td>91.05</td>\n",
       "      <td>47321</td>\n",
       "      <td>51973</td>\n",
       "    </tr>\n",
       "    <tr>\n",
       "      <th>funding_total_usd</th>\n",
       "      <td>17.78</td>\n",
       "      <td>9240</td>\n",
       "      <td>51973</td>\n",
       "    </tr>\n",
       "    <tr>\n",
       "      <th>state_code</th>\n",
       "      <td>11.37</td>\n",
       "      <td>5910</td>\n",
       "      <td>51973</td>\n",
       "    </tr>\n",
       "    <tr>\n",
       "      <th>region</th>\n",
       "      <td>10.59</td>\n",
       "      <td>5503</td>\n",
       "      <td>51973</td>\n",
       "    </tr>\n",
       "    <tr>\n",
       "      <th>city</th>\n",
       "      <td>10.59</td>\n",
       "      <td>5503</td>\n",
       "      <td>51973</td>\n",
       "    </tr>\n",
       "    <tr>\n",
       "      <th>country_code</th>\n",
       "      <td>8.93</td>\n",
       "      <td>4641</td>\n",
       "      <td>51973</td>\n",
       "    </tr>\n",
       "    <tr>\n",
       "      <th>category_list</th>\n",
       "      <td>3.12</td>\n",
       "      <td>1619</td>\n",
       "      <td>51973</td>\n",
       "    </tr>\n",
       "  </tbody>\n",
       "</table>\n",
       "</div>"
      ]
     },
     "metadata": {},
     "output_type": "display_data"
    }
   ],
   "execution_count": 43
  },
  {
   "metadata": {
    "ExecuteTime": {
     "end_time": "2024-04-12T13:21:24.554782Z",
     "start_time": "2024-04-12T13:21:24.536491Z"
    }
   },
   "cell_type": "code",
   "source": [
    "# Проверим данные с заполнеными страной и не заполненой категорией \n",
    "df_train.query('~country_code.isna() & category_list.isna()')"
   ],
   "id": "5d1d8850a2db5eec",
   "outputs": [
    {
     "data": {
      "text/plain": [
       "                             name category_list  funding_total_usd  status  \\\n",
       "48              Daniel's Jewelers           NaN                NaN       0   \n",
       "93                 ImageScan Inc.           NaN       1,550,000.00       0   \n",
       "165                        Crew32           NaN       5,174,999.00       1   \n",
       "173                         Qerja           NaN                NaN       0   \n",
       "185    Chongqing Haifu Technology           NaN                NaN       1   \n",
       "...                           ...           ...                ...     ...   \n",
       "52682             Sleeping On Air           NaN                NaN       0   \n",
       "52730              Pegase Medical           NaN       2,795,031.06       1   \n",
       "52763                     Associa           NaN                NaN       0   \n",
       "52830               Thermal Nomad           NaN                NaN       0   \n",
       "52871                   ScramCard           NaN                NaN       0   \n",
       "\n",
       "      country_code state_code            region          city  funding_rounds  \\\n",
       "48             USA         CA       Los Angeles   Culver City               1   \n",
       "93             USA         CA       SF Bay Area     Sausalito               1   \n",
       "165            USA         CA       Los Angeles  Santa Monica               1   \n",
       "173            IDN          4           Jakarta       Jakarta               1   \n",
       "185            CHN          8         Chongqing     Chongqing               1   \n",
       "...            ...        ...               ...           ...             ...   \n",
       "52682          USA         OR  Portland, Oregon      Portland               1   \n",
       "52730          CAN         QC       Quebec City        Quebec               1   \n",
       "52763          USA         TX            Dallas        Dallas               1   \n",
       "52830          USA         TX           Houston       Houston               1   \n",
       "52871          HKG        NaN         Hong Kong     Hong Kong               1   \n",
       "\n",
       "      founded_at first_funding_at last_funding_at  closed_at  \n",
       "48    1948-01-01       2014-11-24      2014-11-24        NaT  \n",
       "93    2005-03-27       2007-02-26      2007-02-26        NaT  \n",
       "165   2014-01-11       2015-12-02      2015-12-02 2017-01-27  \n",
       "173   2014-02-15       2015-03-05      2015-03-05        NaT  \n",
       "185   1999-01-01       2006-11-28      2006-11-28 2007-12-24  \n",
       "...          ...              ...             ...        ...  \n",
       "52682 2014-01-31       2014-11-18      2014-11-18        NaT  \n",
       "52730 2006-01-19       2007-05-31      2007-05-31 2009-04-21  \n",
       "52763 1979-01-01       2008-06-11      2008-06-11        NaT  \n",
       "52830 2014-04-20       2014-05-28      2014-05-28        NaT  \n",
       "52871 2013-01-01       2015-11-20      2015-11-20        NaT  \n",
       "\n",
       "[1295 rows x 13 columns]"
      ],
      "text/html": [
       "<div>\n",
       "<style scoped>\n",
       "    .dataframe tbody tr th:only-of-type {\n",
       "        vertical-align: middle;\n",
       "    }\n",
       "\n",
       "    .dataframe tbody tr th {\n",
       "        vertical-align: top;\n",
       "    }\n",
       "\n",
       "    .dataframe thead th {\n",
       "        text-align: right;\n",
       "    }\n",
       "</style>\n",
       "<table border=\"1\" class=\"dataframe\">\n",
       "  <thead>\n",
       "    <tr style=\"text-align: right;\">\n",
       "      <th></th>\n",
       "      <th>name</th>\n",
       "      <th>category_list</th>\n",
       "      <th>funding_total_usd</th>\n",
       "      <th>status</th>\n",
       "      <th>country_code</th>\n",
       "      <th>state_code</th>\n",
       "      <th>region</th>\n",
       "      <th>city</th>\n",
       "      <th>funding_rounds</th>\n",
       "      <th>founded_at</th>\n",
       "      <th>first_funding_at</th>\n",
       "      <th>last_funding_at</th>\n",
       "      <th>closed_at</th>\n",
       "    </tr>\n",
       "  </thead>\n",
       "  <tbody>\n",
       "    <tr>\n",
       "      <th>48</th>\n",
       "      <td>Daniel's Jewelers</td>\n",
       "      <td>NaN</td>\n",
       "      <td>NaN</td>\n",
       "      <td>0</td>\n",
       "      <td>USA</td>\n",
       "      <td>CA</td>\n",
       "      <td>Los Angeles</td>\n",
       "      <td>Culver City</td>\n",
       "      <td>1</td>\n",
       "      <td>1948-01-01</td>\n",
       "      <td>2014-11-24</td>\n",
       "      <td>2014-11-24</td>\n",
       "      <td>NaT</td>\n",
       "    </tr>\n",
       "    <tr>\n",
       "      <th>93</th>\n",
       "      <td>ImageScan Inc.</td>\n",
       "      <td>NaN</td>\n",
       "      <td>1,550,000.00</td>\n",
       "      <td>0</td>\n",
       "      <td>USA</td>\n",
       "      <td>CA</td>\n",
       "      <td>SF Bay Area</td>\n",
       "      <td>Sausalito</td>\n",
       "      <td>1</td>\n",
       "      <td>2005-03-27</td>\n",
       "      <td>2007-02-26</td>\n",
       "      <td>2007-02-26</td>\n",
       "      <td>NaT</td>\n",
       "    </tr>\n",
       "    <tr>\n",
       "      <th>165</th>\n",
       "      <td>Crew32</td>\n",
       "      <td>NaN</td>\n",
       "      <td>5,174,999.00</td>\n",
       "      <td>1</td>\n",
       "      <td>USA</td>\n",
       "      <td>CA</td>\n",
       "      <td>Los Angeles</td>\n",
       "      <td>Santa Monica</td>\n",
       "      <td>1</td>\n",
       "      <td>2014-01-11</td>\n",
       "      <td>2015-12-02</td>\n",
       "      <td>2015-12-02</td>\n",
       "      <td>2017-01-27</td>\n",
       "    </tr>\n",
       "    <tr>\n",
       "      <th>173</th>\n",
       "      <td>Qerja</td>\n",
       "      <td>NaN</td>\n",
       "      <td>NaN</td>\n",
       "      <td>0</td>\n",
       "      <td>IDN</td>\n",
       "      <td>4</td>\n",
       "      <td>Jakarta</td>\n",
       "      <td>Jakarta</td>\n",
       "      <td>1</td>\n",
       "      <td>2014-02-15</td>\n",
       "      <td>2015-03-05</td>\n",
       "      <td>2015-03-05</td>\n",
       "      <td>NaT</td>\n",
       "    </tr>\n",
       "    <tr>\n",
       "      <th>185</th>\n",
       "      <td>Chongqing Haifu Technology</td>\n",
       "      <td>NaN</td>\n",
       "      <td>NaN</td>\n",
       "      <td>1</td>\n",
       "      <td>CHN</td>\n",
       "      <td>8</td>\n",
       "      <td>Chongqing</td>\n",
       "      <td>Chongqing</td>\n",
       "      <td>1</td>\n",
       "      <td>1999-01-01</td>\n",
       "      <td>2006-11-28</td>\n",
       "      <td>2006-11-28</td>\n",
       "      <td>2007-12-24</td>\n",
       "    </tr>\n",
       "    <tr>\n",
       "      <th>...</th>\n",
       "      <td>...</td>\n",
       "      <td>...</td>\n",
       "      <td>...</td>\n",
       "      <td>...</td>\n",
       "      <td>...</td>\n",
       "      <td>...</td>\n",
       "      <td>...</td>\n",
       "      <td>...</td>\n",
       "      <td>...</td>\n",
       "      <td>...</td>\n",
       "      <td>...</td>\n",
       "      <td>...</td>\n",
       "      <td>...</td>\n",
       "    </tr>\n",
       "    <tr>\n",
       "      <th>52682</th>\n",
       "      <td>Sleeping On Air</td>\n",
       "      <td>NaN</td>\n",
       "      <td>NaN</td>\n",
       "      <td>0</td>\n",
       "      <td>USA</td>\n",
       "      <td>OR</td>\n",
       "      <td>Portland, Oregon</td>\n",
       "      <td>Portland</td>\n",
       "      <td>1</td>\n",
       "      <td>2014-01-31</td>\n",
       "      <td>2014-11-18</td>\n",
       "      <td>2014-11-18</td>\n",
       "      <td>NaT</td>\n",
       "    </tr>\n",
       "    <tr>\n",
       "      <th>52730</th>\n",
       "      <td>Pegase Medical</td>\n",
       "      <td>NaN</td>\n",
       "      <td>2,795,031.06</td>\n",
       "      <td>1</td>\n",
       "      <td>CAN</td>\n",
       "      <td>QC</td>\n",
       "      <td>Quebec City</td>\n",
       "      <td>Quebec</td>\n",
       "      <td>1</td>\n",
       "      <td>2006-01-19</td>\n",
       "      <td>2007-05-31</td>\n",
       "      <td>2007-05-31</td>\n",
       "      <td>2009-04-21</td>\n",
       "    </tr>\n",
       "    <tr>\n",
       "      <th>52763</th>\n",
       "      <td>Associa</td>\n",
       "      <td>NaN</td>\n",
       "      <td>NaN</td>\n",
       "      <td>0</td>\n",
       "      <td>USA</td>\n",
       "      <td>TX</td>\n",
       "      <td>Dallas</td>\n",
       "      <td>Dallas</td>\n",
       "      <td>1</td>\n",
       "      <td>1979-01-01</td>\n",
       "      <td>2008-06-11</td>\n",
       "      <td>2008-06-11</td>\n",
       "      <td>NaT</td>\n",
       "    </tr>\n",
       "    <tr>\n",
       "      <th>52830</th>\n",
       "      <td>Thermal Nomad</td>\n",
       "      <td>NaN</td>\n",
       "      <td>NaN</td>\n",
       "      <td>0</td>\n",
       "      <td>USA</td>\n",
       "      <td>TX</td>\n",
       "      <td>Houston</td>\n",
       "      <td>Houston</td>\n",
       "      <td>1</td>\n",
       "      <td>2014-04-20</td>\n",
       "      <td>2014-05-28</td>\n",
       "      <td>2014-05-28</td>\n",
       "      <td>NaT</td>\n",
       "    </tr>\n",
       "    <tr>\n",
       "      <th>52871</th>\n",
       "      <td>ScramCard</td>\n",
       "      <td>NaN</td>\n",
       "      <td>NaN</td>\n",
       "      <td>0</td>\n",
       "      <td>HKG</td>\n",
       "      <td>NaN</td>\n",
       "      <td>Hong Kong</td>\n",
       "      <td>Hong Kong</td>\n",
       "      <td>1</td>\n",
       "      <td>2013-01-01</td>\n",
       "      <td>2015-11-20</td>\n",
       "      <td>2015-11-20</td>\n",
       "      <td>NaT</td>\n",
       "    </tr>\n",
       "  </tbody>\n",
       "</table>\n",
       "<p>1295 rows × 13 columns</p>\n",
       "</div>"
      ]
     },
     "execution_count": 48,
     "metadata": {},
     "output_type": "execute_result"
    }
   ],
   "execution_count": 48
  },
  {
   "cell_type": "markdown",
   "source": [
    "Есть пропуски в нескольких колонках, обработаем им далее в пайплайне."
   ],
   "metadata": {
    "collapsed": false
   },
   "id": "49d8090c568a6aa9"
  },
  {
   "cell_type": "markdown",
   "source": [
    "#### Неявные дубликаты"
   ],
   "metadata": {
    "collapsed": false
   },
   "id": "db12186651315c83"
  },
  {
   "cell_type": "code",
   "source": [
    "# check_unique(df_train)\n",
    "ss()"
   ],
   "metadata": {
    "collapsed": false,
    "ExecuteTime": {
     "end_time": "2024-04-12T12:50:39.675169Z",
     "start_time": "2024-04-12T12:50:39.578458Z"
    }
   },
   "id": "9fe68ca1bbfa06c1",
   "outputs": [
    {
     "ename": "NameError",
     "evalue": "name 'ss' is not defined",
     "output_type": "error",
     "traceback": [
      "\u001B[0;31m---------------------------------------------------------------------------\u001B[0m",
      "\u001B[0;31mNameError\u001B[0m                                 Traceback (most recent call last)",
      "\u001B[0;32m/tmp/ipykernel_21937/674130153.py\u001B[0m in \u001B[0;36m<module>\u001B[0;34m\u001B[0m\n\u001B[1;32m      1\u001B[0m \u001B[0;31m# check_unique(df_train)\u001B[0m\u001B[0;34m\u001B[0m\u001B[0;34m\u001B[0m\u001B[0m\n\u001B[0;32m----> 2\u001B[0;31m \u001B[0mss\u001B[0m\u001B[0;34m(\u001B[0m\u001B[0;34m)\u001B[0m\u001B[0;34m\u001B[0m\u001B[0;34m\u001B[0m\u001B[0m\n\u001B[0m",
      "\u001B[0;31mNameError\u001B[0m: name 'ss' is not defined"
     ]
    }
   ],
   "execution_count": 20
  },
  {
   "cell_type": "markdown",
   "source": [
    "#### Явные дубликаты"
   ],
   "metadata": {
    "collapsed": false
   },
   "id": "fa62678163b0c2dd"
  },
  {
   "cell_type": "code",
   "source": "# check_duplicated(df_train)",
   "metadata": {
    "collapsed": false
   },
   "id": "76fcfcfa0916a4fb",
   "outputs": [],
   "execution_count": null
  },
  {
   "cell_type": "markdown",
   "source": [
    "### Тестовая выборка"
   ],
   "metadata": {
    "collapsed": false
   },
   "id": "1f1597edba7781b8"
  },
  {
   "cell_type": "markdown",
   "source": [
    "#### Типы"
   ],
   "metadata": {
    "collapsed": false
   },
   "id": "128e7bedfaf9d215"
  },
  {
   "cell_type": "markdown",
   "source": [
    "Приведем типы с датами в верный формат"
   ],
   "metadata": {
    "collapsed": false
   },
   "id": "87c8a004ceb719f3"
  },
  {
   "cell_type": "code",
   "source": [
    "df_test['founded_at'] = pd.to_datetime(df_train['founded_at'])\n",
    "df_test['first_funding_at'] = pd.to_datetime(df_train['first_funding_at'])\n",
    "df_test['last_funding_at'] = pd.to_datetime(df_train['last_funding_at'])\n",
    "df_test['closed_at'] = pd.to_datetime(df_train['closed_at'])"
   ],
   "metadata": {
    "collapsed": false,
    "ExecuteTime": {
     "end_time": "2024-04-12T12:50:39.758371Z",
     "start_time": "2024-04-12T12:50:39.678731Z"
    }
   },
   "id": "b9f9506149339602",
   "outputs": [],
   "execution_count": 21
  },
  {
   "metadata": {},
   "cell_type": "markdown",
   "source": "Приведем типы со статусом к 0 / 1",
   "id": "96d5f5bec7817c9"
  },
  {
   "metadata": {
    "ExecuteTime": {
     "end_time": "2024-04-12T12:50:39.764210Z",
     "start_time": "2024-04-12T12:50:39.759444Z"
    }
   },
   "cell_type": "code",
   "source": "df_test['status'] = df_test['status'].apply(status_int)",
   "id": "feeb0fbd2605e205",
   "outputs": [],
   "execution_count": 22
  },
  {
   "cell_type": "code",
   "source": [
    "df_test.info()"
   ],
   "metadata": {
    "collapsed": false,
    "ExecuteTime": {
     "end_time": "2024-04-12T12:50:39.988128Z",
     "start_time": "2024-04-12T12:50:39.971439Z"
    }
   },
   "id": "c88d82cd434ec43d",
   "outputs": [
    {
     "name": "stdout",
     "output_type": "stream",
     "text": [
      "<class 'pandas.core.frame.DataFrame'>\n",
      "Int64Index: 13211 entries, 0 to 13210\n",
      "Data columns (total 13 columns):\n",
      " #   Column             Non-Null Count  Dtype         \n",
      "---  ------             --------------  -----         \n",
      " 0   name               13211 non-null  object        \n",
      " 1   category_list      12610 non-null  object        \n",
      " 2   funding_total_usd  10616 non-null  float64       \n",
      " 3   country_code       11827 non-null  object        \n",
      " 4   state_code         11512 non-null  object        \n",
      " 5   region             11618 non-null  object        \n",
      " 6   city               11620 non-null  object        \n",
      " 7   funding_rounds     13211 non-null  int64         \n",
      " 8   founded_at         13204 non-null  datetime64[ns]\n",
      " 9   first_funding_at   13204 non-null  datetime64[ns]\n",
      " 10  last_funding_at    13204 non-null  datetime64[ns]\n",
      " 11  closed_at          1271 non-null   datetime64[ns]\n",
      " 12  status             13211 non-null  int64         \n",
      "dtypes: datetime64[ns](4), float64(1), int64(2), object(6)\n",
      "memory usage: 1.4+ MB\n"
     ]
    }
   ],
   "execution_count": 23
  },
  {
   "cell_type": "markdown",
   "source": [
    "#### Пропуски"
   ],
   "metadata": {
    "collapsed": false
   },
   "id": "c3e9f6fd75637e16"
  },
  {
   "cell_type": "code",
   "source": "# isna_rate(df_test)",
   "metadata": {
    "collapsed": false,
    "ExecuteTime": {
     "end_time": "2024-04-12T12:50:40.226818Z",
     "start_time": "2024-04-12T12:50:40.224764Z"
    }
   },
   "id": "939412d68abfa3b5",
   "outputs": [],
   "execution_count": 24
  },
  {
   "cell_type": "markdown",
   "source": [
    "Есть пропуски в нескольких колонках, обработаем им далее в пайплайне."
   ],
   "metadata": {
    "collapsed": false
   },
   "id": "ac92ddd92e3b7ea7"
  },
  {
   "cell_type": "markdown",
   "source": [
    "#### Неявные дубликаты"
   ],
   "metadata": {
    "collapsed": false
   },
   "id": "66fded11209ae21d"
  },
  {
   "cell_type": "code",
   "source": "# check_unique(df_train)",
   "metadata": {
    "collapsed": false,
    "ExecuteTime": {
     "end_time": "2024-04-12T12:50:40.265240Z",
     "start_time": "2024-04-12T12:50:40.263249Z"
    }
   },
   "id": "37444cf56d5d1446",
   "outputs": [],
   "execution_count": 25
  },
  {
   "cell_type": "markdown",
   "source": [
    "#### Явные дубликаты"
   ],
   "metadata": {
    "collapsed": false
   },
   "id": "ad7d5ea8b56b738c"
  },
  {
   "cell_type": "code",
   "source": "# check_duplicated(df_test)",
   "metadata": {
    "collapsed": false,
    "ExecuteTime": {
     "end_time": "2024-04-12T12:50:40.315666Z",
     "start_time": "2024-04-12T12:50:40.313538Z"
    }
   },
   "id": "9f803ecca97caf5b",
   "outputs": [],
   "execution_count": 26
  },
  {
   "cell_type": "markdown",
   "source": [
    "## Исследовательский анализ данных"
   ],
   "metadata": {
    "collapsed": false
   },
   "id": "6f9ce8cb90a99a1b"
  },
  {
   "cell_type": "code",
   "source": [
    "# Графики для анализа числовых колонок\n",
    "def column_quantitative_info(df, column):\n",
    "    desc = df[column].describe()\n",
    "    print(desc)\n",
    "    if df[column].dtype == 'int64':\n",
    "        n_bins = (df[column].max() - df[column].min()) + 1\n",
    "        if n_bins > 100:\n",
    "            binwidth = None\n",
    "            discrete = False\n",
    "            bins = 'auto'\n",
    "        else:\n",
    "            bins = n_bins\n",
    "            discrete = True\n",
    "            binwidth = 1\n",
    "    else:\n",
    "        binwidth = None\n",
    "        discrete = False\n",
    "        bins = 'auto'\n",
    "    print(discrete, bins)\n",
    "    fig, axes = plt.subplots(nrows=1, ncols=3, figsize=(15, 5))\n",
    "    sns.histplot(data=df[column], kde=False, ax=axes[0], discrete=discrete, binwidth=binwidth, bins=bins)\n",
    "    axes[0].axvline(df[column].mean(), color='red', linestyle='--', label='Mean')\n",
    "    axes[0].set_title('Гистограмма распределения')\n",
    "    axes[0].set_ylabel('Частота')\n",
    "    axes[0].set_xlabel(column_names[column])\n",
    "    sns.boxplot(data=df[column], palette='rainbow', ax=axes[1])\n",
    "    axes[1].set_title('Разброс значений признаков')\n",
    "    axes[1].set_ylabel('Значение')\n",
    "    stats.probplot(df[column], plot=sns.mpl.pyplot, dist=\"norm\")\n",
    "    axes[2].set_title('Q-Q график')\n",
    "    axes[2].set_ylabel('Квантили эмпирических данных')\n",
    "    axes[2].set_xlabel('Теоретические квантили')\n",
    "    plt.show()"
   ],
   "metadata": {
    "collapsed": false,
    "ExecuteTime": {
     "end_time": "2024-04-12T12:50:40.348420Z",
     "start_time": "2024-04-12T12:50:40.342318Z"
    }
   },
   "id": "ee9b0f70baac085d",
   "outputs": [],
   "execution_count": 27
  },
  {
   "cell_type": "code",
   "source": [
    "# Числовые колонки\n",
    "def quantitative_info(df):\n",
    "    for column in df.loc[:, df.columns != 'id'].select_dtypes(include='number').columns.tolist():\n",
    "        stat, p_val = shapiro(df[column])\n",
    "        print(f'Колонка: \\'{column}\\':')\n",
    "        if p_val < 0.5:\n",
    "            print('Распределение: не нормальное')\n",
    "        else:\n",
    "            print('Распределение: нормальное')\n",
    "        column_quantitative_info(df, column)"
   ],
   "metadata": {
    "collapsed": false,
    "ExecuteTime": {
     "end_time": "2024-04-12T12:50:40.393641Z",
     "start_time": "2024-04-12T12:50:40.390573Z"
    }
   },
   "id": "b0aa401449c5a06",
   "outputs": [],
   "execution_count": 28
  },
  {
   "cell_type": "code",
   "source": [
    "# Строковые колонки   \n",
    "def categorical_info(df):\n",
    "    for column in df.loc[:, df.columns != 'id'].select_dtypes(include='object').columns.tolist():\n",
    "        print(f'Колонка: \\'{column_names[column]}\\':')\n",
    "        print((df[column].describe()))\n",
    "        df[column].value_counts().plot(title=column_names[column], autopct='%1.1f%%', kind='pie', figsize=(7, 7))\n",
    "        plt.ylabel(f\"Соотношение {column_names[column]}\")\n",
    "        plt.show()"
   ],
   "metadata": {
    "collapsed": false,
    "ExecuteTime": {
     "end_time": "2024-04-12T12:50:40.401860Z",
     "start_time": "2024-04-12T12:50:40.398359Z"
    }
   },
   "id": "50fc9d1f269fac08",
   "outputs": [],
   "execution_count": 29
  },
  {
   "cell_type": "markdown",
   "source": [
    "### Тренировочная выборка"
   ],
   "metadata": {
    "collapsed": false
   },
   "id": "4a6126c029322d48"
  },
  {
   "cell_type": "code",
   "source": [
    "RANDOM_STATE = 42\n",
    "# Сделаем sample_df для анализа\n",
    "df_train_sample = df_train.sample(n=1000, random_state=RANDOM_STATE).reset_index(drop=True)"
   ],
   "metadata": {
    "collapsed": false,
    "ExecuteTime": {
     "end_time": "2024-04-12T12:50:40.428844Z",
     "start_time": "2024-04-12T12:50:40.424503Z"
    }
   },
   "id": "b552af835b089a1a",
   "outputs": [],
   "execution_count": 30
  },
  {
   "cell_type": "markdown",
   "source": [
    "#### Количественные колонки"
   ],
   "metadata": {
    "collapsed": false
   },
   "id": "ca93154e7d091702"
  },
  {
   "cell_type": "code",
   "source": "# quantitative_info(df_train_sample)",
   "metadata": {
    "collapsed": false,
    "ExecuteTime": {
     "end_time": "2024-04-12T12:50:40.468002Z",
     "start_time": "2024-04-12T12:50:40.466053Z"
    }
   },
   "id": "77ce78bcad6fbbaf",
   "outputs": [],
   "execution_count": 31
  },
  {
   "cell_type": "markdown",
   "source": [
    "Признаки имеют нормальное и не нормальное распределение."
   ],
   "metadata": {
    "collapsed": false
   },
   "id": "45f7068fadfbed4b"
  },
  {
   "cell_type": "markdown",
   "source": [
    "Аномальных значений как таковых не выявлено."
   ],
   "metadata": {
    "collapsed": false
   },
   "id": "6b07c987ad1f7a5c"
  },
  {
   "cell_type": "markdown",
   "source": [
    "#### Категориальные колонки"
   ],
   "metadata": {
    "collapsed": false
   },
   "id": "1534f416b95381e5"
  },
  {
   "cell_type": "code",
   "source": "# categorical_info(df_train_sample.drop(['name'], axis=1))",
   "metadata": {
    "collapsed": false,
    "ExecuteTime": {
     "end_time": "2024-04-12T12:50:40.487254Z",
     "start_time": "2024-04-12T12:50:40.485369Z"
    }
   },
   "id": "82144c8498301c57",
   "outputs": [],
   "execution_count": 32
  },
  {
   "cell_type": "markdown",
   "source": [
    "Выводы:\n",
    "- Популярная категория Software.\n",
    "- Большинство компаний из США.\n",
    "- Большинство компаний из города San Francisco.\n",
    "- Большинство компаний из региона SF Bay Area.\n",
    "- Большинство компаний не закрыты."
   ],
   "metadata": {
    "collapsed": false
   },
   "id": "d5db3c1ffb48f337"
  },
  {
   "cell_type": "markdown",
   "source": [
    "### Тестовая выборка"
   ],
   "metadata": {
    "collapsed": false
   },
   "id": "5bd1b0247d525784"
  },
  {
   "metadata": {
    "ExecuteTime": {
     "end_time": "2024-04-12T12:50:40.521030Z",
     "start_time": "2024-04-12T12:50:40.516826Z"
    }
   },
   "cell_type": "code",
   "source": [
    "# Сделаем sample_df для анализа\n",
    "df_test_sample = df_test.sample(n=1000, random_state=RANDOM_STATE).reset_index(drop=True)"
   ],
   "id": "57f85c5e325e0178",
   "outputs": [],
   "execution_count": 33
  },
  {
   "cell_type": "markdown",
   "source": [
    "#### Количественные колонки"
   ],
   "metadata": {
    "collapsed": false
   },
   "id": "a6d51cdfb50f27d9"
  },
  {
   "cell_type": "code",
   "source": "# quantitative_info(df_test_sample)",
   "metadata": {
    "collapsed": false,
    "ExecuteTime": {
     "end_time": "2024-04-12T12:50:40.572413Z",
     "start_time": "2024-04-12T12:50:40.570454Z"
    }
   },
   "id": "fd3e02f57c3248ea",
   "outputs": [],
   "execution_count": 34
  },
  {
   "cell_type": "markdown",
   "source": [
    "Признаки имеют нормальное и не нормальное распределение."
   ],
   "metadata": {
    "collapsed": false
   },
   "id": "873c9369287202f9"
  },
  {
   "cell_type": "markdown",
   "source": [
    "Аномальных значений как таковых не выявлено."
   ],
   "metadata": {
    "collapsed": false
   },
   "id": "39cf21fa5d9b2ee6"
  },
  {
   "cell_type": "markdown",
   "source": [
    "#### Категориальные колонки"
   ],
   "metadata": {
    "collapsed": false
   },
   "id": "6e09a9d8380e32e1"
  },
  {
   "cell_type": "code",
   "source": "# categorical_info(df_test_sample.drop(['name'], axis=1))",
   "metadata": {
    "collapsed": false,
    "ExecuteTime": {
     "end_time": "2024-04-12T12:50:40.586514Z",
     "start_time": "2024-04-12T12:50:40.584724Z"
    }
   },
   "id": "aebdbd5599294d0a",
   "outputs": [],
   "execution_count": 35
  },
  {
   "cell_type": "markdown",
   "source": [
    "Выводы:\n",
    "- Популярная категория Software.\n",
    "- Большинство компаний из США.\n",
    "- Большинство компаний из города San Francisco.\n",
    "- Большинство компаний из региона SF Bay Area.\n",
    "- Статусы компании распределены почти равномерно."
   ],
   "metadata": {
    "collapsed": false
   },
   "id": "4a24d19fef3ff00a"
  },
  {
   "metadata": {},
   "cell_type": "markdown",
   "source": "## Подготовка данных",
   "id": "ba22881effa64967"
  },
  {
   "metadata": {
    "ExecuteTime": {
     "end_time": "2024-04-12T12:50:40.615716Z",
     "start_time": "2024-04-12T12:50:40.612962Z"
    }
   },
   "cell_type": "code",
   "source": [
    "def show_phik_matrix(df):\n",
    "    phik_overview = df.sample(1000, random_state=RANDOM_STATE).phik_matrix()\n",
    "    # визуализация тепловой карты коэффициентов корреляции\n",
    "    plot_correlation_matrix(\n",
    "        phik_overview.values,\n",
    "        x_labels=phik_overview.columns,\n",
    "        y_labels=phik_overview.index,\n",
    "        title=r\"correlation $\\phi_K$\",\n",
    "        fontsize_factor=1.5,\n",
    "        figsize=(15, 12)\n",
    "    )"
   ],
   "id": "a06748b0c5c86dab",
   "outputs": [],
   "execution_count": 36
  },
  {
   "metadata": {},
   "cell_type": "markdown",
   "source": "### Матрица корреляции на стандартных данных",
   "id": "6153f4eac211e249"
  },
  {
   "metadata": {},
   "cell_type": "markdown",
   "source": "Изучим коэффициенты корреляции между всеми признаками с целью определения наличия мультиколлинеарности. Для признаков с нормальным распределением будем применять коэффициент Пирсона, а для остальных - коэффициент Спирмена.",
   "id": "bf3ec560e358caff"
  },
  {
   "metadata": {
    "ExecuteTime": {
     "start_time": "2024-04-12T12:50:40.660872Z"
    }
   },
   "cell_type": "code",
   "source": "show_phik_matrix(df_train)",
   "id": "5631c71e38259bd4",
   "outputs": [
    {
     "name": "stdout",
     "output_type": "stream",
     "text": [
      "interval columns not set, guessing: ['funding_total_usd', 'status', 'funding_rounds']\n"
     ]
    }
   ],
   "execution_count": null
  },
  {
   "metadata": {},
   "cell_type": "markdown",
   "source": "Наблюдается утечка целевого признака, по параметрам с датами закрытия",
   "id": "57ac8a85b05f2b9"
  },
  {
   "metadata": {},
   "cell_type": "markdown",
   "source": "### Дополнительные колонки",
   "id": "c2a7357c673a7711"
  },
  {
   "metadata": {},
   "cell_type": "markdown",
   "source": "#### Заполним колонки дата закрытия",
   "id": "b9c33fac8364df25"
  },
  {
   "metadata": {},
   "cell_type": "code",
   "source": [
    "df_train_old = df_train\n",
    "# Заполним пустые значения в колонке дата закрытия на текущую дату что бы посчитать время существование компании.\n",
    "df_train.closed_at.fillna(pd.to_datetime('2018-01-01'), inplace=True)\n",
    "df_train.info()"
   ],
   "id": "dd4011846d93eef1",
   "outputs": [],
   "execution_count": null
  },
  {
   "metadata": {},
   "cell_type": "code",
   "source": [
    "df_test_old = df_test\n",
    "\n",
    "# Заполним пустые значения в колонке дата закрытия на текущую дату что бы посчитать время существование компании.\n",
    "df_test.closed_at = pd.to_datetime('2018-01-01')\n",
    "df_test.info()"
   ],
   "id": "8f6e0bb0664e9d9d",
   "outputs": [],
   "execution_count": null
  },
  {
   "metadata": {},
   "cell_type": "markdown",
   "source": "#### Дополнительные колонки из колонок с датами",
   "id": "1189f0e363fe7a95"
  },
  {
   "metadata": {},
   "cell_type": "code",
   "source": [
    "# def create_new_columns(df):\n",
    "#     # Возраст компании на момент первого финансирования (first_funding_age):\n",
    "#     df['age_first_funding'] = (df['first_funding_at'] - df['founded_at']).dt.days\n",
    "#     \n",
    "#     return df"
   ],
   "id": "8fc9be70982f46b",
   "outputs": [],
   "execution_count": null
  },
  {
   "metadata": {},
   "cell_type": "code",
   "source": "df_train['count_usd_day_life'] = df_train.funding_total_usd / (df_train.closed_at - df_train.founded_at).dt.days",
   "id": "fc1b1dc14211a0cc",
   "outputs": [],
   "execution_count": null
  },
  {
   "metadata": {},
   "cell_type": "code",
   "source": "df_train = df_train.query('closed_at >= founded_at')",
   "id": "1c9229f651e0eb3",
   "outputs": [],
   "execution_count": null
  },
  {
   "metadata": {},
   "cell_type": "code",
   "source": [
    "show_phik_matrix(df_train.drop([\n",
    "    'first_funding_at',\n",
    "    'last_funding_at',\n",
    "    'founded_at',\n",
    "    'closed_at',\n",
    "    'name'\n",
    "], axis=1))"
   ],
   "id": "a483da6c87dfe0da",
   "outputs": [],
   "execution_count": null
  },
  {
   "metadata": {},
   "cell_type": "code",
   "source": [
    "# create_new_columns(df_test)\n",
    "ф()"
   ],
   "id": "e4c6696463460a6b",
   "outputs": [],
   "execution_count": null
  },
  {
   "metadata": {},
   "cell_type": "markdown",
   "source": "#### Дополнительные колонки из колонки с категориями",
   "id": "65e183c0ed66f33e"
  },
  {
   "metadata": {},
   "cell_type": "code",
   "source": [
    "unique_categories = df_train['category_list'].dropna().str.split('|').explode().unique()\n",
    "\n",
    "\n",
    "def category_list_to_binary_columns(df, column_name='category_list'):\n",
    "    for category in unique_categories:\n",
    "        df[f'cat_{category}'] = df[column_name].str.contains(category).fillna(0).astype(int)\n"
   ],
   "id": "5873a03ca5294e36",
   "outputs": [],
   "execution_count": null
  },
  {
   "metadata": {},
   "cell_type": "code",
   "source": [
    "# Разделяем строку на список категорий и создаем бинарные колонки для обучающей\n",
    "# category_list_to_binary_columns(df_train)\n",
    "df_train.head()"
   ],
   "id": "c567d9a966e9a283",
   "outputs": [],
   "execution_count": null
  },
  {
   "metadata": {},
   "cell_type": "code",
   "source": [
    "# Разделяем строку на список категорий и создаем бинарные колонки для обучающей\n",
    "# category_list_to_binary_columns(df_test)\n",
    "df_test.head()"
   ],
   "id": "f410380f456196bb",
   "outputs": [],
   "execution_count": null
  },
  {
   "metadata": {},
   "cell_type": "code",
   "source": "# df_train['category_list'].dropna().str.split('|').explode().unique()",
   "id": "449851a0a9b9a6df",
   "outputs": [],
   "execution_count": null
  },
  {
   "metadata": {},
   "cell_type": "code",
   "source": [
    "df_train_sample = df_train\n",
    "X = df_train_sample.drop([\n",
    "    'name',\n",
    "    'first_funding_at',\n",
    "    'last_funding_at',\n",
    "    'founded_at',\n",
    "    'closed_at',\n",
    "    'category_list'\n",
    "], axis=1)\n",
    "y = df_train_sample['status']\n",
    "show_phik_matrix(X)"
   ],
   "id": "fb2f0fc6fc5e9200",
   "outputs": [],
   "execution_count": null
  },
  {
   "metadata": {},
   "cell_type": "markdown",
   "source": "### Пайплайн подготовки данных",
   "id": "4566f218a13ed257"
  },
  {
   "metadata": {},
   "cell_type": "code",
   "source": "df_train.info()",
   "id": "5a8d43530d255c06",
   "outputs": [],
   "execution_count": null
  },
  {
   "metadata": {},
   "cell_type": "code",
   "source": [
    "# создаём пайплайн для подготовки признаков из списка ohe_columns: заполнение пропусков и OHE-кодирование\n",
    "# SimpleImputer + OHE\n",
    "ohe_pipe = make_pipeline(\n",
    "    SimpleImputer(missing_values=np.nan, strategy='most_frequent'),\n",
    "    OneHotEncoder(drop='first', handle_unknown='ignore')\n",
    ")\n",
    "\n",
    "num_pipe = make_pipeline(\n",
    "    SimpleImputer(missing_values=np.nan, strategy='median'),\n",
    "    StandardScaler()\n",
    ")\n",
    "\n",
    "# создаём общий пайплайн для подготовки данных\n",
    "preprocessor = make_column_transformer(\n",
    "    (ohe_pipe, make_column_selector(dtype_exclude='number')),\n",
    "    (num_pipe, make_column_selector(dtype_include='number')),\n",
    "    remainder='passthrough'\n",
    ")\n",
    "\n",
    "pipe_preparation = Pipeline(\n",
    "    [\n",
    "        ('preprocessor', preprocessor),\n",
    "        ('resample', SMOTE(random_state=RANDOM_STATE))\n",
    "    ]\n",
    ")\n",
    "\n",
    "pipe_preparation"
   ],
   "id": "2669be8578766aaf",
   "outputs": [],
   "execution_count": null
  },
  {
   "metadata": {},
   "cell_type": "markdown",
   "source": "## Обучение модели",
   "id": "4c75e955ed855d12"
  },
  {
   "metadata": {},
   "cell_type": "code",
   "source": [
    "X_train, X_test, y_train, y_test = train_test_split(X.drop(['status'], axis=1), y, test_size=0.25, random_state=RANDOM_STATE)\n",
    "print(f'X {len(X_train)}/{len(X_test)}')\n",
    "print(f'y {len(y_train)}/{len(y_test)}')"
   ],
   "id": "a37271ec2675c155",
   "outputs": [],
   "execution_count": null
  },
  {
   "metadata": {},
   "cell_type": "code",
   "source": [
    "pipe_final = Pipeline(\n",
    "    [\n",
    "        ('preprocessor', preprocessor),\n",
    "        ('resample', SMOTE(random_state=RANDOM_STATE)),\n",
    "        ('models', LogisticRegression(random_state=RANDOM_STATE))\n",
    "    ]\n",
    ")\n",
    "pipe_final"
   ],
   "id": "965775eae28811dc",
   "outputs": [],
   "execution_count": null
  },
  {
   "metadata": {},
   "cell_type": "code",
   "source": [
    "pipe_final.fit(X_train, y_train)\n",
    "preds = pipe_final.predict(X_test)\n",
    "print(classification_report(y_test, preds))"
   ],
   "id": "5bebca5bec5215fe",
   "outputs": [],
   "execution_count": null
  },
  {
   "metadata": {},
   "cell_type": "code",
   "source": [
    "preds = pipe_final.predict(df_test.drop(['status'], axis=1))\n",
    "print(classification_report(df_test['status'], preds))"
   ],
   "id": "94c3ca9e1bb25cbd",
   "outputs": [],
   "execution_count": null
  },
  {
   "metadata": {},
   "cell_type": "code",
   "source": [
    "# Настройка гиперпараметров моделей\n",
    "param_grid = [\n",
    "    # словарь для модели LogisticRegression()\n",
    "    {\n",
    "        'models': [LogisticRegression(random_state=RANDOM_STATE, class_weight='balanced')],\n",
    "        'models__C': range(1, 5),\n",
    "        'models__solver': ['newton-cg', 'lbfgs', 'liblinear', 'sag', 'saga'],\n",
    "        'models__penalty': ['l1', 'l2'],\n",
    "        'preprocessor__pipeline-2__standardscaler': [StandardScaler(), MinMaxScaler(), 'passthrough']\n",
    "    },\n",
    "\n",
    "    # словарь для модели DecisionTreeClassifier() \n",
    "    {\n",
    "        'models': [DecisionTreeClassifier(random_state=RANDOM_STATE, class_weight='balanced')],\n",
    "        'models__criterion': ['log_loss', 'entropy', 'gini'],\n",
    "        'models__max_depth': range(1, 100),\n",
    "        'models__min_samples_split': range(2, 10),\n",
    "        'models__min_samples_leaf': range(1, 10),\n",
    "        'models__max_features': range(1, 10),\n",
    "        'preprocessor__pipeline-2__standardscaler': [StandardScaler(), MinMaxScaler(), 'passthrough']\n",
    "    },\n",
    "    # словарь для модели RandomForestClassifier() \n",
    "    {\n",
    "        'models': [RandomForestClassifier(random_state=RANDOM_STATE, class_weight='balanced')],\n",
    "        'models__n_estimators': range(1, 100),\n",
    "        'models__max_depth': range(1, 100),\n",
    "        'preprocessor__pipeline-2__standardscaler': [StandardScaler(), MinMaxScaler(), 'passthrough']\n",
    "    },\n",
    "    # словарь для модели GradientBoostingClassifier()\n",
    "    {\n",
    "        'models': [GradientBoostingClassifier(random_state=RANDOM_STATE)],\n",
    "        'models__n_estimators': range(1, 100),\n",
    "        'models__max_depth': range(1, 100),\n",
    "        'preprocessor__pipeline-2__standardscaler': [StandardScaler(), MinMaxScaler(), 'passthrough']\n",
    "    },\n",
    "    # словарь для модели MLP()\n",
    "    {\n",
    "        'models': [MLPClassifier(random_state=RANDOM_STATE)],\n",
    "        'models__hidden_layer_sizesr': [(64,), (128,), (64, 64)],\n",
    "        'models__hidden_layer_alpha': [(64,), (128,), (64, 64)],\n",
    "        'preprocessor__pipeline-2__standardscaler': [StandardScaler(), MinMaxScaler(), 'passthrough']\n",
    "    }\n",
    "]\n",
    "\n",
    "randomized_search = RandomizedSearchCV(\n",
    "    pipe_final,\n",
    "    param_grid,\n",
    "    cv=5,\n",
    "    scoring='neg_mean_absolute_error'\n",
    ")\n",
    "\n",
    "randomized_search"
   ],
   "id": "4adf0f7efcd822b6",
   "outputs": [],
   "execution_count": null
  },
  {
   "metadata": {},
   "cell_type": "code",
   "source": [
    "randomized_search.fit(X_train, y_train)\n",
    "print('Лучшая модель и её параметры:\\n\\n', randomized_search.best_estimator_)\n",
    "print('Метрика лучшей модели на тренировочной выборке:', round(randomized_search.best_score_, 2))"
   ],
   "id": "7d0fa61c854dfeea",
   "outputs": [],
   "execution_count": null
  },
  {
   "metadata": {},
   "cell_type": "code",
   "source": "randomized_search.best_estimator_.named_steps['models']",
   "id": "811fae08468b5799",
   "outputs": [],
   "execution_count": null
  },
  {
   "metadata": {},
   "cell_type": "code",
   "source": [
    "preds = randomized_search.predict(X_test)\n",
    "print(classification_report(y_test, preds))"
   ],
   "id": "6a14d1931a3cae2f",
   "outputs": [],
   "execution_count": null
  },
  {
   "metadata": {},
   "cell_type": "code",
   "source": [
    "aa()\n",
    "pipe_final.named_steps['models'].feature_importances_"
   ],
   "id": "51e8391ebe7d06f2",
   "outputs": [],
   "execution_count": null
  },
  {
   "metadata": {},
   "cell_type": "code",
   "source": [
    "feature_importances = pipe_final.named_steps['models'].feature_importances_\n",
    "feature_names = preprocessor.get_feature_names_out()\n",
    "feature_names"
   ],
   "id": "bbb53efa3a1e8dce",
   "outputs": [],
   "execution_count": null
  },
  {
   "metadata": {},
   "cell_type": "code",
   "source": "pd.DataFrame(feature_importances, index=feature_names).head(10).sort_values(by=0).plot(kind='barh')",
   "id": "b62a8895f3bd6a7a",
   "outputs": [],
   "execution_count": null
  },
  {
   "metadata": {},
   "cell_type": "code",
   "source": [
    "# model = randomized_search.best_estimator_.named_steps['models']\n",
    "# preprocessor = randomized_search.best_estimator_.named_steps['preprocessor']\n",
    "# \n",
    "# feature_importances = pd.DataFrame(\n",
    "#     {\n",
    "#         'Feature': preprocessor.get_feature_names_out(),\n",
    "#         'Importance': model.feature_importances_\n",
    "#     }).sort_values(by='Importance', ascending=False)\n",
    "# feature_importances.head(10)"
   ],
   "id": "d9cf02e538552624",
   "outputs": [],
   "execution_count": null
  },
  {
   "metadata": {},
   "cell_type": "code",
   "source": [
    "# ax = sns.barplot(x='Importance', y='Feature', data=feature_importances.head(10))\n",
    "# ax.set_title('Важность признаков', fontsize=16)\n",
    "# ax.set_xlabel('Важность (доля)', fontsize=14)\n",
    "# ax.set_ylabel('Признак', fontsize=14)\n",
    "# plt.show()"
   ],
   "id": "b4de6d6e3efacef4",
   "outputs": [],
   "execution_count": null
  }
 ],
 "metadata": {
  "kernelspec": {
   "display_name": "Python 3",
   "language": "python",
   "name": "python3"
  },
  "language_info": {
   "codemirror_mode": {
    "name": "ipython",
    "version": 2
   },
   "file_extension": ".py",
   "mimetype": "text/x-python",
   "name": "python",
   "nbconvert_exporter": "python",
   "pygments_lexer": "ipython2",
   "version": "2.7.6"
  }
 },
 "nbformat": 4,
 "nbformat_minor": 5
}
