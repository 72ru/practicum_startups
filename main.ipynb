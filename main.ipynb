{
 "cells": [
  {
   "metadata": {
    "ExecuteTime": {
     "end_time": "2024-04-15T08:10:10.799093Z",
     "start_time": "2024-04-15T08:10:09.570415Z"
    }
   },
   "cell_type": "code",
   "source": "!pip install pandas matplotlib seaborn phik imblearn",
   "id": "80ef0eb082f8593c",
   "outputs": [
    {
     "name": "stdout",
     "output_type": "stream",
     "text": [
      "Requirement already satisfied: pandas in ./venv/lib/python3.9/site-packages (2.2.2)\r\n",
      "Requirement already satisfied: matplotlib in ./venv/lib/python3.9/site-packages (3.8.4)\r\n",
      "Requirement already satisfied: seaborn in ./venv/lib/python3.9/site-packages (0.13.2)\r\n",
      "Requirement already satisfied: phik in ./venv/lib/python3.9/site-packages (0.12.4)\r\n",
      "Requirement already satisfied: imblearn in ./venv/lib/python3.9/site-packages (0.0)\r\n",
      "Requirement already satisfied: numpy>=1.22.4 in ./venv/lib/python3.9/site-packages (from pandas) (1.26.4)\r\n",
      "Requirement already satisfied: python-dateutil>=2.8.2 in ./venv/lib/python3.9/site-packages (from pandas) (2.9.0.post0)\r\n",
      "Requirement already satisfied: pytz>=2020.1 in ./venv/lib/python3.9/site-packages (from pandas) (2024.1)\r\n",
      "Requirement already satisfied: tzdata>=2022.7 in ./venv/lib/python3.9/site-packages (from pandas) (2024.1)\r\n",
      "Requirement already satisfied: contourpy>=1.0.1 in ./venv/lib/python3.9/site-packages (from matplotlib) (1.2.1)\r\n",
      "Requirement already satisfied: cycler>=0.10 in ./venv/lib/python3.9/site-packages (from matplotlib) (0.12.1)\r\n",
      "Requirement already satisfied: fonttools>=4.22.0 in ./venv/lib/python3.9/site-packages (from matplotlib) (4.51.0)\r\n",
      "Requirement already satisfied: kiwisolver>=1.3.1 in ./venv/lib/python3.9/site-packages (from matplotlib) (1.4.5)\r\n",
      "Requirement already satisfied: packaging>=20.0 in ./venv/lib/python3.9/site-packages (from matplotlib) (24.0)\r\n",
      "Requirement already satisfied: pillow>=8 in ./venv/lib/python3.9/site-packages (from matplotlib) (10.3.0)\r\n",
      "Requirement already satisfied: pyparsing>=2.3.1 in ./venv/lib/python3.9/site-packages (from matplotlib) (3.1.2)\r\n",
      "Requirement already satisfied: importlib-resources>=3.2.0 in ./venv/lib/python3.9/site-packages (from matplotlib) (6.4.0)\r\n",
      "Requirement already satisfied: scipy>=1.5.2 in ./venv/lib/python3.9/site-packages (from phik) (1.13.0)\r\n",
      "Requirement already satisfied: joblib>=0.14.1 in ./venv/lib/python3.9/site-packages (from phik) (1.4.0)\r\n",
      "Requirement already satisfied: imbalanced-learn in ./venv/lib/python3.9/site-packages (from imblearn) (0.12.2)\r\n",
      "Requirement already satisfied: zipp>=3.1.0 in ./venv/lib/python3.9/site-packages (from importlib-resources>=3.2.0->matplotlib) (3.18.1)\r\n",
      "Requirement already satisfied: six>=1.5 in ./venv/lib/python3.9/site-packages (from python-dateutil>=2.8.2->pandas) (1.16.0)\r\n",
      "Requirement already satisfied: scikit-learn>=1.0.2 in ./venv/lib/python3.9/site-packages (from imbalanced-learn->imblearn) (1.4.2)\r\n",
      "Requirement already satisfied: threadpoolctl>=2.0.0 in ./venv/lib/python3.9/site-packages (from imbalanced-learn->imblearn) (3.4.0)\r\n",
      "\r\n",
      "\u001B[1m[\u001B[0m\u001B[34;49mnotice\u001B[0m\u001B[1;39;49m]\u001B[0m\u001B[39;49m A new release of pip is available: \u001B[0m\u001B[31;49m23.2.1\u001B[0m\u001B[39;49m -> \u001B[0m\u001B[32;49m24.0\u001B[0m\r\n",
      "\u001B[1m[\u001B[0m\u001B[34;49mnotice\u001B[0m\u001B[1;39;49m]\u001B[0m\u001B[39;49m To update, run: \u001B[0m\u001B[32;49mpip install --upgrade pip\u001B[0m\r\n"
     ]
    }
   ],
   "execution_count": 9
  },
  {
   "metadata": {
    "ExecuteTime": {
     "end_time": "2024-04-15T08:10:10.805119Z",
     "start_time": "2024-04-15T08:10:10.800590Z"
    }
   },
   "cell_type": "code",
   "source": [
    "import pandas as pd\n",
    "import matplotlib.pyplot as plt\n",
    "import seaborn as sns\n",
    "from scipy import stats\n",
    "from phik.report import plot_correlation_matrix\n",
    "import numpy as np\n",
    "from scipy.stats import shapiro\n",
    "\n",
    "# загружаем класс pipeline\n",
    "from imblearn.pipeline import Pipeline, make_pipeline\n",
    "from sklearn.pipeline import FeatureUnion\n",
    "\n",
    "# загружаем классы для подготовки данных\n",
    "from sklearn.model_selection import train_test_split\n",
    "from sklearn.preprocessing import OneHotEncoder, StandardScaler, MinMaxScaler, OrdinalEncoder\n",
    "from sklearn.compose import make_column_selector, make_column_transformer, ColumnTransformer\n",
    "\n",
    "# загружаем класс для работы с пропусками\n",
    "from sklearn.impute import SimpleImputer\n",
    "\n",
    "# загружаем функцию для работы с метриками\n",
    "from sklearn.metrics import f1_score, mean_absolute_error, classification_report\n",
    "\n",
    "# импортируем класс RandomizedSearchCV\n",
    "from sklearn.model_selection import RandomizedSearchCV\n",
    "\n",
    "from imblearn.over_sampling import SMOTE\n",
    "\n",
    "# загружаем нужные модели\n",
    "from sklearn.linear_model import LogisticRegression\n",
    "from sklearn.tree import DecisionTreeClassifier\n",
    "from sklearn.ensemble import RandomForestClassifier, GradientBoostingClassifier\n",
    "from sklearn.neural_network import MLPClassifier\n",
    "\n",
    "import warnings"
   ],
   "id": "a9dd1bc7fd722469",
   "outputs": [],
   "execution_count": 10
  },
  {
   "cell_type": "code",
   "source": [
    "pd.set_option('display.float_format', '{:,.2f}'.format)\n",
    "warnings.filterwarnings('ignore')"
   ],
   "metadata": {
    "collapsed": false,
    "ExecuteTime": {
     "end_time": "2024-04-15T08:10:10.818905Z",
     "start_time": "2024-04-15T08:10:10.805991Z"
    }
   },
   "id": "adcf185ad41c3f2",
   "outputs": [],
   "execution_count": 11
  },
  {
   "cell_type": "markdown",
   "source": [
    "## Загрузка и подготовка данных"
   ],
   "metadata": {
    "collapsed": false
   },
   "id": "3edd965a23ec98d7"
  },
  {
   "cell_type": "markdown",
   "source": [
    "### Тренировочная выборка"
   ],
   "metadata": {
    "collapsed": false
   },
   "id": "dd8ea47f67b5f193"
  },
  {
   "metadata": {
    "ExecuteTime": {
     "end_time": "2024-04-15T08:10:10.908036Z",
     "start_time": "2024-04-15T08:10:10.820465Z"
    }
   },
   "cell_type": "code",
   "source": [
    "df_train = pd.read_csv('datasets/kaggle_startups_train_01.csv')\n",
    "df_train.head(10)"
   ],
   "id": "c34402520b951c26",
   "outputs": [
    {
     "data": {
      "text/plain": [
       "                        name  \\\n",
       "0                  Lunchgate   \n",
       "1                    EarLens   \n",
       "2     Reviva Pharmaceuticals   \n",
       "3       Sancilio and Company   \n",
       "4        WireTough Cylinders   \n",
       "5  Connected Sports Ventures   \n",
       "6                  Attensity   \n",
       "7              Mesh Networks   \n",
       "8                 AngioScore   \n",
       "9                 Vidatronic   \n",
       "\n",
       "                                       category_list  funding_total_usd  \\\n",
       "0                    Online Reservations|Restaurants         828,626.00   \n",
       "1              Manufacturing|Medical|Medical Devices      42,935,019.00   \n",
       "2                                      Biotechnology      35,456,381.00   \n",
       "3                                        Health Care      22,250,000.00   \n",
       "4                                      Manufacturing                NaN   \n",
       "5                                             Mobile       4,300,000.00   \n",
       "6  Analytics|Business Analytics|Social CRM|Social...      90,000,000.00   \n",
       "7                                           Software       4,300,000.00   \n",
       "8                                      Biotechnology      42,000,000.00   \n",
       "9                                     Semiconductors       1,250,500.00   \n",
       "\n",
       "      status country_code state_code       region             city  \\\n",
       "0  operating          CHE         25       Zurich           Zürich   \n",
       "1  operating          USA         CA  SF Bay Area     Redwood City   \n",
       "2  operating          USA         CA  SF Bay Area         San Jose   \n",
       "3  operating          NaN        NaN          NaN              NaN   \n",
       "4  operating          USA         VA   VA - Other          Bristol   \n",
       "5  operating          USA         NJ       Newark        Princeton   \n",
       "6  operating          USA         CA  SF Bay Area     Redwood City   \n",
       "7  operating          USA         TX      Houston          Houston   \n",
       "8  operating          USA         CA  SF Bay Area          Fremont   \n",
       "9  operating          USA         TX       Austin  College Station   \n",
       "\n",
       "   funding_rounds  founded_at first_funding_at last_funding_at closed_at  \n",
       "0               2  2010-06-24       2011-05-01      2014-12-01       NaN  \n",
       "1               4  2005-01-01       2010-05-04      2014-02-25       NaN  \n",
       "2               3  2006-01-01       2012-08-20      2014-07-02       NaN  \n",
       "3               3  2004-01-01       2011-09-01      2014-07-18       NaN  \n",
       "4               1  2010-07-30       2012-02-01      2012-02-01       NaN  \n",
       "5               1  2011-04-21       2012-11-12      2012-11-12       NaN  \n",
       "6               1  2000-01-01       2014-05-14      2014-05-14       NaN  \n",
       "7               1  2005-01-01       2014-11-09      2014-11-09       NaN  \n",
       "8               2  2003-01-01       2007-10-09      2011-04-20       NaN  \n",
       "9               2  2010-01-01       2011-08-23      2013-03-21       NaN  "
      ],
      "text/html": [
       "<div>\n",
       "<style scoped>\n",
       "    .dataframe tbody tr th:only-of-type {\n",
       "        vertical-align: middle;\n",
       "    }\n",
       "\n",
       "    .dataframe tbody tr th {\n",
       "        vertical-align: top;\n",
       "    }\n",
       "\n",
       "    .dataframe thead th {\n",
       "        text-align: right;\n",
       "    }\n",
       "</style>\n",
       "<table border=\"1\" class=\"dataframe\">\n",
       "  <thead>\n",
       "    <tr style=\"text-align: right;\">\n",
       "      <th></th>\n",
       "      <th>name</th>\n",
       "      <th>category_list</th>\n",
       "      <th>funding_total_usd</th>\n",
       "      <th>status</th>\n",
       "      <th>country_code</th>\n",
       "      <th>state_code</th>\n",
       "      <th>region</th>\n",
       "      <th>city</th>\n",
       "      <th>funding_rounds</th>\n",
       "      <th>founded_at</th>\n",
       "      <th>first_funding_at</th>\n",
       "      <th>last_funding_at</th>\n",
       "      <th>closed_at</th>\n",
       "    </tr>\n",
       "  </thead>\n",
       "  <tbody>\n",
       "    <tr>\n",
       "      <th>0</th>\n",
       "      <td>Lunchgate</td>\n",
       "      <td>Online Reservations|Restaurants</td>\n",
       "      <td>828,626.00</td>\n",
       "      <td>operating</td>\n",
       "      <td>CHE</td>\n",
       "      <td>25</td>\n",
       "      <td>Zurich</td>\n",
       "      <td>Zürich</td>\n",
       "      <td>2</td>\n",
       "      <td>2010-06-24</td>\n",
       "      <td>2011-05-01</td>\n",
       "      <td>2014-12-01</td>\n",
       "      <td>NaN</td>\n",
       "    </tr>\n",
       "    <tr>\n",
       "      <th>1</th>\n",
       "      <td>EarLens</td>\n",
       "      <td>Manufacturing|Medical|Medical Devices</td>\n",
       "      <td>42,935,019.00</td>\n",
       "      <td>operating</td>\n",
       "      <td>USA</td>\n",
       "      <td>CA</td>\n",
       "      <td>SF Bay Area</td>\n",
       "      <td>Redwood City</td>\n",
       "      <td>4</td>\n",
       "      <td>2005-01-01</td>\n",
       "      <td>2010-05-04</td>\n",
       "      <td>2014-02-25</td>\n",
       "      <td>NaN</td>\n",
       "    </tr>\n",
       "    <tr>\n",
       "      <th>2</th>\n",
       "      <td>Reviva Pharmaceuticals</td>\n",
       "      <td>Biotechnology</td>\n",
       "      <td>35,456,381.00</td>\n",
       "      <td>operating</td>\n",
       "      <td>USA</td>\n",
       "      <td>CA</td>\n",
       "      <td>SF Bay Area</td>\n",
       "      <td>San Jose</td>\n",
       "      <td>3</td>\n",
       "      <td>2006-01-01</td>\n",
       "      <td>2012-08-20</td>\n",
       "      <td>2014-07-02</td>\n",
       "      <td>NaN</td>\n",
       "    </tr>\n",
       "    <tr>\n",
       "      <th>3</th>\n",
       "      <td>Sancilio and Company</td>\n",
       "      <td>Health Care</td>\n",
       "      <td>22,250,000.00</td>\n",
       "      <td>operating</td>\n",
       "      <td>NaN</td>\n",
       "      <td>NaN</td>\n",
       "      <td>NaN</td>\n",
       "      <td>NaN</td>\n",
       "      <td>3</td>\n",
       "      <td>2004-01-01</td>\n",
       "      <td>2011-09-01</td>\n",
       "      <td>2014-07-18</td>\n",
       "      <td>NaN</td>\n",
       "    </tr>\n",
       "    <tr>\n",
       "      <th>4</th>\n",
       "      <td>WireTough Cylinders</td>\n",
       "      <td>Manufacturing</td>\n",
       "      <td>NaN</td>\n",
       "      <td>operating</td>\n",
       "      <td>USA</td>\n",
       "      <td>VA</td>\n",
       "      <td>VA - Other</td>\n",
       "      <td>Bristol</td>\n",
       "      <td>1</td>\n",
       "      <td>2010-07-30</td>\n",
       "      <td>2012-02-01</td>\n",
       "      <td>2012-02-01</td>\n",
       "      <td>NaN</td>\n",
       "    </tr>\n",
       "    <tr>\n",
       "      <th>5</th>\n",
       "      <td>Connected Sports Ventures</td>\n",
       "      <td>Mobile</td>\n",
       "      <td>4,300,000.00</td>\n",
       "      <td>operating</td>\n",
       "      <td>USA</td>\n",
       "      <td>NJ</td>\n",
       "      <td>Newark</td>\n",
       "      <td>Princeton</td>\n",
       "      <td>1</td>\n",
       "      <td>2011-04-21</td>\n",
       "      <td>2012-11-12</td>\n",
       "      <td>2012-11-12</td>\n",
       "      <td>NaN</td>\n",
       "    </tr>\n",
       "    <tr>\n",
       "      <th>6</th>\n",
       "      <td>Attensity</td>\n",
       "      <td>Analytics|Business Analytics|Social CRM|Social...</td>\n",
       "      <td>90,000,000.00</td>\n",
       "      <td>operating</td>\n",
       "      <td>USA</td>\n",
       "      <td>CA</td>\n",
       "      <td>SF Bay Area</td>\n",
       "      <td>Redwood City</td>\n",
       "      <td>1</td>\n",
       "      <td>2000-01-01</td>\n",
       "      <td>2014-05-14</td>\n",
       "      <td>2014-05-14</td>\n",
       "      <td>NaN</td>\n",
       "    </tr>\n",
       "    <tr>\n",
       "      <th>7</th>\n",
       "      <td>Mesh Networks</td>\n",
       "      <td>Software</td>\n",
       "      <td>4,300,000.00</td>\n",
       "      <td>operating</td>\n",
       "      <td>USA</td>\n",
       "      <td>TX</td>\n",
       "      <td>Houston</td>\n",
       "      <td>Houston</td>\n",
       "      <td>1</td>\n",
       "      <td>2005-01-01</td>\n",
       "      <td>2014-11-09</td>\n",
       "      <td>2014-11-09</td>\n",
       "      <td>NaN</td>\n",
       "    </tr>\n",
       "    <tr>\n",
       "      <th>8</th>\n",
       "      <td>AngioScore</td>\n",
       "      <td>Biotechnology</td>\n",
       "      <td>42,000,000.00</td>\n",
       "      <td>operating</td>\n",
       "      <td>USA</td>\n",
       "      <td>CA</td>\n",
       "      <td>SF Bay Area</td>\n",
       "      <td>Fremont</td>\n",
       "      <td>2</td>\n",
       "      <td>2003-01-01</td>\n",
       "      <td>2007-10-09</td>\n",
       "      <td>2011-04-20</td>\n",
       "      <td>NaN</td>\n",
       "    </tr>\n",
       "    <tr>\n",
       "      <th>9</th>\n",
       "      <td>Vidatronic</td>\n",
       "      <td>Semiconductors</td>\n",
       "      <td>1,250,500.00</td>\n",
       "      <td>operating</td>\n",
       "      <td>USA</td>\n",
       "      <td>TX</td>\n",
       "      <td>Austin</td>\n",
       "      <td>College Station</td>\n",
       "      <td>2</td>\n",
       "      <td>2010-01-01</td>\n",
       "      <td>2011-08-23</td>\n",
       "      <td>2013-03-21</td>\n",
       "      <td>NaN</td>\n",
       "    </tr>\n",
       "  </tbody>\n",
       "</table>\n",
       "</div>"
      ]
     },
     "execution_count": 12,
     "metadata": {},
     "output_type": "execute_result"
    }
   ],
   "execution_count": 12
  },
  {
   "metadata": {
    "ExecuteTime": {
     "end_time": "2024-04-15T08:10:10.927615Z",
     "start_time": "2024-04-15T08:10:10.908944Z"
    }
   },
   "cell_type": "code",
   "source": "df_train.info()",
   "id": "c4da362263f751d",
   "outputs": [
    {
     "name": "stdout",
     "output_type": "stream",
     "text": [
      "<class 'pandas.core.frame.DataFrame'>\n",
      "RangeIndex: 52879 entries, 0 to 52878\n",
      "Data columns (total 13 columns):\n",
      " #   Column             Non-Null Count  Dtype  \n",
      "---  ------             --------------  -----  \n",
      " 0   name               52878 non-null  object \n",
      " 1   category_list      50374 non-null  object \n",
      " 2   funding_total_usd  42753 non-null  float64\n",
      " 3   status             52879 non-null  object \n",
      " 4   country_code       47351 non-null  object \n",
      " 5   state_code         46082 non-null  object \n",
      " 6   region             46489 non-null  object \n",
      " 7   city               46489 non-null  object \n",
      " 8   funding_rounds     52879 non-null  int64  \n",
      " 9   founded_at         52879 non-null  object \n",
      " 10  first_funding_at   52858 non-null  object \n",
      " 11  last_funding_at    52879 non-null  object \n",
      " 12  closed_at          4962 non-null   object \n",
      "dtypes: float64(1), int64(1), object(11)\n",
      "memory usage: 5.2+ MB\n"
     ]
    }
   ],
   "execution_count": 13
  },
  {
   "cell_type": "markdown",
   "source": [
    "Описание колонок:\n",
    " \n",
    "- `name` — наименование компании;\n",
    "- `category_list` — категории деятельности компании;\n",
    "- `funding_total_usd` — сумма привлечённых инвестиций в долларах;\n",
    "- `status` — статус компании;\n",
    "- `country_code` — код страны;\n",
    "- `state_code` — код штата;\n",
    "- `region` — регион;\n",
    "- `city` — город;\n",
    "- `funding_rounds` — число раундов, в которых компания привлекала инвестиции;\n",
    "- `founded_at` — дата основания фонда;\n",
    "- `first_funding_at` — дата первого финансирования;\n",
    "- `last_funding_at` — дата последнего финансирования;\n",
    "- `closed_at` — дата закрытия;\n",
    "\n",
    "Наименование колонок корректное, у некоторых колонок не соответствуют типы.\n"
   ],
   "metadata": {
    "collapsed": false
   },
   "id": "52e3de2427759946"
  },
  {
   "cell_type": "markdown",
   "source": [
    "### Тестовая выборка"
   ],
   "metadata": {
    "collapsed": false
   },
   "id": "edc105a4bd240595"
  },
  {
   "cell_type": "markdown",
   "source": [
    "#### Входные признаки тестовой выборки"
   ],
   "metadata": {
    "collapsed": false
   },
   "id": "4656e69e2e276660"
  },
  {
   "cell_type": "code",
   "source": [
    "df_test_features = pd.read_csv('datasets/kaggle_startups_test_01.csv')\n",
    "df_test_features.head(10)"
   ],
   "metadata": {
    "collapsed": false,
    "ExecuteTime": {
     "end_time": "2024-04-15T08:10:10.955821Z",
     "start_time": "2024-04-15T08:10:10.928579Z"
    }
   },
   "id": "6f60881b130b8755",
   "outputs": [
    {
     "data": {
      "text/plain": [
       "                     name                     category_list  \\\n",
       "0              Crystalsol                  Clean Technology   \n",
       "1        JBI Fish & Wings                       Hospitality   \n",
       "2                COINPLUS                           Finance   \n",
       "3  Imagine Communications    Software|Video|Video Streaming   \n",
       "4                   DNA13                          Software   \n",
       "5         Quickfire Games        Design|Entertainment|Games   \n",
       "6              Sente Inc.                     Biotechnology   \n",
       "7                 Triosyn  Health Care|Medical|Therapeutics   \n",
       "8               Urgent.ly                          Software   \n",
       "9           Map Decisions                          Software   \n",
       "\n",
       "   funding_total_usd country_code state_code            region  \\\n",
       "0       2,819,200.00          NIC         17               NaN   \n",
       "1                NaN          USA         TN        TN - Other   \n",
       "2         428,257.00          LUX          3  Esch-sur-alzette   \n",
       "3      34,700,000.00          USA         CA         San Diego   \n",
       "4       4,530,000.00          CAN         ON            Ottawa   \n",
       "5         160,000.00          NaN        NaN               NaN   \n",
       "6      26,842,000.00          USA         CA         San Diego   \n",
       "7       4,000,000.00          NaN        NaN               NaN   \n",
       "8       8,710,000.00          USA         VA  Washington, D.C.   \n",
       "9          13,200.00          USA         PA         Allentown   \n",
       "\n",
       "               city  funding_rounds  founded_at first_funding_at  \\\n",
       "0               NaN               1  2008-06-01       2009-07-01   \n",
       "1          Humboldt               1  2010-07-25       2010-07-28   \n",
       "2  Esch-sur-alzette               2  2014-06-16       2014-05-15   \n",
       "3         San Diego               4  2005-01-01       2005-01-01   \n",
       "4            Ottawa               1  2001-01-01       2007-05-08   \n",
       "5               NaN               2  2013-09-01       2013-09-18   \n",
       "6         Encinitas               5  2007-01-01       2009-01-31   \n",
       "7               NaN               1  2001-12-26       2003-06-02   \n",
       "8          Sterling               3  2013-01-01       2014-04-17   \n",
       "9         Bethlehem               1  2012-05-15       2013-08-09   \n",
       "\n",
       "  last_funding_at closed_at  \n",
       "0      2009-07-01       NaN  \n",
       "1      2010-07-28       NaN  \n",
       "2      2014-09-18       NaN  \n",
       "3      2010-04-20       NaN  \n",
       "4      2007-05-08       NaN  \n",
       "5      2014-09-18       NaN  \n",
       "6      2014-06-02       NaN  \n",
       "7      2003-06-02       NaN  \n",
       "8      2015-09-29       NaN  \n",
       "9      2013-08-09       NaN  "
      ],
      "text/html": [
       "<div>\n",
       "<style scoped>\n",
       "    .dataframe tbody tr th:only-of-type {\n",
       "        vertical-align: middle;\n",
       "    }\n",
       "\n",
       "    .dataframe tbody tr th {\n",
       "        vertical-align: top;\n",
       "    }\n",
       "\n",
       "    .dataframe thead th {\n",
       "        text-align: right;\n",
       "    }\n",
       "</style>\n",
       "<table border=\"1\" class=\"dataframe\">\n",
       "  <thead>\n",
       "    <tr style=\"text-align: right;\">\n",
       "      <th></th>\n",
       "      <th>name</th>\n",
       "      <th>category_list</th>\n",
       "      <th>funding_total_usd</th>\n",
       "      <th>country_code</th>\n",
       "      <th>state_code</th>\n",
       "      <th>region</th>\n",
       "      <th>city</th>\n",
       "      <th>funding_rounds</th>\n",
       "      <th>founded_at</th>\n",
       "      <th>first_funding_at</th>\n",
       "      <th>last_funding_at</th>\n",
       "      <th>closed_at</th>\n",
       "    </tr>\n",
       "  </thead>\n",
       "  <tbody>\n",
       "    <tr>\n",
       "      <th>0</th>\n",
       "      <td>Crystalsol</td>\n",
       "      <td>Clean Technology</td>\n",
       "      <td>2,819,200.00</td>\n",
       "      <td>NIC</td>\n",
       "      <td>17</td>\n",
       "      <td>NaN</td>\n",
       "      <td>NaN</td>\n",
       "      <td>1</td>\n",
       "      <td>2008-06-01</td>\n",
       "      <td>2009-07-01</td>\n",
       "      <td>2009-07-01</td>\n",
       "      <td>NaN</td>\n",
       "    </tr>\n",
       "    <tr>\n",
       "      <th>1</th>\n",
       "      <td>JBI Fish &amp; Wings</td>\n",
       "      <td>Hospitality</td>\n",
       "      <td>NaN</td>\n",
       "      <td>USA</td>\n",
       "      <td>TN</td>\n",
       "      <td>TN - Other</td>\n",
       "      <td>Humboldt</td>\n",
       "      <td>1</td>\n",
       "      <td>2010-07-25</td>\n",
       "      <td>2010-07-28</td>\n",
       "      <td>2010-07-28</td>\n",
       "      <td>NaN</td>\n",
       "    </tr>\n",
       "    <tr>\n",
       "      <th>2</th>\n",
       "      <td>COINPLUS</td>\n",
       "      <td>Finance</td>\n",
       "      <td>428,257.00</td>\n",
       "      <td>LUX</td>\n",
       "      <td>3</td>\n",
       "      <td>Esch-sur-alzette</td>\n",
       "      <td>Esch-sur-alzette</td>\n",
       "      <td>2</td>\n",
       "      <td>2014-06-16</td>\n",
       "      <td>2014-05-15</td>\n",
       "      <td>2014-09-18</td>\n",
       "      <td>NaN</td>\n",
       "    </tr>\n",
       "    <tr>\n",
       "      <th>3</th>\n",
       "      <td>Imagine Communications</td>\n",
       "      <td>Software|Video|Video Streaming</td>\n",
       "      <td>34,700,000.00</td>\n",
       "      <td>USA</td>\n",
       "      <td>CA</td>\n",
       "      <td>San Diego</td>\n",
       "      <td>San Diego</td>\n",
       "      <td>4</td>\n",
       "      <td>2005-01-01</td>\n",
       "      <td>2005-01-01</td>\n",
       "      <td>2010-04-20</td>\n",
       "      <td>NaN</td>\n",
       "    </tr>\n",
       "    <tr>\n",
       "      <th>4</th>\n",
       "      <td>DNA13</td>\n",
       "      <td>Software</td>\n",
       "      <td>4,530,000.00</td>\n",
       "      <td>CAN</td>\n",
       "      <td>ON</td>\n",
       "      <td>Ottawa</td>\n",
       "      <td>Ottawa</td>\n",
       "      <td>1</td>\n",
       "      <td>2001-01-01</td>\n",
       "      <td>2007-05-08</td>\n",
       "      <td>2007-05-08</td>\n",
       "      <td>NaN</td>\n",
       "    </tr>\n",
       "    <tr>\n",
       "      <th>5</th>\n",
       "      <td>Quickfire Games</td>\n",
       "      <td>Design|Entertainment|Games</td>\n",
       "      <td>160,000.00</td>\n",
       "      <td>NaN</td>\n",
       "      <td>NaN</td>\n",
       "      <td>NaN</td>\n",
       "      <td>NaN</td>\n",
       "      <td>2</td>\n",
       "      <td>2013-09-01</td>\n",
       "      <td>2013-09-18</td>\n",
       "      <td>2014-09-18</td>\n",
       "      <td>NaN</td>\n",
       "    </tr>\n",
       "    <tr>\n",
       "      <th>6</th>\n",
       "      <td>Sente Inc.</td>\n",
       "      <td>Biotechnology</td>\n",
       "      <td>26,842,000.00</td>\n",
       "      <td>USA</td>\n",
       "      <td>CA</td>\n",
       "      <td>San Diego</td>\n",
       "      <td>Encinitas</td>\n",
       "      <td>5</td>\n",
       "      <td>2007-01-01</td>\n",
       "      <td>2009-01-31</td>\n",
       "      <td>2014-06-02</td>\n",
       "      <td>NaN</td>\n",
       "    </tr>\n",
       "    <tr>\n",
       "      <th>7</th>\n",
       "      <td>Triosyn</td>\n",
       "      <td>Health Care|Medical|Therapeutics</td>\n",
       "      <td>4,000,000.00</td>\n",
       "      <td>NaN</td>\n",
       "      <td>NaN</td>\n",
       "      <td>NaN</td>\n",
       "      <td>NaN</td>\n",
       "      <td>1</td>\n",
       "      <td>2001-12-26</td>\n",
       "      <td>2003-06-02</td>\n",
       "      <td>2003-06-02</td>\n",
       "      <td>NaN</td>\n",
       "    </tr>\n",
       "    <tr>\n",
       "      <th>8</th>\n",
       "      <td>Urgent.ly</td>\n",
       "      <td>Software</td>\n",
       "      <td>8,710,000.00</td>\n",
       "      <td>USA</td>\n",
       "      <td>VA</td>\n",
       "      <td>Washington, D.C.</td>\n",
       "      <td>Sterling</td>\n",
       "      <td>3</td>\n",
       "      <td>2013-01-01</td>\n",
       "      <td>2014-04-17</td>\n",
       "      <td>2015-09-29</td>\n",
       "      <td>NaN</td>\n",
       "    </tr>\n",
       "    <tr>\n",
       "      <th>9</th>\n",
       "      <td>Map Decisions</td>\n",
       "      <td>Software</td>\n",
       "      <td>13,200.00</td>\n",
       "      <td>USA</td>\n",
       "      <td>PA</td>\n",
       "      <td>Allentown</td>\n",
       "      <td>Bethlehem</td>\n",
       "      <td>1</td>\n",
       "      <td>2012-05-15</td>\n",
       "      <td>2013-08-09</td>\n",
       "      <td>2013-08-09</td>\n",
       "      <td>NaN</td>\n",
       "    </tr>\n",
       "  </tbody>\n",
       "</table>\n",
       "</div>"
      ]
     },
     "execution_count": 14,
     "metadata": {},
     "output_type": "execute_result"
    }
   ],
   "execution_count": 14
  },
  {
   "cell_type": "code",
   "source": [
    "df_test_features.info()"
   ],
   "metadata": {
    "collapsed": false,
    "ExecuteTime": {
     "end_time": "2024-04-15T08:10:10.965439Z",
     "start_time": "2024-04-15T08:10:10.956784Z"
    }
   },
   "id": "5bd98f5720e32f43",
   "outputs": [
    {
     "name": "stdout",
     "output_type": "stream",
     "text": [
      "<class 'pandas.core.frame.DataFrame'>\n",
      "RangeIndex: 13211 entries, 0 to 13210\n",
      "Data columns (total 12 columns):\n",
      " #   Column             Non-Null Count  Dtype  \n",
      "---  ------             --------------  -----  \n",
      " 0   name               13211 non-null  object \n",
      " 1   category_list      12610 non-null  object \n",
      " 2   funding_total_usd  10616 non-null  float64\n",
      " 3   country_code       11827 non-null  object \n",
      " 4   state_code         11512 non-null  object \n",
      " 5   region             11618 non-null  object \n",
      " 6   city               11620 non-null  object \n",
      " 7   funding_rounds     13211 non-null  int64  \n",
      " 8   founded_at         13211 non-null  object \n",
      " 9   first_funding_at   13211 non-null  object \n",
      " 10  last_funding_at    13211 non-null  object \n",
      " 11  closed_at          1234 non-null   object \n",
      "dtypes: float64(1), int64(1), object(10)\n",
      "memory usage: 1.2+ MB\n"
     ]
    }
   ],
   "execution_count": 15
  },
  {
   "cell_type": "markdown",
   "source": [
    "Описание колонок:\n",
    " \n",
    "- `name` — наименование компании;\n",
    "- `category_list` — категории деятельности компании;\n",
    "- `funding_total_usd` — сумма привлечённых инвестиций в долларах;\n",
    "- `country_code` — код страны;\n",
    "- `state_code` — код штата;\n",
    "- `region` — регион;\n",
    "- `city` — город;\n",
    "- `funding_rounds` — число раундов, в которых компания привлекала инвестиции;\n",
    "- `founded_at` — дата основания фонда;\n",
    "- `first_funding_at` — дата первого финансирования;\n",
    "- `last_funding_at` — дата последнего финансирования;\n",
    "- `closed_at` — дата закрытия;"
   ],
   "metadata": {
    "collapsed": false
   },
   "id": "a83e0b851e0c927"
  },
  {
   "cell_type": "markdown",
   "source": [
    "Наименование колонок корректное, у колонок с датами не соответствуют типы."
   ],
   "metadata": {
    "collapsed": false
   },
   "id": "625d3cee0556aca8"
  },
  {
   "cell_type": "markdown",
   "source": [
    "#### Целевой признак тестовой выборки"
   ],
   "metadata": {
    "collapsed": false
   },
   "id": "4564db35e29034ad"
  },
  {
   "cell_type": "code",
   "source": [
    "df_test_target = pd.read_csv('datasets/kaggle_startups_sample_submit_02.csv')\n",
    "df_test_target.head(10)"
   ],
   "metadata": {
    "collapsed": false,
    "ExecuteTime": {
     "end_time": "2024-04-15T08:10:10.978502Z",
     "start_time": "2024-04-15T08:10:10.966431Z"
    }
   },
   "id": "91209eed23bcd7d",
   "outputs": [
    {
     "data": {
      "text/plain": [
       "                     name     status\n",
       "0              Crystalsol  operating\n",
       "1        JBI Fish & Wings  operating\n",
       "2                COINPLUS  operating\n",
       "3  Imagine Communications  operating\n",
       "4                   DNA13  operating\n",
       "5         Quickfire Games  operating\n",
       "6              Sente Inc.  operating\n",
       "7                 Triosyn  operating\n",
       "8               Urgent.ly  operating\n",
       "9           Map Decisions  operating"
      ],
      "text/html": [
       "<div>\n",
       "<style scoped>\n",
       "    .dataframe tbody tr th:only-of-type {\n",
       "        vertical-align: middle;\n",
       "    }\n",
       "\n",
       "    .dataframe tbody tr th {\n",
       "        vertical-align: top;\n",
       "    }\n",
       "\n",
       "    .dataframe thead th {\n",
       "        text-align: right;\n",
       "    }\n",
       "</style>\n",
       "<table border=\"1\" class=\"dataframe\">\n",
       "  <thead>\n",
       "    <tr style=\"text-align: right;\">\n",
       "      <th></th>\n",
       "      <th>name</th>\n",
       "      <th>status</th>\n",
       "    </tr>\n",
       "  </thead>\n",
       "  <tbody>\n",
       "    <tr>\n",
       "      <th>0</th>\n",
       "      <td>Crystalsol</td>\n",
       "      <td>operating</td>\n",
       "    </tr>\n",
       "    <tr>\n",
       "      <th>1</th>\n",
       "      <td>JBI Fish &amp; Wings</td>\n",
       "      <td>operating</td>\n",
       "    </tr>\n",
       "    <tr>\n",
       "      <th>2</th>\n",
       "      <td>COINPLUS</td>\n",
       "      <td>operating</td>\n",
       "    </tr>\n",
       "    <tr>\n",
       "      <th>3</th>\n",
       "      <td>Imagine Communications</td>\n",
       "      <td>operating</td>\n",
       "    </tr>\n",
       "    <tr>\n",
       "      <th>4</th>\n",
       "      <td>DNA13</td>\n",
       "      <td>operating</td>\n",
       "    </tr>\n",
       "    <tr>\n",
       "      <th>5</th>\n",
       "      <td>Quickfire Games</td>\n",
       "      <td>operating</td>\n",
       "    </tr>\n",
       "    <tr>\n",
       "      <th>6</th>\n",
       "      <td>Sente Inc.</td>\n",
       "      <td>operating</td>\n",
       "    </tr>\n",
       "    <tr>\n",
       "      <th>7</th>\n",
       "      <td>Triosyn</td>\n",
       "      <td>operating</td>\n",
       "    </tr>\n",
       "    <tr>\n",
       "      <th>8</th>\n",
       "      <td>Urgent.ly</td>\n",
       "      <td>operating</td>\n",
       "    </tr>\n",
       "    <tr>\n",
       "      <th>9</th>\n",
       "      <td>Map Decisions</td>\n",
       "      <td>operating</td>\n",
       "    </tr>\n",
       "  </tbody>\n",
       "</table>\n",
       "</div>"
      ]
     },
     "execution_count": 16,
     "metadata": {},
     "output_type": "execute_result"
    }
   ],
   "execution_count": 16
  },
  {
   "cell_type": "code",
   "source": [
    "df_test_target.info()"
   ],
   "metadata": {
    "collapsed": false,
    "ExecuteTime": {
     "end_time": "2024-04-15T08:10:10.985402Z",
     "start_time": "2024-04-15T08:10:10.979519Z"
    }
   },
   "id": "d37acba74dff95b0",
   "outputs": [
    {
     "name": "stdout",
     "output_type": "stream",
     "text": [
      "<class 'pandas.core.frame.DataFrame'>\n",
      "RangeIndex: 13211 entries, 0 to 13210\n",
      "Data columns (total 2 columns):\n",
      " #   Column  Non-Null Count  Dtype \n",
      "---  ------  --------------  ----- \n",
      " 0   name    13211 non-null  object\n",
      " 1   status  13211 non-null  object\n",
      "dtypes: object(2)\n",
      "memory usage: 206.5+ KB\n"
     ]
    }
   ],
   "execution_count": 17
  },
  {
   "cell_type": "markdown",
   "source": [
    "Описание колонок:\n",
    " \n",
    "- `name` — наименование компании;\n",
    "- `status` — статус компании;"
   ],
   "metadata": {
    "collapsed": false
   },
   "id": "a6ce68c88fcba188"
  },
  {
   "cell_type": "markdown",
   "source": [
    "Наименование колонок корректное, все типы верные."
   ],
   "metadata": {
    "collapsed": false
   },
   "id": "9ae5fb2246071a91"
  },
  {
   "cell_type": "markdown",
   "source": [
    "#### Итоговая тестовая выборка"
   ],
   "metadata": {
    "collapsed": false
   },
   "id": "eb75144154876b55"
  },
  {
   "cell_type": "code",
   "source": [
    "df_test = pd.merge(df_test_features, df_test_target, on='name')\n",
    "df_test.info()"
   ],
   "metadata": {
    "collapsed": false,
    "ExecuteTime": {
     "end_time": "2024-04-15T08:10:11.001773Z",
     "start_time": "2024-04-15T08:10:10.987738Z"
    }
   },
   "id": "d6084822ebb1fa40",
   "outputs": [
    {
     "name": "stdout",
     "output_type": "stream",
     "text": [
      "<class 'pandas.core.frame.DataFrame'>\n",
      "RangeIndex: 13211 entries, 0 to 13210\n",
      "Data columns (total 13 columns):\n",
      " #   Column             Non-Null Count  Dtype  \n",
      "---  ------             --------------  -----  \n",
      " 0   name               13211 non-null  object \n",
      " 1   category_list      12610 non-null  object \n",
      " 2   funding_total_usd  10616 non-null  float64\n",
      " 3   country_code       11827 non-null  object \n",
      " 4   state_code         11512 non-null  object \n",
      " 5   region             11618 non-null  object \n",
      " 6   city               11620 non-null  object \n",
      " 7   funding_rounds     13211 non-null  int64  \n",
      " 8   founded_at         13211 non-null  object \n",
      " 9   first_funding_at   13211 non-null  object \n",
      " 10  last_funding_at    13211 non-null  object \n",
      " 11  closed_at          1234 non-null   object \n",
      " 12  status             13211 non-null  object \n",
      "dtypes: float64(1), int64(1), object(11)\n",
      "memory usage: 1.3+ MB\n"
     ]
    }
   ],
   "execution_count": 18
  },
  {
   "cell_type": "markdown",
   "source": [
    "Описание колонок:\n",
    " \n",
    "- `name` — наименование компании;\n",
    "- `category_list` — категории деятельности компании;\n",
    "- `funding_total_usd` — сумма привлечённых инвестиций в долларах;\n",
    "- `country_code` — код страны;\n",
    "- `state_code` — код штата;\n",
    "- `region` — регион;\n",
    "- `city` — город;\n",
    "- `funding_rounds` — число раундов, в которых компания привлекала инвестиции;\n",
    "- `founded_at` — дата основания фонда;\n",
    "- `first_funding_at` — дата первого финансирования;\n",
    "- `last_funding_at` — дата последнего финансирования;\n",
    "- `closed_at` — дата закрытия;\n",
    "- `status` — статус компании;"
   ],
   "metadata": {
    "collapsed": false
   },
   "id": "8cd665ee5625aaf"
  },
  {
   "cell_type": "markdown",
   "source": [
    "Наименование колонок корректное, у колонок с датами не соответствуют типы. После обледенения таблиц все данные на месте."
   ],
   "metadata": {
    "collapsed": false
   },
   "id": "60ee7466e5126daa"
  },
  {
   "cell_type": "markdown",
   "source": [
    "## Предобработка данных"
   ],
   "metadata": {
    "collapsed": false
   },
   "id": "c8703b526080b254"
  },
  {
   "cell_type": "markdown",
   "source": [
    "Вспомогательные функции"
   ],
   "metadata": {
    "collapsed": false
   },
   "id": "d8b1608c3b3d7257"
  },
  {
   "cell_type": "code",
   "source": [
    "# Определим имена колонок для отображения\n",
    "column_names = {\n",
    "    \"name\": \"наименование компании\",\n",
    "    \"category_list\": \"категории деятельности компании\",\n",
    "    \"funding_total_usd\": \"сумма привлечённых инвестиций в долларах\",\n",
    "    \"country_code\": \"код страны\",\n",
    "    \"state_code\": \"код штата\",\n",
    "    \"region\": \"регион\",\n",
    "    \"city\": \"город\",\n",
    "    \"funding_rounds\": \"число раундов, в которых компания привлекала инвестиции\",\n",
    "    \"founded_at\": \"дата основания фонда\",\n",
    "    \"first_funding_at\": \"дата первого финансирования\",\n",
    "    \"last_funding_at\": \"дата последнего финансирования\",\n",
    "    \"closed_at\": \"дата закрытия\",\n",
    "    \"status\": \"статус компании\"\n",
    "}"
   ],
   "metadata": {
    "collapsed": false,
    "ExecuteTime": {
     "end_time": "2024-04-15T08:10:11.005703Z",
     "start_time": "2024-04-15T08:10:11.002764Z"
    }
   },
   "id": "79d5bacd2f4bd62b",
   "outputs": [],
   "execution_count": 19
  },
  {
   "cell_type": "code",
   "source": [
    "# Функция для обработки пропусков\n",
    "def isna_rate(df):\n",
    "    df_isna = (pd.DataFrame(round(df.isna().mean() * 100, 2)).sort_values(by=0, ascending=False))\n",
    "    df_isna.columns = ['Доля_пропусков']\n",
    "    df_isna['Кол-во_пропусков'] = df.isna().sum()\n",
    "    df_isna['Всего_записей'] = df.shape[0]\n",
    "    display(df_isna.query('Доля_пропусков > 0'))"
   ],
   "metadata": {
    "collapsed": false,
    "ExecuteTime": {
     "end_time": "2024-04-15T08:10:11.012901Z",
     "start_time": "2024-04-15T08:10:11.006432Z"
    }
   },
   "id": "9a3e7321e5c652ea",
   "outputs": [],
   "execution_count": 20
  },
  {
   "cell_type": "code",
   "source": [
    "# Функция для обработки строковых колонок\n",
    "def check_unique(df):\n",
    "    for column in df.select_dtypes(include='object').columns.tolist():\n",
    "        print(f\"Колонка \\\"{column}\\\":\")\n",
    "        print(df[column].value_counts(), \"\\n\")"
   ],
   "metadata": {
    "collapsed": false,
    "ExecuteTime": {
     "end_time": "2024-04-15T08:10:11.018038Z",
     "start_time": "2024-04-15T08:10:11.013594Z"
    }
   },
   "id": "9f993e297886ba3a",
   "outputs": [],
   "execution_count": 21
  },
  {
   "cell_type": "code",
   "source": [
    "# Проверяет на дубликаты\n",
    "def check_duplicated(df):\n",
    "    dupl = df.duplicated().sum()\n",
    "    print(\"Количество дубликатов:\", dupl)\n",
    "    if dupl > 0:\n",
    "        display(df[df.duplicated()])\n",
    "    else:\n",
    "        print(\"Дубликаты отсутствуют\")"
   ],
   "metadata": {
    "collapsed": false,
    "ExecuteTime": {
     "end_time": "2024-04-15T08:10:11.023290Z",
     "start_time": "2024-04-15T08:10:11.018734Z"
    }
   },
   "id": "719c3fe043ebee3d",
   "outputs": [],
   "execution_count": 22
  },
  {
   "cell_type": "markdown",
   "source": [
    "### Тренировочная выборка"
   ],
   "metadata": {
    "collapsed": false
   },
   "id": "8c5af39dd8c6009f"
  },
  {
   "cell_type": "markdown",
   "source": [
    "#### Типы"
   ],
   "metadata": {
    "collapsed": false
   },
   "id": "e70cc6746765032f"
  },
  {
   "cell_type": "markdown",
   "source": [
    "Приведем типы с датами в верный формат"
   ],
   "metadata": {
    "collapsed": false
   },
   "id": "27b63184331e4ff2"
  },
  {
   "cell_type": "code",
   "source": [
    "df_train['founded_at'] = pd.to_datetime(df_train['founded_at'])\n",
    "df_train['first_funding_at'] = pd.to_datetime(df_train['first_funding_at'])\n",
    "df_train['last_funding_at'] = pd.to_datetime(df_train['last_funding_at'])\n",
    "df_train['closed_at'] = pd.to_datetime(df_train['closed_at'])"
   ],
   "metadata": {
    "collapsed": false,
    "ExecuteTime": {
     "end_time": "2024-04-15T08:10:11.050114Z",
     "start_time": "2024-04-15T08:10:11.024086Z"
    }
   },
   "id": "499acd12f622fdc2",
   "outputs": [],
   "execution_count": 23
  },
  {
   "metadata": {},
   "cell_type": "markdown",
   "source": "Приведем типы со статусом к 0 / 1",
   "id": "d868cf56c57dbf1c"
  },
  {
   "metadata": {
    "ExecuteTime": {
     "end_time": "2024-04-15T08:10:11.064399Z",
     "start_time": "2024-04-15T08:10:11.051180Z"
    }
   },
   "cell_type": "code",
   "source": [
    "# Функция для подсчета количества категорий\n",
    "def status_int(row):\n",
    "    if row == 'closed':\n",
    "        return 1\n",
    "    else:\n",
    "        return 0\n",
    "\n",
    "\n",
    "# Создадим новую колонку кол-во категорий\n",
    "df_train['status'] = df_train['status'].apply(status_int)"
   ],
   "id": "b3dd12abf1d0b1fc",
   "outputs": [],
   "execution_count": 24
  },
  {
   "metadata": {
    "ExecuteTime": {
     "end_time": "2024-04-15T08:10:11.080796Z",
     "start_time": "2024-04-15T08:10:11.065346Z"
    }
   },
   "cell_type": "code",
   "source": "df_train.info()",
   "id": "a1837ecaef721ac",
   "outputs": [
    {
     "name": "stdout",
     "output_type": "stream",
     "text": [
      "<class 'pandas.core.frame.DataFrame'>\n",
      "RangeIndex: 52879 entries, 0 to 52878\n",
      "Data columns (total 13 columns):\n",
      " #   Column             Non-Null Count  Dtype         \n",
      "---  ------             --------------  -----         \n",
      " 0   name               52878 non-null  object        \n",
      " 1   category_list      50374 non-null  object        \n",
      " 2   funding_total_usd  42753 non-null  float64       \n",
      " 3   status             52879 non-null  int64         \n",
      " 4   country_code       47351 non-null  object        \n",
      " 5   state_code         46082 non-null  object        \n",
      " 6   region             46489 non-null  object        \n",
      " 7   city               46489 non-null  object        \n",
      " 8   funding_rounds     52879 non-null  int64         \n",
      " 9   founded_at         52879 non-null  datetime64[ns]\n",
      " 10  first_funding_at   52858 non-null  datetime64[ns]\n",
      " 11  last_funding_at    52879 non-null  datetime64[ns]\n",
      " 12  closed_at          4962 non-null   datetime64[ns]\n",
      "dtypes: datetime64[ns](4), float64(1), int64(2), object(6)\n",
      "memory usage: 5.2+ MB\n"
     ]
    }
   ],
   "execution_count": 25
  },
  {
   "metadata": {},
   "cell_type": "markdown",
   "source": "Приведем типы список категорий",
   "id": "763d395b7b45eb82"
  },
  {
   "metadata": {
    "ExecuteTime": {
     "end_time": "2024-04-15T08:14:38.482203Z",
     "start_time": "2024-04-15T08:14:38.269944Z"
    }
   },
   "cell_type": "code",
   "source": [
    "# Разделяем категории в колонке category_list по символу '|' и создаем новую колонку\n",
    "df_train['categories'] = df_train['category_list'].str.split('|')\n",
    "\n",
    "\n",
    "\n",
    "# # Создаем новый DataFrame, в котором каждая категория будет отдельной строкой\n",
    "categories_df = df_train['category_list'].str.split('|').explode('categories')\n",
    "\n",
    "\n",
    "# Считаем количество вхождений каждой категории\n",
    "category_counts = categories_df.value_counts()\n",
    "\n",
    "\n",
    "# Получаем топ 200 категорий\n",
    "top_200_categories = category_counts.head(200).index.tolist()\n",
    "\n",
    "category_counts\n",
    "# # Функция для проверки наличия категорий из топа в списке категорий\n",
    "# def check_top_categories(category_list):\n",
    "#     if any(category in top_200_categories for category in category_list):\n",
    "#         return '|'.join(sorted(category_list))\n",
    "#     else:\n",
    "#         return 'Other'\n",
    "\n",
    "# top_200_categories\n",
    "# # Применяем функцию к колонке categories и создаем новую колонку с обновленными категориями\n",
    "# df['updated_categories'] = df['categories'].apply(check_top_categories)\n",
    "# \n",
    "# # Сохраняем обновленный DataFrame в файл или используем далее по необходимости\n",
    "# df.to_csv('updated_file.csv', index=False)"
   ],
   "id": "7a9f104ad6dc6d7f",
   "outputs": [
    {
     "data": {
      "text/plain": [
       "category_list\n",
       "Software               7033\n",
       "Mobile                 4405\n",
       "Biotechnology          3683\n",
       "E-Commerce             3316\n",
       "Curated Web            2417\n",
       "                       ... \n",
       "Made in Italy             1\n",
       "Private Corrections       1\n",
       "Direct Advertising        1\n",
       "Labor Optimization        1\n",
       "Elderly                   1\n",
       "Name: count, Length: 854, dtype: int64"
      ]
     },
     "execution_count": 51,
     "metadata": {},
     "output_type": "execute_result"
    }
   ],
   "execution_count": 51
  },
  {
   "cell_type": "markdown",
   "source": [
    "#### Пропуски"
   ],
   "metadata": {
    "collapsed": false
   },
   "id": "127230d9c806bc55"
  },
  {
   "cell_type": "code",
   "source": "isna_rate(df_train)",
   "metadata": {
    "collapsed": false
   },
   "id": "205e3098cbe063cd",
   "outputs": [],
   "execution_count": null
  },
  {
   "metadata": {},
   "cell_type": "code",
   "source": [
    "# Удалим значения с пустыми датами первого финансирования так как их 0,04%\n",
    "df_train = df_train.query('~first_funding_at.isna()')"
   ],
   "id": "3a759aa32634a344",
   "outputs": [],
   "execution_count": null
  },
  {
   "metadata": {},
   "cell_type": "code",
   "source": [
    "# Проверим данные с не заполнеными данными страна, категория, финансирование\n",
    "df_train.query('country_code.isna() & category_list.isna() & funding_total_usd.isna()')"
   ],
   "id": "7bb0e6dce9b0aa99",
   "outputs": [],
   "execution_count": null
  },
  {
   "metadata": {},
   "cell_type": "markdown",
   "source": "Так как такие данные содержат пустые поля во всех ключевых параметров уберем их",
   "id": "f2987bec1954669a"
  },
  {
   "metadata": {},
   "cell_type": "code",
   "source": [
    "df_train = df_train.query('~(country_code.isna() & category_list.isna() & funding_total_usd.isna())')\n",
    "isna_rate(df_train)"
   ],
   "id": "e6f53d5b5b5a21f0",
   "outputs": [],
   "execution_count": null
  },
  {
   "metadata": {},
   "cell_type": "code",
   "source": [
    "# Проверим данные с заполнеными страной и не заполненой категорией \n",
    "df_train.query('~country_code.isna() & category_list.isna()')"
   ],
   "id": "5d1d8850a2db5eec",
   "outputs": [],
   "execution_count": null
  },
  {
   "cell_type": "markdown",
   "source": [
    "Есть пропуски в нескольких колонках, обработаем им далее в пайплайне."
   ],
   "metadata": {
    "collapsed": false
   },
   "id": "49d8090c568a6aa9"
  },
  {
   "cell_type": "markdown",
   "source": [
    "#### Неявные дубликаты"
   ],
   "metadata": {
    "collapsed": false
   },
   "id": "db12186651315c83"
  },
  {
   "cell_type": "code",
   "source": [
    "# check_unique(df_train)\n",
    "ss()"
   ],
   "metadata": {
    "collapsed": false
   },
   "id": "9fe68ca1bbfa06c1",
   "outputs": [],
   "execution_count": null
  },
  {
   "cell_type": "markdown",
   "source": [
    "#### Явные дубликаты"
   ],
   "metadata": {
    "collapsed": false
   },
   "id": "fa62678163b0c2dd"
  },
  {
   "cell_type": "code",
   "source": "# check_duplicated(df_train)",
   "metadata": {
    "collapsed": false
   },
   "id": "76fcfcfa0916a4fb",
   "outputs": [],
   "execution_count": null
  },
  {
   "cell_type": "markdown",
   "source": [
    "### Тестовая выборка"
   ],
   "metadata": {
    "collapsed": false
   },
   "id": "1f1597edba7781b8"
  },
  {
   "cell_type": "markdown",
   "source": [
    "#### Типы"
   ],
   "metadata": {
    "collapsed": false
   },
   "id": "128e7bedfaf9d215"
  },
  {
   "cell_type": "markdown",
   "source": [
    "Приведем типы с датами в верный формат"
   ],
   "metadata": {
    "collapsed": false
   },
   "id": "87c8a004ceb719f3"
  },
  {
   "cell_type": "code",
   "source": [
    "df_test['founded_at'] = pd.to_datetime(df_train['founded_at'])\n",
    "df_test['first_funding_at'] = pd.to_datetime(df_train['first_funding_at'])\n",
    "df_test['last_funding_at'] = pd.to_datetime(df_train['last_funding_at'])\n",
    "df_test['closed_at'] = pd.to_datetime(df_train['closed_at'])"
   ],
   "metadata": {
    "collapsed": false
   },
   "id": "b9f9506149339602",
   "outputs": [],
   "execution_count": null
  },
  {
   "metadata": {},
   "cell_type": "markdown",
   "source": "Приведем типы со статусом к 0 / 1",
   "id": "96d5f5bec7817c9"
  },
  {
   "metadata": {},
   "cell_type": "code",
   "source": "df_test['status'] = df_test['status'].apply(status_int)",
   "id": "feeb0fbd2605e205",
   "outputs": [],
   "execution_count": null
  },
  {
   "cell_type": "code",
   "source": [
    "df_test.info()"
   ],
   "metadata": {
    "collapsed": false
   },
   "id": "c88d82cd434ec43d",
   "outputs": [],
   "execution_count": null
  },
  {
   "cell_type": "markdown",
   "source": [
    "#### Пропуски"
   ],
   "metadata": {
    "collapsed": false
   },
   "id": "c3e9f6fd75637e16"
  },
  {
   "cell_type": "code",
   "source": "# isna_rate(df_test)",
   "metadata": {
    "collapsed": false
   },
   "id": "939412d68abfa3b5",
   "outputs": [],
   "execution_count": null
  },
  {
   "cell_type": "markdown",
   "source": [
    "Есть пропуски в нескольких колонках, обработаем им далее в пайплайне."
   ],
   "metadata": {
    "collapsed": false
   },
   "id": "ac92ddd92e3b7ea7"
  },
  {
   "cell_type": "markdown",
   "source": [
    "#### Неявные дубликаты"
   ],
   "metadata": {
    "collapsed": false
   },
   "id": "66fded11209ae21d"
  },
  {
   "cell_type": "code",
   "source": "# check_unique(df_train)",
   "metadata": {
    "collapsed": false
   },
   "id": "37444cf56d5d1446",
   "outputs": [],
   "execution_count": null
  },
  {
   "cell_type": "markdown",
   "source": [
    "#### Явные дубликаты"
   ],
   "metadata": {
    "collapsed": false
   },
   "id": "ad7d5ea8b56b738c"
  },
  {
   "cell_type": "code",
   "source": "# check_duplicated(df_test)",
   "metadata": {
    "collapsed": false
   },
   "id": "9f803ecca97caf5b",
   "outputs": [],
   "execution_count": null
  },
  {
   "cell_type": "markdown",
   "source": [
    "## Исследовательский анализ данных"
   ],
   "metadata": {
    "collapsed": false
   },
   "id": "6f9ce8cb90a99a1b"
  },
  {
   "cell_type": "code",
   "source": [
    "# Графики для анализа числовых колонок\n",
    "def column_quantitative_info(df, column):\n",
    "    desc = df[column].describe()\n",
    "    print(desc)\n",
    "    if df[column].dtype == 'int64':\n",
    "        n_bins = (df[column].max() - df[column].min()) + 1\n",
    "        if n_bins > 100:\n",
    "            binwidth = None\n",
    "            discrete = False\n",
    "            bins = 'auto'\n",
    "        else:\n",
    "            bins = n_bins\n",
    "            discrete = True\n",
    "            binwidth = 1\n",
    "    else:\n",
    "        binwidth = None\n",
    "        discrete = False\n",
    "        bins = 'auto'\n",
    "    print(discrete, bins)\n",
    "    fig, axes = plt.subplots(nrows=1, ncols=3, figsize=(15, 5))\n",
    "    sns.histplot(data=df[column], kde=False, ax=axes[0], discrete=discrete, binwidth=binwidth, bins=bins)\n",
    "    axes[0].axvline(df[column].mean(), color='red', linestyle='--', label='Mean')\n",
    "    axes[0].set_title('Гистограмма распределения')\n",
    "    axes[0].set_ylabel('Частота')\n",
    "    axes[0].set_xlabel(column_names[column])\n",
    "    sns.boxplot(data=df[column], palette='rainbow', ax=axes[1])\n",
    "    axes[1].set_title('Разброс значений признаков')\n",
    "    axes[1].set_ylabel('Значение')\n",
    "    stats.probplot(df[column], plot=sns.mpl.pyplot, dist=\"norm\")\n",
    "    axes[2].set_title('Q-Q график')\n",
    "    axes[2].set_ylabel('Квантили эмпирических данных')\n",
    "    axes[2].set_xlabel('Теоретические квантили')\n",
    "    plt.show()"
   ],
   "metadata": {
    "collapsed": false
   },
   "id": "ee9b0f70baac085d",
   "outputs": [],
   "execution_count": null
  },
  {
   "cell_type": "code",
   "source": [
    "# Числовые колонки\n",
    "def quantitative_info(df):\n",
    "    for column in df.loc[:, df.columns != 'id'].select_dtypes(include='number').columns.tolist():\n",
    "        stat, p_val = shapiro(df[column])\n",
    "        print(f'Колонка: \\'{column}\\':')\n",
    "        if p_val < 0.5:\n",
    "            print('Распределение: не нормальное')\n",
    "        else:\n",
    "            print('Распределение: нормальное')\n",
    "        column_quantitative_info(df, column)"
   ],
   "metadata": {
    "collapsed": false
   },
   "id": "b0aa401449c5a06",
   "outputs": [],
   "execution_count": null
  },
  {
   "cell_type": "code",
   "source": [
    "# Строковые колонки   \n",
    "def categorical_info(df):\n",
    "    for column in df.loc[:, df.columns != 'id'].select_dtypes(include='object').columns.tolist():\n",
    "        print(f'Колонка: \\'{column_names[column]}\\':')\n",
    "        print((df[column].describe()))\n",
    "        df[column].value_counts().plot(title=column_names[column], autopct='%1.1f%%', kind='pie', figsize=(7, 7))\n",
    "        plt.ylabel(f\"Соотношение {column_names[column]}\")\n",
    "        plt.show()"
   ],
   "metadata": {
    "collapsed": false
   },
   "id": "50fc9d1f269fac08",
   "outputs": [],
   "execution_count": null
  },
  {
   "cell_type": "markdown",
   "source": [
    "### Тренировочная выборка"
   ],
   "metadata": {
    "collapsed": false
   },
   "id": "4a6126c029322d48"
  },
  {
   "cell_type": "code",
   "source": [
    "RANDOM_STATE = 42\n",
    "# Сделаем sample_df для анализа\n",
    "df_train_sample = df_train.sample(n=1000, random_state=RANDOM_STATE).reset_index(drop=True)"
   ],
   "metadata": {
    "collapsed": false
   },
   "id": "b552af835b089a1a",
   "outputs": [],
   "execution_count": null
  },
  {
   "cell_type": "markdown",
   "source": [
    "#### Количественные колонки"
   ],
   "metadata": {
    "collapsed": false
   },
   "id": "ca93154e7d091702"
  },
  {
   "cell_type": "code",
   "source": "# quantitative_info(df_train_sample)",
   "metadata": {
    "collapsed": false
   },
   "id": "77ce78bcad6fbbaf",
   "outputs": [],
   "execution_count": null
  },
  {
   "cell_type": "markdown",
   "source": [
    "Признаки имеют нормальное и не нормальное распределение."
   ],
   "metadata": {
    "collapsed": false
   },
   "id": "45f7068fadfbed4b"
  },
  {
   "cell_type": "markdown",
   "source": [
    "Аномальных значений как таковых не выявлено."
   ],
   "metadata": {
    "collapsed": false
   },
   "id": "6b07c987ad1f7a5c"
  },
  {
   "cell_type": "markdown",
   "source": [
    "#### Категориальные колонки"
   ],
   "metadata": {
    "collapsed": false
   },
   "id": "1534f416b95381e5"
  },
  {
   "cell_type": "code",
   "source": "# categorical_info(df_train_sample.drop(['name'], axis=1))",
   "metadata": {
    "collapsed": false
   },
   "id": "82144c8498301c57",
   "outputs": [],
   "execution_count": null
  },
  {
   "cell_type": "markdown",
   "source": [
    "Выводы:\n",
    "- Популярная категория Software.\n",
    "- Большинство компаний из США.\n",
    "- Большинство компаний из города San Francisco.\n",
    "- Большинство компаний из региона SF Bay Area.\n",
    "- Большинство компаний не закрыты."
   ],
   "metadata": {
    "collapsed": false
   },
   "id": "d5db3c1ffb48f337"
  },
  {
   "cell_type": "markdown",
   "source": [
    "### Тестовая выборка"
   ],
   "metadata": {
    "collapsed": false
   },
   "id": "5bd1b0247d525784"
  },
  {
   "metadata": {},
   "cell_type": "code",
   "source": [
    "# Сделаем sample_df для анализа\n",
    "df_test_sample = df_test.sample(n=1000, random_state=RANDOM_STATE).reset_index(drop=True)"
   ],
   "id": "57f85c5e325e0178",
   "outputs": [],
   "execution_count": null
  },
  {
   "cell_type": "markdown",
   "source": [
    "#### Количественные колонки"
   ],
   "metadata": {
    "collapsed": false
   },
   "id": "a6d51cdfb50f27d9"
  },
  {
   "cell_type": "code",
   "source": "# quantitative_info(df_test_sample)",
   "metadata": {
    "collapsed": false
   },
   "id": "fd3e02f57c3248ea",
   "outputs": [],
   "execution_count": null
  },
  {
   "cell_type": "markdown",
   "source": [
    "Признаки имеют нормальное и не нормальное распределение."
   ],
   "metadata": {
    "collapsed": false
   },
   "id": "873c9369287202f9"
  },
  {
   "cell_type": "markdown",
   "source": [
    "Аномальных значений как таковых не выявлено."
   ],
   "metadata": {
    "collapsed": false
   },
   "id": "39cf21fa5d9b2ee6"
  },
  {
   "cell_type": "markdown",
   "source": [
    "#### Категориальные колонки"
   ],
   "metadata": {
    "collapsed": false
   },
   "id": "6e09a9d8380e32e1"
  },
  {
   "cell_type": "code",
   "source": "# categorical_info(df_test_sample.drop(['name'], axis=1))",
   "metadata": {
    "collapsed": false
   },
   "id": "aebdbd5599294d0a",
   "outputs": [],
   "execution_count": null
  },
  {
   "cell_type": "markdown",
   "source": [
    "Выводы:\n",
    "- Популярная категория Software.\n",
    "- Большинство компаний из США.\n",
    "- Большинство компаний из города San Francisco.\n",
    "- Большинство компаний из региона SF Bay Area.\n",
    "- Статусы компании распределены почти равномерно."
   ],
   "metadata": {
    "collapsed": false
   },
   "id": "4a24d19fef3ff00a"
  },
  {
   "metadata": {},
   "cell_type": "markdown",
   "source": "## Подготовка данных",
   "id": "ba22881effa64967"
  },
  {
   "metadata": {},
   "cell_type": "code",
   "source": [
    "def show_phik_matrix(df):\n",
    "    phik_overview = df.sample(1000, random_state=RANDOM_STATE).phik_matrix()\n",
    "    # визуализация тепловой карты коэффициентов корреляции\n",
    "    plot_correlation_matrix(\n",
    "        phik_overview.values,\n",
    "        x_labels=phik_overview.columns,\n",
    "        y_labels=phik_overview.index,\n",
    "        title=r\"correlation $\\phi_K$\",\n",
    "        fontsize_factor=1.5,\n",
    "        figsize=(15, 12)\n",
    "    )"
   ],
   "id": "a06748b0c5c86dab",
   "outputs": [],
   "execution_count": null
  },
  {
   "metadata": {},
   "cell_type": "markdown",
   "source": "### Матрица корреляции на стандартных данных",
   "id": "6153f4eac211e249"
  },
  {
   "metadata": {},
   "cell_type": "markdown",
   "source": "Изучим коэффициенты корреляции между всеми признаками с целью определения наличия мультиколлинеарности. Для признаков с нормальным распределением будем применять коэффициент Пирсона, а для остальных - коэффициент Спирмена.",
   "id": "bf3ec560e358caff"
  },
  {
   "metadata": {},
   "cell_type": "code",
   "source": "show_phik_matrix(df_train)",
   "id": "5631c71e38259bd4",
   "outputs": [],
   "execution_count": null
  },
  {
   "metadata": {},
   "cell_type": "markdown",
   "source": "Наблюдается утечка целевого признака, по параметрам с датами закрытия",
   "id": "57ac8a85b05f2b9"
  },
  {
   "metadata": {},
   "cell_type": "markdown",
   "source": "### Дополнительные колонки",
   "id": "c2a7357c673a7711"
  },
  {
   "metadata": {},
   "cell_type": "markdown",
   "source": "#### Заполним колонки дата закрытия",
   "id": "b9c33fac8364df25"
  },
  {
   "metadata": {},
   "cell_type": "code",
   "source": [
    "df_train_old = df_train\n",
    "# Заполним пустые значения в колонке дата закрытия на текущую дату что бы посчитать время существование компании.\n",
    "df_train.closed_at.fillna(pd.to_datetime('2018-01-01'), inplace=True)\n",
    "df_train.info()"
   ],
   "id": "dd4011846d93eef1",
   "outputs": [],
   "execution_count": null
  },
  {
   "metadata": {},
   "cell_type": "code",
   "source": [
    "df_test_old = df_test\n",
    "\n",
    "# Заполним пустые значения в колонке дата закрытия на текущую дату что бы посчитать время существование компании.\n",
    "df_test.closed_at = pd.to_datetime('2018-01-01')\n",
    "df_test.info()"
   ],
   "id": "8f6e0bb0664e9d9d",
   "outputs": [],
   "execution_count": null
  },
  {
   "metadata": {},
   "cell_type": "markdown",
   "source": "#### Дополнительные колонки из колонок с датами",
   "id": "1189f0e363fe7a95"
  },
  {
   "metadata": {},
   "cell_type": "code",
   "source": [
    "# def create_new_columns(df):\n",
    "#     # Возраст компании на момент первого финансирования (first_funding_age):\n",
    "#     df['age_first_funding'] = (df['first_funding_at'] - df['founded_at']).dt.days\n",
    "#     \n",
    "#     return df"
   ],
   "id": "8fc9be70982f46b",
   "outputs": [],
   "execution_count": null
  },
  {
   "metadata": {},
   "cell_type": "code",
   "source": "df_train['count_usd_day_life'] = df_train.funding_total_usd / (df_train.closed_at - df_train.founded_at).dt.days",
   "id": "fc1b1dc14211a0cc",
   "outputs": [],
   "execution_count": null
  },
  {
   "metadata": {},
   "cell_type": "code",
   "source": "df_train = df_train.query('closed_at >= founded_at')",
   "id": "1c9229f651e0eb3",
   "outputs": [],
   "execution_count": null
  },
  {
   "metadata": {},
   "cell_type": "code",
   "source": [
    "show_phik_matrix(df_train.drop([\n",
    "    'first_funding_at',\n",
    "    'last_funding_at',\n",
    "    'founded_at',\n",
    "    'closed_at',\n",
    "    'name'\n",
    "], axis=1))"
   ],
   "id": "a483da6c87dfe0da",
   "outputs": [],
   "execution_count": null
  },
  {
   "metadata": {},
   "cell_type": "code",
   "source": [
    "# create_new_columns(df_test)\n",
    "ф()"
   ],
   "id": "e4c6696463460a6b",
   "outputs": [],
   "execution_count": null
  },
  {
   "metadata": {},
   "cell_type": "markdown",
   "source": "#### Дополнительные колонки из колонки с категориями",
   "id": "65e183c0ed66f33e"
  },
  {
   "metadata": {},
   "cell_type": "code",
   "source": [
    "unique_categories = df_train['category_list'].dropna().str.split('|').explode().unique()\n",
    "\n",
    "\n",
    "def category_list_to_binary_columns(df, column_name='category_list'):\n",
    "    for category in unique_categories:\n",
    "        df[f'cat_{category}'] = df[column_name].str.contains(category).fillna(0).astype(int)\n"
   ],
   "id": "5873a03ca5294e36",
   "outputs": [],
   "execution_count": null
  },
  {
   "metadata": {},
   "cell_type": "code",
   "source": [
    "# Разделяем строку на список категорий и создаем бинарные колонки для обучающей\n",
    "# category_list_to_binary_columns(df_train)\n",
    "df_train.head()"
   ],
   "id": "c567d9a966e9a283",
   "outputs": [],
   "execution_count": null
  },
  {
   "metadata": {},
   "cell_type": "code",
   "source": [
    "# Разделяем строку на список категорий и создаем бинарные колонки для обучающей\n",
    "# category_list_to_binary_columns(df_test)\n",
    "df_test.head()"
   ],
   "id": "f410380f456196bb",
   "outputs": [],
   "execution_count": null
  },
  {
   "metadata": {},
   "cell_type": "code",
   "source": "# df_train['category_list'].dropna().str.split('|').explode().unique()",
   "id": "449851a0a9b9a6df",
   "outputs": [],
   "execution_count": null
  },
  {
   "metadata": {},
   "cell_type": "code",
   "source": [
    "df_train_sample = df_train\n",
    "X = df_train_sample.drop([\n",
    "    'name',\n",
    "    'first_funding_at',\n",
    "    'last_funding_at',\n",
    "    'founded_at',\n",
    "    'closed_at',\n",
    "    'category_list'\n",
    "], axis=1)\n",
    "y = df_train_sample['status']\n",
    "show_phik_matrix(X)"
   ],
   "id": "fb2f0fc6fc5e9200",
   "outputs": [],
   "execution_count": null
  },
  {
   "metadata": {},
   "cell_type": "markdown",
   "source": "### Пайплайн подготовки данных",
   "id": "4566f218a13ed257"
  },
  {
   "metadata": {},
   "cell_type": "code",
   "source": "df_train.info()",
   "id": "5a8d43530d255c06",
   "outputs": [
    {
     "name": "stdout",
     "output_type": "stream",
     "text": [
      "<class 'pandas.core.frame.DataFrame'>\n",
      "RangeIndex: 52879 entries, 0 to 52878\n",
      "Data columns (total 13 columns):\n",
      " #   Column             Non-Null Count  Dtype         \n",
      "---  ------             --------------  -----         \n",
      " 0   name               52878 non-null  object        \n",
      " 1   category_list      50374 non-null  object        \n",
      " 2   funding_total_usd  42753 non-null  float64       \n",
      " 3   status             52879 non-null  int64         \n",
      " 4   country_code       47351 non-null  object        \n",
      " 5   state_code         46082 non-null  object        \n",
      " 6   region             46489 non-null  object        \n",
      " 7   city               46489 non-null  object        \n",
      " 8   funding_rounds     52879 non-null  int64         \n",
      " 9   founded_at         52879 non-null  datetime64[ns]\n",
      " 10  first_funding_at   52858 non-null  datetime64[ns]\n",
      " 11  last_funding_at    52879 non-null  datetime64[ns]\n",
      " 12  closed_at          4962 non-null   datetime64[ns]\n",
      "dtypes: datetime64[ns](4), float64(1), int64(2), object(6)\n",
      "memory usage: 5.2+ MB\n"
     ]
    }
   ],
   "execution_count": 27
  },
  {
   "metadata": {
    "ExecuteTime": {
     "end_time": "2024-04-15T08:10:11.259331Z",
     "start_time": "2024-04-15T08:10:11.241445Z"
    }
   },
   "cell_type": "code",
   "source": [
    "# создаём пайплайн для подготовки признаков из списка ohe_columns: заполнение пропусков и OHE-кодирование\n",
    "# SimpleImputer + OHE\n",
    "ohe_pipe = make_pipeline(\n",
    "    SimpleImputer(missing_values=np.nan, strategy='most_frequent'),\n",
    "    OneHotEncoder(drop='first', handle_unknown='ignore')\n",
    ")\n",
    "\n",
    "num_pipe = make_pipeline(\n",
    "    SimpleImputer(missing_values=np.nan, strategy='median'),\n",
    "    StandardScaler()\n",
    ")\n",
    "\n",
    "# создаём общий пайплайн для подготовки данных\n",
    "preprocessor = make_column_transformer(\n",
    "    (ohe_pipe, make_column_selector(dtype_exclude='number')),\n",
    "    (num_pipe, make_column_selector(dtype_include='number')),\n",
    "    remainder='passthrough'\n",
    ")\n",
    "\n",
    "pipe_preparation = Pipeline(\n",
    "    [\n",
    "        ('preprocessor', preprocessor),\n",
    "        ('resample', SMOTE(random_state=RANDOM_STATE))\n",
    "    ]\n",
    ")\n",
    "\n",
    "pipe_preparation"
   ],
   "id": "2669be8578766aaf",
   "outputs": [
    {
     "ename": "NameError",
     "evalue": "name 'RANDOM_STATE' is not defined",
     "output_type": "error",
     "traceback": [
      "\u001B[0;31m---------------------------------------------------------------------------\u001B[0m",
      "\u001B[0;31mNameError\u001B[0m                                 Traceback (most recent call last)",
      "Cell \u001B[0;32mIn[28], line 23\u001B[0m\n\u001B[1;32m     13\u001B[0m \u001B[38;5;66;03m# создаём общий пайплайн для подготовки данных\u001B[39;00m\n\u001B[1;32m     14\u001B[0m preprocessor \u001B[38;5;241m=\u001B[39m make_column_transformer(\n\u001B[1;32m     15\u001B[0m     (ohe_pipe, make_column_selector(dtype_exclude\u001B[38;5;241m=\u001B[39m\u001B[38;5;124m'\u001B[39m\u001B[38;5;124mnumber\u001B[39m\u001B[38;5;124m'\u001B[39m)),\n\u001B[1;32m     16\u001B[0m     (num_pipe, make_column_selector(dtype_include\u001B[38;5;241m=\u001B[39m\u001B[38;5;124m'\u001B[39m\u001B[38;5;124mnumber\u001B[39m\u001B[38;5;124m'\u001B[39m)),\n\u001B[1;32m     17\u001B[0m     remainder\u001B[38;5;241m=\u001B[39m\u001B[38;5;124m'\u001B[39m\u001B[38;5;124mpassthrough\u001B[39m\u001B[38;5;124m'\u001B[39m\n\u001B[1;32m     18\u001B[0m )\n\u001B[1;32m     20\u001B[0m pipe_preparation \u001B[38;5;241m=\u001B[39m Pipeline(\n\u001B[1;32m     21\u001B[0m     [\n\u001B[1;32m     22\u001B[0m         (\u001B[38;5;124m'\u001B[39m\u001B[38;5;124mpreprocessor\u001B[39m\u001B[38;5;124m'\u001B[39m, preprocessor),\n\u001B[0;32m---> 23\u001B[0m         (\u001B[38;5;124m'\u001B[39m\u001B[38;5;124mresample\u001B[39m\u001B[38;5;124m'\u001B[39m, SMOTE(random_state\u001B[38;5;241m=\u001B[39m\u001B[43mRANDOM_STATE\u001B[49m))\n\u001B[1;32m     24\u001B[0m     ]\n\u001B[1;32m     25\u001B[0m )\n\u001B[1;32m     27\u001B[0m pipe_preparation\n",
      "\u001B[0;31mNameError\u001B[0m: name 'RANDOM_STATE' is not defined"
     ]
    }
   ],
   "execution_count": 28
  },
  {
   "metadata": {},
   "cell_type": "markdown",
   "source": "## Обучение модели",
   "id": "4c75e955ed855d12"
  },
  {
   "metadata": {
    "ExecuteTime": {
     "end_time": "2024-04-15T08:10:11.853082Z",
     "start_time": "2024-04-15T08:10:11.834092Z"
    }
   },
   "cell_type": "code",
   "source": [
    "X_train, X_test, y_train, y_test = train_test_split(X.drop(['status'], axis=1), y, test_size=0.25, random_state=RANDOM_STATE)\n",
    "print(f'X {len(X_train)}/{len(X_test)}')\n",
    "print(f'y {len(y_train)}/{len(y_test)}')"
   ],
   "id": "a37271ec2675c155",
   "outputs": [
    {
     "ename": "NameError",
     "evalue": "name 'X' is not defined",
     "output_type": "error",
     "traceback": [
      "\u001B[0;31m---------------------------------------------------------------------------\u001B[0m",
      "\u001B[0;31mNameError\u001B[0m                                 Traceback (most recent call last)",
      "Cell \u001B[0;32mIn[29], line 1\u001B[0m\n\u001B[0;32m----> 1\u001B[0m X_train, X_test, y_train, y_test \u001B[38;5;241m=\u001B[39m train_test_split(\u001B[43mX\u001B[49m\u001B[38;5;241m.\u001B[39mdrop([\u001B[38;5;124m'\u001B[39m\u001B[38;5;124mstatus\u001B[39m\u001B[38;5;124m'\u001B[39m], axis\u001B[38;5;241m=\u001B[39m\u001B[38;5;241m1\u001B[39m), y, test_size\u001B[38;5;241m=\u001B[39m\u001B[38;5;241m0.25\u001B[39m, random_state\u001B[38;5;241m=\u001B[39mRANDOM_STATE)\n\u001B[1;32m      2\u001B[0m \u001B[38;5;28mprint\u001B[39m(\u001B[38;5;124mf\u001B[39m\u001B[38;5;124m'\u001B[39m\u001B[38;5;124mX \u001B[39m\u001B[38;5;132;01m{\u001B[39;00m\u001B[38;5;28mlen\u001B[39m(X_train)\u001B[38;5;132;01m}\u001B[39;00m\u001B[38;5;124m/\u001B[39m\u001B[38;5;132;01m{\u001B[39;00m\u001B[38;5;28mlen\u001B[39m(X_test)\u001B[38;5;132;01m}\u001B[39;00m\u001B[38;5;124m'\u001B[39m)\n\u001B[1;32m      3\u001B[0m \u001B[38;5;28mprint\u001B[39m(\u001B[38;5;124mf\u001B[39m\u001B[38;5;124m'\u001B[39m\u001B[38;5;124my \u001B[39m\u001B[38;5;132;01m{\u001B[39;00m\u001B[38;5;28mlen\u001B[39m(y_train)\u001B[38;5;132;01m}\u001B[39;00m\u001B[38;5;124m/\u001B[39m\u001B[38;5;132;01m{\u001B[39;00m\u001B[38;5;28mlen\u001B[39m(y_test)\u001B[38;5;132;01m}\u001B[39;00m\u001B[38;5;124m'\u001B[39m)\n",
      "\u001B[0;31mNameError\u001B[0m: name 'X' is not defined"
     ]
    }
   ],
   "execution_count": 29
  },
  {
   "metadata": {
    "ExecuteTime": {
     "end_time": "2024-04-15T08:10:11.906694Z",
     "start_time": "2024-04-15T08:10:11.891970Z"
    }
   },
   "cell_type": "code",
   "source": [
    "pipe_final = Pipeline(\n",
    "    [\n",
    "        ('preprocessor', preprocessor),\n",
    "        ('resample', SMOTE(random_state=RANDOM_STATE)),\n",
    "        ('models', LogisticRegression(random_state=RANDOM_STATE))\n",
    "    ]\n",
    ")\n",
    "pipe_final"
   ],
   "id": "965775eae28811dc",
   "outputs": [
    {
     "ename": "NameError",
     "evalue": "name 'RANDOM_STATE' is not defined",
     "output_type": "error",
     "traceback": [
      "\u001B[0;31m---------------------------------------------------------------------------\u001B[0m",
      "\u001B[0;31mNameError\u001B[0m                                 Traceback (most recent call last)",
      "Cell \u001B[0;32mIn[30], line 4\u001B[0m\n\u001B[1;32m      1\u001B[0m pipe_final \u001B[38;5;241m=\u001B[39m Pipeline(\n\u001B[1;32m      2\u001B[0m     [\n\u001B[1;32m      3\u001B[0m         (\u001B[38;5;124m'\u001B[39m\u001B[38;5;124mpreprocessor\u001B[39m\u001B[38;5;124m'\u001B[39m, preprocessor),\n\u001B[0;32m----> 4\u001B[0m         (\u001B[38;5;124m'\u001B[39m\u001B[38;5;124mresample\u001B[39m\u001B[38;5;124m'\u001B[39m, SMOTE(random_state\u001B[38;5;241m=\u001B[39m\u001B[43mRANDOM_STATE\u001B[49m)),\n\u001B[1;32m      5\u001B[0m         (\u001B[38;5;124m'\u001B[39m\u001B[38;5;124mmodels\u001B[39m\u001B[38;5;124m'\u001B[39m, LogisticRegression(random_state\u001B[38;5;241m=\u001B[39mRANDOM_STATE))\n\u001B[1;32m      6\u001B[0m     ]\n\u001B[1;32m      7\u001B[0m )\n\u001B[1;32m      8\u001B[0m pipe_final\n",
      "\u001B[0;31mNameError\u001B[0m: name 'RANDOM_STATE' is not defined"
     ]
    }
   ],
   "execution_count": 30
  },
  {
   "metadata": {
    "ExecuteTime": {
     "end_time": "2024-04-15T08:10:11.921358Z",
     "start_time": "2024-04-15T08:10:11.909194Z"
    }
   },
   "cell_type": "code",
   "source": [
    "pipe_final.fit(X_train, y_train)\n",
    "preds = pipe_final.predict(X_test)\n",
    "print(classification_report(y_test, preds))"
   ],
   "id": "5bebca5bec5215fe",
   "outputs": [
    {
     "ename": "NameError",
     "evalue": "name 'pipe_final' is not defined",
     "output_type": "error",
     "traceback": [
      "\u001B[0;31m---------------------------------------------------------------------------\u001B[0m",
      "\u001B[0;31mNameError\u001B[0m                                 Traceback (most recent call last)",
      "Cell \u001B[0;32mIn[31], line 1\u001B[0m\n\u001B[0;32m----> 1\u001B[0m \u001B[43mpipe_final\u001B[49m\u001B[38;5;241m.\u001B[39mfit(X_train, y_train)\n\u001B[1;32m      2\u001B[0m preds \u001B[38;5;241m=\u001B[39m pipe_final\u001B[38;5;241m.\u001B[39mpredict(X_test)\n\u001B[1;32m      3\u001B[0m \u001B[38;5;28mprint\u001B[39m(classification_report(y_test, preds))\n",
      "\u001B[0;31mNameError\u001B[0m: name 'pipe_final' is not defined"
     ]
    }
   ],
   "execution_count": 31
  },
  {
   "metadata": {
    "ExecuteTime": {
     "end_time": "2024-04-15T08:10:11.944184Z",
     "start_time": "2024-04-15T08:10:11.930540Z"
    }
   },
   "cell_type": "code",
   "source": [
    "preds = pipe_final.predict(df_test.drop(['status'], axis=1))\n",
    "print(classification_report(df_test['status'], preds))"
   ],
   "id": "94c3ca9e1bb25cbd",
   "outputs": [
    {
     "ename": "NameError",
     "evalue": "name 'pipe_final' is not defined",
     "output_type": "error",
     "traceback": [
      "\u001B[0;31m---------------------------------------------------------------------------\u001B[0m",
      "\u001B[0;31mNameError\u001B[0m                                 Traceback (most recent call last)",
      "Cell \u001B[0;32mIn[32], line 1\u001B[0m\n\u001B[0;32m----> 1\u001B[0m preds \u001B[38;5;241m=\u001B[39m \u001B[43mpipe_final\u001B[49m\u001B[38;5;241m.\u001B[39mpredict(df_test\u001B[38;5;241m.\u001B[39mdrop([\u001B[38;5;124m'\u001B[39m\u001B[38;5;124mstatus\u001B[39m\u001B[38;5;124m'\u001B[39m], axis\u001B[38;5;241m=\u001B[39m\u001B[38;5;241m1\u001B[39m))\n\u001B[1;32m      2\u001B[0m \u001B[38;5;28mprint\u001B[39m(classification_report(df_test[\u001B[38;5;124m'\u001B[39m\u001B[38;5;124mstatus\u001B[39m\u001B[38;5;124m'\u001B[39m], preds))\n",
      "\u001B[0;31mNameError\u001B[0m: name 'pipe_final' is not defined"
     ]
    }
   ],
   "execution_count": 32
  },
  {
   "metadata": {
    "ExecuteTime": {
     "end_time": "2024-04-15T08:10:11.996341Z",
     "start_time": "2024-04-15T08:10:11.971190Z"
    }
   },
   "cell_type": "code",
   "source": [
    "# Настройка гиперпараметров моделей\n",
    "param_grid = [\n",
    "    # словарь для модели LogisticRegression()\n",
    "    {\n",
    "        'models': [LogisticRegression(random_state=RANDOM_STATE, class_weight='balanced')],\n",
    "        'models__C': range(1, 5),\n",
    "        'models__solver': ['newton-cg', 'lbfgs', 'liblinear', 'sag', 'saga'],\n",
    "        'models__penalty': ['l1', 'l2'],\n",
    "        'preprocessor__pipeline-2__standardscaler': [StandardScaler(), MinMaxScaler(), 'passthrough']\n",
    "    },\n",
    "\n",
    "    # словарь для модели DecisionTreeClassifier() \n",
    "    {\n",
    "        'models': [DecisionTreeClassifier(random_state=RANDOM_STATE, class_weight='balanced')],\n",
    "        'models__criterion': ['log_loss', 'entropy', 'gini'],\n",
    "        'models__max_depth': range(1, 100),\n",
    "        'models__min_samples_split': range(2, 10),\n",
    "        'models__min_samples_leaf': range(1, 10),\n",
    "        'models__max_features': range(1, 10),\n",
    "        'preprocessor__pipeline-2__standardscaler': [StandardScaler(), MinMaxScaler(), 'passthrough']\n",
    "    },\n",
    "    # словарь для модели RandomForestClassifier() \n",
    "    {\n",
    "        'models': [RandomForestClassifier(random_state=RANDOM_STATE, class_weight='balanced')],\n",
    "        'models__n_estimators': range(1, 100),\n",
    "        'models__max_depth': range(1, 100),\n",
    "        'preprocessor__pipeline-2__standardscaler': [StandardScaler(), MinMaxScaler(), 'passthrough']\n",
    "    },\n",
    "    # словарь для модели GradientBoostingClassifier()\n",
    "    {\n",
    "        'models': [GradientBoostingClassifier(random_state=RANDOM_STATE)],\n",
    "        'models__n_estimators': range(1, 100),\n",
    "        'models__max_depth': range(1, 100),\n",
    "        'preprocessor__pipeline-2__standardscaler': [StandardScaler(), MinMaxScaler(), 'passthrough']\n",
    "    },\n",
    "    # словарь для модели MLP()\n",
    "    {\n",
    "        'models': [MLPClassifier(random_state=RANDOM_STATE)],\n",
    "        'models__hidden_layer_sizesr': [(64,), (128,), (64, 64)],\n",
    "        'models__hidden_layer_alpha': [(64,), (128,), (64, 64)],\n",
    "        'preprocessor__pipeline-2__standardscaler': [StandardScaler(), MinMaxScaler(), 'passthrough']\n",
    "    }\n",
    "]\n",
    "\n",
    "randomized_search = RandomizedSearchCV(\n",
    "    pipe_final,\n",
    "    param_grid,\n",
    "    cv=5,\n",
    "    scoring='neg_mean_absolute_error'\n",
    ")\n",
    "\n",
    "randomized_search"
   ],
   "id": "4adf0f7efcd822b6",
   "outputs": [
    {
     "ename": "NameError",
     "evalue": "name 'RANDOM_STATE' is not defined",
     "output_type": "error",
     "traceback": [
      "\u001B[0;31m---------------------------------------------------------------------------\u001B[0m",
      "\u001B[0;31mNameError\u001B[0m                                 Traceback (most recent call last)",
      "Cell \u001B[0;32mIn[33], line 5\u001B[0m\n\u001B[1;32m      1\u001B[0m \u001B[38;5;66;03m# Настройка гиперпараметров моделей\u001B[39;00m\n\u001B[1;32m      2\u001B[0m param_grid \u001B[38;5;241m=\u001B[39m [\n\u001B[1;32m      3\u001B[0m     \u001B[38;5;66;03m# словарь для модели LogisticRegression()\u001B[39;00m\n\u001B[1;32m      4\u001B[0m     {\n\u001B[0;32m----> 5\u001B[0m         \u001B[38;5;124m'\u001B[39m\u001B[38;5;124mmodels\u001B[39m\u001B[38;5;124m'\u001B[39m: [LogisticRegression(random_state\u001B[38;5;241m=\u001B[39m\u001B[43mRANDOM_STATE\u001B[49m, class_weight\u001B[38;5;241m=\u001B[39m\u001B[38;5;124m'\u001B[39m\u001B[38;5;124mbalanced\u001B[39m\u001B[38;5;124m'\u001B[39m)],\n\u001B[1;32m      6\u001B[0m         \u001B[38;5;124m'\u001B[39m\u001B[38;5;124mmodels__C\u001B[39m\u001B[38;5;124m'\u001B[39m: \u001B[38;5;28mrange\u001B[39m(\u001B[38;5;241m1\u001B[39m, \u001B[38;5;241m5\u001B[39m),\n\u001B[1;32m      7\u001B[0m         \u001B[38;5;124m'\u001B[39m\u001B[38;5;124mmodels__solver\u001B[39m\u001B[38;5;124m'\u001B[39m: [\u001B[38;5;124m'\u001B[39m\u001B[38;5;124mnewton-cg\u001B[39m\u001B[38;5;124m'\u001B[39m, \u001B[38;5;124m'\u001B[39m\u001B[38;5;124mlbfgs\u001B[39m\u001B[38;5;124m'\u001B[39m, \u001B[38;5;124m'\u001B[39m\u001B[38;5;124mliblinear\u001B[39m\u001B[38;5;124m'\u001B[39m, \u001B[38;5;124m'\u001B[39m\u001B[38;5;124msag\u001B[39m\u001B[38;5;124m'\u001B[39m, \u001B[38;5;124m'\u001B[39m\u001B[38;5;124msaga\u001B[39m\u001B[38;5;124m'\u001B[39m],\n\u001B[1;32m      8\u001B[0m         \u001B[38;5;124m'\u001B[39m\u001B[38;5;124mmodels__penalty\u001B[39m\u001B[38;5;124m'\u001B[39m: [\u001B[38;5;124m'\u001B[39m\u001B[38;5;124ml1\u001B[39m\u001B[38;5;124m'\u001B[39m, \u001B[38;5;124m'\u001B[39m\u001B[38;5;124ml2\u001B[39m\u001B[38;5;124m'\u001B[39m],\n\u001B[1;32m      9\u001B[0m         \u001B[38;5;124m'\u001B[39m\u001B[38;5;124mpreprocessor__pipeline-2__standardscaler\u001B[39m\u001B[38;5;124m'\u001B[39m: [StandardScaler(), MinMaxScaler(), \u001B[38;5;124m'\u001B[39m\u001B[38;5;124mpassthrough\u001B[39m\u001B[38;5;124m'\u001B[39m]\n\u001B[1;32m     10\u001B[0m     },\n\u001B[1;32m     11\u001B[0m \n\u001B[1;32m     12\u001B[0m     \u001B[38;5;66;03m# словарь для модели DecisionTreeClassifier() \u001B[39;00m\n\u001B[1;32m     13\u001B[0m     {\n\u001B[1;32m     14\u001B[0m         \u001B[38;5;124m'\u001B[39m\u001B[38;5;124mmodels\u001B[39m\u001B[38;5;124m'\u001B[39m: [DecisionTreeClassifier(random_state\u001B[38;5;241m=\u001B[39mRANDOM_STATE, class_weight\u001B[38;5;241m=\u001B[39m\u001B[38;5;124m'\u001B[39m\u001B[38;5;124mbalanced\u001B[39m\u001B[38;5;124m'\u001B[39m)],\n\u001B[1;32m     15\u001B[0m         \u001B[38;5;124m'\u001B[39m\u001B[38;5;124mmodels__criterion\u001B[39m\u001B[38;5;124m'\u001B[39m: [\u001B[38;5;124m'\u001B[39m\u001B[38;5;124mlog_loss\u001B[39m\u001B[38;5;124m'\u001B[39m, \u001B[38;5;124m'\u001B[39m\u001B[38;5;124mentropy\u001B[39m\u001B[38;5;124m'\u001B[39m, \u001B[38;5;124m'\u001B[39m\u001B[38;5;124mgini\u001B[39m\u001B[38;5;124m'\u001B[39m],\n\u001B[1;32m     16\u001B[0m         \u001B[38;5;124m'\u001B[39m\u001B[38;5;124mmodels__max_depth\u001B[39m\u001B[38;5;124m'\u001B[39m: \u001B[38;5;28mrange\u001B[39m(\u001B[38;5;241m1\u001B[39m, \u001B[38;5;241m100\u001B[39m),\n\u001B[1;32m     17\u001B[0m         \u001B[38;5;124m'\u001B[39m\u001B[38;5;124mmodels__min_samples_split\u001B[39m\u001B[38;5;124m'\u001B[39m: \u001B[38;5;28mrange\u001B[39m(\u001B[38;5;241m2\u001B[39m, \u001B[38;5;241m10\u001B[39m),\n\u001B[1;32m     18\u001B[0m         \u001B[38;5;124m'\u001B[39m\u001B[38;5;124mmodels__min_samples_leaf\u001B[39m\u001B[38;5;124m'\u001B[39m: \u001B[38;5;28mrange\u001B[39m(\u001B[38;5;241m1\u001B[39m, \u001B[38;5;241m10\u001B[39m),\n\u001B[1;32m     19\u001B[0m         \u001B[38;5;124m'\u001B[39m\u001B[38;5;124mmodels__max_features\u001B[39m\u001B[38;5;124m'\u001B[39m: \u001B[38;5;28mrange\u001B[39m(\u001B[38;5;241m1\u001B[39m, \u001B[38;5;241m10\u001B[39m),\n\u001B[1;32m     20\u001B[0m         \u001B[38;5;124m'\u001B[39m\u001B[38;5;124mpreprocessor__pipeline-2__standardscaler\u001B[39m\u001B[38;5;124m'\u001B[39m: [StandardScaler(), MinMaxScaler(), \u001B[38;5;124m'\u001B[39m\u001B[38;5;124mpassthrough\u001B[39m\u001B[38;5;124m'\u001B[39m]\n\u001B[1;32m     21\u001B[0m     },\n\u001B[1;32m     22\u001B[0m     \u001B[38;5;66;03m# словарь для модели RandomForestClassifier() \u001B[39;00m\n\u001B[1;32m     23\u001B[0m     {\n\u001B[1;32m     24\u001B[0m         \u001B[38;5;124m'\u001B[39m\u001B[38;5;124mmodels\u001B[39m\u001B[38;5;124m'\u001B[39m: [RandomForestClassifier(random_state\u001B[38;5;241m=\u001B[39mRANDOM_STATE, class_weight\u001B[38;5;241m=\u001B[39m\u001B[38;5;124m'\u001B[39m\u001B[38;5;124mbalanced\u001B[39m\u001B[38;5;124m'\u001B[39m)],\n\u001B[1;32m     25\u001B[0m         \u001B[38;5;124m'\u001B[39m\u001B[38;5;124mmodels__n_estimators\u001B[39m\u001B[38;5;124m'\u001B[39m: \u001B[38;5;28mrange\u001B[39m(\u001B[38;5;241m1\u001B[39m, \u001B[38;5;241m100\u001B[39m),\n\u001B[1;32m     26\u001B[0m         \u001B[38;5;124m'\u001B[39m\u001B[38;5;124mmodels__max_depth\u001B[39m\u001B[38;5;124m'\u001B[39m: \u001B[38;5;28mrange\u001B[39m(\u001B[38;5;241m1\u001B[39m, \u001B[38;5;241m100\u001B[39m),\n\u001B[1;32m     27\u001B[0m         \u001B[38;5;124m'\u001B[39m\u001B[38;5;124mpreprocessor__pipeline-2__standardscaler\u001B[39m\u001B[38;5;124m'\u001B[39m: [StandardScaler(), MinMaxScaler(), \u001B[38;5;124m'\u001B[39m\u001B[38;5;124mpassthrough\u001B[39m\u001B[38;5;124m'\u001B[39m]\n\u001B[1;32m     28\u001B[0m     },\n\u001B[1;32m     29\u001B[0m     \u001B[38;5;66;03m# словарь для модели GradientBoostingClassifier()\u001B[39;00m\n\u001B[1;32m     30\u001B[0m     {\n\u001B[1;32m     31\u001B[0m         \u001B[38;5;124m'\u001B[39m\u001B[38;5;124mmodels\u001B[39m\u001B[38;5;124m'\u001B[39m: [GradientBoostingClassifier(random_state\u001B[38;5;241m=\u001B[39mRANDOM_STATE)],\n\u001B[1;32m     32\u001B[0m         \u001B[38;5;124m'\u001B[39m\u001B[38;5;124mmodels__n_estimators\u001B[39m\u001B[38;5;124m'\u001B[39m: \u001B[38;5;28mrange\u001B[39m(\u001B[38;5;241m1\u001B[39m, \u001B[38;5;241m100\u001B[39m),\n\u001B[1;32m     33\u001B[0m         \u001B[38;5;124m'\u001B[39m\u001B[38;5;124mmodels__max_depth\u001B[39m\u001B[38;5;124m'\u001B[39m: \u001B[38;5;28mrange\u001B[39m(\u001B[38;5;241m1\u001B[39m, \u001B[38;5;241m100\u001B[39m),\n\u001B[1;32m     34\u001B[0m         \u001B[38;5;124m'\u001B[39m\u001B[38;5;124mpreprocessor__pipeline-2__standardscaler\u001B[39m\u001B[38;5;124m'\u001B[39m: [StandardScaler(), MinMaxScaler(), \u001B[38;5;124m'\u001B[39m\u001B[38;5;124mpassthrough\u001B[39m\u001B[38;5;124m'\u001B[39m]\n\u001B[1;32m     35\u001B[0m     },\n\u001B[1;32m     36\u001B[0m     \u001B[38;5;66;03m# словарь для модели MLP()\u001B[39;00m\n\u001B[1;32m     37\u001B[0m     {\n\u001B[1;32m     38\u001B[0m         \u001B[38;5;124m'\u001B[39m\u001B[38;5;124mmodels\u001B[39m\u001B[38;5;124m'\u001B[39m: [MLPClassifier(random_state\u001B[38;5;241m=\u001B[39mRANDOM_STATE)],\n\u001B[1;32m     39\u001B[0m         \u001B[38;5;124m'\u001B[39m\u001B[38;5;124mmodels__hidden_layer_sizesr\u001B[39m\u001B[38;5;124m'\u001B[39m: [(\u001B[38;5;241m64\u001B[39m,), (\u001B[38;5;241m128\u001B[39m,), (\u001B[38;5;241m64\u001B[39m, \u001B[38;5;241m64\u001B[39m)],\n\u001B[1;32m     40\u001B[0m         \u001B[38;5;124m'\u001B[39m\u001B[38;5;124mmodels__hidden_layer_alpha\u001B[39m\u001B[38;5;124m'\u001B[39m: [(\u001B[38;5;241m64\u001B[39m,), (\u001B[38;5;241m128\u001B[39m,), (\u001B[38;5;241m64\u001B[39m, \u001B[38;5;241m64\u001B[39m)],\n\u001B[1;32m     41\u001B[0m         \u001B[38;5;124m'\u001B[39m\u001B[38;5;124mpreprocessor__pipeline-2__standardscaler\u001B[39m\u001B[38;5;124m'\u001B[39m: [StandardScaler(), MinMaxScaler(), \u001B[38;5;124m'\u001B[39m\u001B[38;5;124mpassthrough\u001B[39m\u001B[38;5;124m'\u001B[39m]\n\u001B[1;32m     42\u001B[0m     }\n\u001B[1;32m     43\u001B[0m ]\n\u001B[1;32m     45\u001B[0m randomized_search \u001B[38;5;241m=\u001B[39m RandomizedSearchCV(\n\u001B[1;32m     46\u001B[0m     pipe_final,\n\u001B[1;32m     47\u001B[0m     param_grid,\n\u001B[1;32m     48\u001B[0m     cv\u001B[38;5;241m=\u001B[39m\u001B[38;5;241m5\u001B[39m,\n\u001B[1;32m     49\u001B[0m     scoring\u001B[38;5;241m=\u001B[39m\u001B[38;5;124m'\u001B[39m\u001B[38;5;124mneg_mean_absolute_error\u001B[39m\u001B[38;5;124m'\u001B[39m\n\u001B[1;32m     50\u001B[0m )\n\u001B[1;32m     52\u001B[0m randomized_search\n",
      "\u001B[0;31mNameError\u001B[0m: name 'RANDOM_STATE' is not defined"
     ]
    }
   ],
   "execution_count": 33
  },
  {
   "metadata": {
    "ExecuteTime": {
     "end_time": "2024-04-15T08:10:12.020059Z",
     "start_time": "2024-04-15T08:10:12.006054Z"
    }
   },
   "cell_type": "code",
   "source": [
    "randomized_search.fit(X_train, y_train)\n",
    "print('Лучшая модель и её параметры:\\n\\n', randomized_search.best_estimator_)\n",
    "print('Метрика лучшей модели на тренировочной выборке:', round(randomized_search.best_score_, 2))"
   ],
   "id": "7d0fa61c854dfeea",
   "outputs": [
    {
     "ename": "NameError",
     "evalue": "name 'randomized_search' is not defined",
     "output_type": "error",
     "traceback": [
      "\u001B[0;31m---------------------------------------------------------------------------\u001B[0m",
      "\u001B[0;31mNameError\u001B[0m                                 Traceback (most recent call last)",
      "Cell \u001B[0;32mIn[34], line 1\u001B[0m\n\u001B[0;32m----> 1\u001B[0m \u001B[43mrandomized_search\u001B[49m\u001B[38;5;241m.\u001B[39mfit(X_train, y_train)\n\u001B[1;32m      2\u001B[0m \u001B[38;5;28mprint\u001B[39m(\u001B[38;5;124m'\u001B[39m\u001B[38;5;124mЛучшая модель и её параметры:\u001B[39m\u001B[38;5;130;01m\\n\u001B[39;00m\u001B[38;5;130;01m\\n\u001B[39;00m\u001B[38;5;124m'\u001B[39m, randomized_search\u001B[38;5;241m.\u001B[39mbest_estimator_)\n\u001B[1;32m      3\u001B[0m \u001B[38;5;28mprint\u001B[39m(\u001B[38;5;124m'\u001B[39m\u001B[38;5;124mМетрика лучшей модели на тренировочной выборке:\u001B[39m\u001B[38;5;124m'\u001B[39m, \u001B[38;5;28mround\u001B[39m(randomized_search\u001B[38;5;241m.\u001B[39mbest_score_, \u001B[38;5;241m2\u001B[39m))\n",
      "\u001B[0;31mNameError\u001B[0m: name 'randomized_search' is not defined"
     ]
    }
   ],
   "execution_count": 34
  },
  {
   "metadata": {
    "ExecuteTime": {
     "end_time": "2024-04-15T08:10:12.068694Z",
     "start_time": "2024-04-15T08:10:12.054424Z"
    }
   },
   "cell_type": "code",
   "source": "randomized_search.best_estimator_.named_steps['models']",
   "id": "811fae08468b5799",
   "outputs": [
    {
     "ename": "NameError",
     "evalue": "name 'randomized_search' is not defined",
     "output_type": "error",
     "traceback": [
      "\u001B[0;31m---------------------------------------------------------------------------\u001B[0m",
      "\u001B[0;31mNameError\u001B[0m                                 Traceback (most recent call last)",
      "Cell \u001B[0;32mIn[35], line 1\u001B[0m\n\u001B[0;32m----> 1\u001B[0m \u001B[43mrandomized_search\u001B[49m\u001B[38;5;241m.\u001B[39mbest_estimator_\u001B[38;5;241m.\u001B[39mnamed_steps[\u001B[38;5;124m'\u001B[39m\u001B[38;5;124mmodels\u001B[39m\u001B[38;5;124m'\u001B[39m]\n",
      "\u001B[0;31mNameError\u001B[0m: name 'randomized_search' is not defined"
     ]
    }
   ],
   "execution_count": 35
  },
  {
   "metadata": {
    "ExecuteTime": {
     "end_time": "2024-04-15T08:10:12.088181Z",
     "start_time": "2024-04-15T08:10:12.076202Z"
    }
   },
   "cell_type": "code",
   "source": [
    "preds = randomized_search.predict(X_test)\n",
    "print(classification_report(y_test, preds))"
   ],
   "id": "6a14d1931a3cae2f",
   "outputs": [
    {
     "ename": "NameError",
     "evalue": "name 'randomized_search' is not defined",
     "output_type": "error",
     "traceback": [
      "\u001B[0;31m---------------------------------------------------------------------------\u001B[0m",
      "\u001B[0;31mNameError\u001B[0m                                 Traceback (most recent call last)",
      "Cell \u001B[0;32mIn[36], line 1\u001B[0m\n\u001B[0;32m----> 1\u001B[0m preds \u001B[38;5;241m=\u001B[39m \u001B[43mrandomized_search\u001B[49m\u001B[38;5;241m.\u001B[39mpredict(X_test)\n\u001B[1;32m      2\u001B[0m \u001B[38;5;28mprint\u001B[39m(classification_report(y_test, preds))\n",
      "\u001B[0;31mNameError\u001B[0m: name 'randomized_search' is not defined"
     ]
    }
   ],
   "execution_count": 36
  },
  {
   "metadata": {
    "ExecuteTime": {
     "end_time": "2024-04-15T08:10:12.153167Z",
     "start_time": "2024-04-15T08:10:12.134509Z"
    }
   },
   "cell_type": "code",
   "source": [
    "aa()\n",
    "pipe_final.named_steps['models'].feature_importances_"
   ],
   "id": "51e8391ebe7d06f2",
   "outputs": [
    {
     "ename": "NameError",
     "evalue": "name 'aa' is not defined",
     "output_type": "error",
     "traceback": [
      "\u001B[0;31m---------------------------------------------------------------------------\u001B[0m",
      "\u001B[0;31mNameError\u001B[0m                                 Traceback (most recent call last)",
      "Cell \u001B[0;32mIn[37], line 1\u001B[0m\n\u001B[0;32m----> 1\u001B[0m \u001B[43maa\u001B[49m()\n\u001B[1;32m      2\u001B[0m pipe_final\u001B[38;5;241m.\u001B[39mnamed_steps[\u001B[38;5;124m'\u001B[39m\u001B[38;5;124mmodels\u001B[39m\u001B[38;5;124m'\u001B[39m]\u001B[38;5;241m.\u001B[39mfeature_importances_\n",
      "\u001B[0;31mNameError\u001B[0m: name 'aa' is not defined"
     ]
    }
   ],
   "execution_count": 37
  },
  {
   "metadata": {
    "ExecuteTime": {
     "end_time": "2024-04-15T08:10:12.185526Z",
     "start_time": "2024-04-15T08:10:12.166536Z"
    }
   },
   "cell_type": "code",
   "source": [
    "feature_importances = pipe_final.named_steps['models'].feature_importances_\n",
    "feature_names = preprocessor.get_feature_names_out()\n",
    "feature_names"
   ],
   "id": "bbb53efa3a1e8dce",
   "outputs": [
    {
     "ename": "NameError",
     "evalue": "name 'pipe_final' is not defined",
     "output_type": "error",
     "traceback": [
      "\u001B[0;31m---------------------------------------------------------------------------\u001B[0m",
      "\u001B[0;31mNameError\u001B[0m                                 Traceback (most recent call last)",
      "Cell \u001B[0;32mIn[38], line 1\u001B[0m\n\u001B[0;32m----> 1\u001B[0m feature_importances \u001B[38;5;241m=\u001B[39m \u001B[43mpipe_final\u001B[49m\u001B[38;5;241m.\u001B[39mnamed_steps[\u001B[38;5;124m'\u001B[39m\u001B[38;5;124mmodels\u001B[39m\u001B[38;5;124m'\u001B[39m]\u001B[38;5;241m.\u001B[39mfeature_importances_\n\u001B[1;32m      2\u001B[0m feature_names \u001B[38;5;241m=\u001B[39m preprocessor\u001B[38;5;241m.\u001B[39mget_feature_names_out()\n\u001B[1;32m      3\u001B[0m feature_names\n",
      "\u001B[0;31mNameError\u001B[0m: name 'pipe_final' is not defined"
     ]
    }
   ],
   "execution_count": 38
  },
  {
   "metadata": {
    "ExecuteTime": {
     "end_time": "2024-04-15T08:10:12.241080Z",
     "start_time": "2024-04-15T08:10:12.219489Z"
    }
   },
   "cell_type": "code",
   "source": "pd.DataFrame(feature_importances, index=feature_names).head(10).sort_values(by=0).plot(kind='barh')",
   "id": "b62a8895f3bd6a7a",
   "outputs": [
    {
     "ename": "NameError",
     "evalue": "name 'feature_importances' is not defined",
     "output_type": "error",
     "traceback": [
      "\u001B[0;31m---------------------------------------------------------------------------\u001B[0m",
      "\u001B[0;31mNameError\u001B[0m                                 Traceback (most recent call last)",
      "Cell \u001B[0;32mIn[39], line 1\u001B[0m\n\u001B[0;32m----> 1\u001B[0m pd\u001B[38;5;241m.\u001B[39mDataFrame(\u001B[43mfeature_importances\u001B[49m, index\u001B[38;5;241m=\u001B[39mfeature_names)\u001B[38;5;241m.\u001B[39mhead(\u001B[38;5;241m10\u001B[39m)\u001B[38;5;241m.\u001B[39msort_values(by\u001B[38;5;241m=\u001B[39m\u001B[38;5;241m0\u001B[39m)\u001B[38;5;241m.\u001B[39mplot(kind\u001B[38;5;241m=\u001B[39m\u001B[38;5;124m'\u001B[39m\u001B[38;5;124mbarh\u001B[39m\u001B[38;5;124m'\u001B[39m)\n",
      "\u001B[0;31mNameError\u001B[0m: name 'feature_importances' is not defined"
     ]
    }
   ],
   "execution_count": 39
  },
  {
   "metadata": {
    "ExecuteTime": {
     "end_time": "2024-04-15T08:10:12.247116Z",
     "start_time": "2024-04-15T08:10:12.244936Z"
    }
   },
   "cell_type": "code",
   "source": [
    "# model = randomized_search.best_estimator_.named_steps['models']\n",
    "# preprocessor = randomized_search.best_estimator_.named_steps['preprocessor']\n",
    "# \n",
    "# feature_importances = pd.DataFrame(\n",
    "#     {\n",
    "#         'Feature': preprocessor.get_feature_names_out(),\n",
    "#         'Importance': model.feature_importances_\n",
    "#     }).sort_values(by='Importance', ascending=False)\n",
    "# feature_importances.head(10)"
   ],
   "id": "d9cf02e538552624",
   "outputs": [],
   "execution_count": 40
  },
  {
   "metadata": {
    "ExecuteTime": {
     "end_time": "2024-04-15T08:10:12.291798Z",
     "start_time": "2024-04-15T08:10:12.289565Z"
    }
   },
   "cell_type": "code",
   "source": [
    "# ax = sns.barplot(x='Importance', y='Feature', data=feature_importances.head(10))\n",
    "# ax.set_title('Важность признаков', fontsize=16)\n",
    "# ax.set_xlabel('Важность (доля)', fontsize=14)\n",
    "# ax.set_ylabel('Признак', fontsize=14)\n",
    "# plt.show()"
   ],
   "id": "b4de6d6e3efacef4",
   "outputs": [],
   "execution_count": 41
  }
 ],
 "metadata": {
  "kernelspec": {
   "display_name": "Python 3",
   "language": "python",
   "name": "python3"
  },
  "language_info": {
   "codemirror_mode": {
    "name": "ipython",
    "version": 2
   },
   "file_extension": ".py",
   "mimetype": "text/x-python",
   "name": "python",
   "nbconvert_exporter": "python",
   "pygments_lexer": "ipython2",
   "version": "2.7.6"
  }
 },
 "nbformat": 4,
 "nbformat_minor": 5
}
